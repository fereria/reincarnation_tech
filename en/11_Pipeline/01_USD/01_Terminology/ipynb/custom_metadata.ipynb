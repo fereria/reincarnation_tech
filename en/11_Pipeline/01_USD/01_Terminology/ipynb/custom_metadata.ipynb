{
 "metadata": {
  "language_info": {
   "codemirror_mode": {
    "name": "ipython",
    "version": 3
   },
   "file_extension": ".py",
   "mimetype": "text/x-python",
   "name": "python",
   "nbconvert_exporter": "python",
   "pygments_lexer": "ipython3",
   "version": "3.7.7"
  },
  "orig_nbformat": 2,
  "kernelspec": {
   "name": "python377jvsc74a57bd090ad37beec7e816fa6224594e71540722bf31854ba11f3943a77de50e81485ba",
   "display_name": "Python 3.7.7 64-bit"
  },
  "metadata": {
   "interpreter": {
    "hash": "63fd5069d213b44bf678585dea6b12cceca9941eaf7f819626cde1f2670de90d"
   }
  }
 },
 "nbformat": 4,
 "nbformat_minor": 2,
 "cells": [
  {
   "cell_type": "code",
   "execution_count": 2,
   "metadata": {},
   "outputs": [
    {
     "output_type": "stream",
     "name": "stdout",
     "text": [
      "#usda 1.0\n\ndef \"samplePrim\" (\n    sample_metadata = \"hogehoge\"\n)\n{\n}\n\n\n"
     ]
    }
   ],
   "source": [
    "from pxr import Usd,Sdf\n",
    "stage = Usd.Stage.CreateInMemory()\n",
    "prim = stage.DefinePrim('/samplePrim')\n",
    "# Metadataを指定する\n",
    "prim.SetMetadata('sample_metadata','hogehoge')\n",
    "print(stage.GetRootLayer().ExportToString())"
   ]
  },
  {
   "cell_type": "code",
   "execution_count": 3,
   "metadata": {},
   "outputs": [
    {
     "output_type": "stream",
     "name": "stdout",
     "text": [
      "#usda 1.0\n(\n    layer_metadata = \"hoge\"\n)\n\n\n"
     ]
    }
   ],
   "source": [
    "stage = Usd.Stage.CreateInMemory()\n",
    "layer = stage.GetRootLayer()\n",
    "# Layerに対してMetadataを追加する\n",
    "pseudoRoot = stage.GetPseudoRoot()\n",
    "pseudoRoot.SetMetadata('layer_metadata','hoge')\n",
    "print(layer.ExportToString())"
   ]
  },
  {
   "cell_type": "code",
   "execution_count": 1,
   "metadata": {},
   "outputs": [
    {
     "output_type": "stream",
     "name": "stdout",
     "text": [
      "#usda 1.0\n\ndef \"samplePrim\" (\n    sample_metadata = \"hogehoge\"\n)\n{\n    custom int sampleAttr = 100 (\n        attr_metadata = 123\n    )\n}\n\n\n"
     ]
    }
   ],
   "source": [
    "from pxr import Usd,Sdf\n",
    "stage = Usd.Stage.CreateInMemory()\n",
    "prim = stage.DefinePrim('/samplePrim')\n",
    "attr = prim.CreateAttribute('sampleAttr',Sdf.ValueTypeNames.Int)\n",
    "attr.Set(100)\n",
    "attr.SetMetadata('attr_metadata',123)\n",
    "# Metadataを指定する\n",
    "prim.SetMetadata('sample_metadata','hogehoge')\n",
    "print(stage.GetRootLayer().ExportToString())"
   ]
  }
 ]
}