{
 "metadata": {
  "language_info": {
   "codemirror_mode": {
    "name": "ipython",
    "version": 3
   },
   "file_extension": ".py",
   "mimetype": "text/x-python",
   "name": "python",
   "nbconvert_exporter": "python",
   "pygments_lexer": "ipython3",
   "version": "3.7.7-final"
  },
  "orig_nbformat": 2,
  "kernelspec": {
   "name": "python3",
   "display_name": "Python 3.7.7 64-bit ('py37': pipenv)",
   "metadata": {
    "interpreter": {
     "hash": "3e9efe9dc9d56cd32f3e3638880e3a92603c162216d6e7d94a2fa75d169a32ce"
    }
   }
  }
 },
 "nbformat": 4,
 "nbformat_minor": 2,
 "cells": [
  {
   "source": [
    "![](https://gyazo.com/3cff154efad7ae5d9276b781d0ac9703.png)\n",
    "\n",
    "こんな感じの最寄りのJointにweight1つけたシンプルなCubeでテスト"
   ],
   "cell_type": "markdown",
   "metadata": {}
  },
  {
   "cell_type": "code",
   "execution_count": 118,
   "metadata": {},
   "outputs": [],
   "source": [
    "from pxr import Usd,UsdSkel,UsdGeom"
   ]
  },
  {
   "cell_type": "code",
   "execution_count": 107,
   "metadata": {},
   "outputs": [],
   "source": [
    "stage = Usd.Stage.Open(r\"D:\\SimpleSkelB.usd\")"
   ]
  },
  {
   "cell_type": "code",
   "execution_count": 108,
   "metadata": {},
   "outputs": [],
   "source": [
    "rootPrim = stage.GetPrimAtPath(\"/World/Root\")\n",
    "usdRoot = UsdSkel.Root(rootPrim)"
   ]
  },
  {
   "cell_type": "code",
   "execution_count": 109,
   "metadata": {},
   "outputs": [],
   "source": [
    "# UsdSkelSkeleton は、Skeletonのトポロジー定義し、BindPoseを保持する\n",
    "skel = UsdSkel.Skeleton(stage.GetPrimAtPath(\"/World/Root/joint1\"))\n",
    "# Animation は、SkeletonとBlendShapeのアニメーションを保持する\n",
    "anim = UsdSkel.Animation(stage.GetPrimAtPath(\"/World/Root/joint1/Animation\"))"
   ]
  },
  {
   "cell_type": "code",
   "execution_count": 110,
   "metadata": {},
   "outputs": [
    {
     "output_type": "stream",
     "name": "stdout",
     "text": [
      "[(1, 0, 0, 0), (1, 0, 0, 0)]\n[(0, 0, 0), (0, 2, 0)]\n[(1, 1, 1), (1, 1, 1)]\n"
     ]
    }
   ],
   "source": [
    "skelPrim = skel.GetPrim()\n",
    "# SkeletonのAnimationはRelationでAnimationPrimが指定されている\n",
    "animPath = skelPrim.GetRelationship(\"skel:animationSource\").GetTargets()[0]\n",
    "# Animationの値はVector\n",
    "print(anim.GetRotationsAttr().Get())\n",
    "print(anim.GetTranslationsAttr().Get())\n",
    "print(anim.GetScalesAttr().Get())"
   ]
  },
  {
   "cell_type": "code",
   "execution_count": 111,
   "metadata": {},
   "outputs": [
    {
     "output_type": "stream",
     "name": "stdout",
     "text": [
      "joint1\njoint1/joint2\n"
     ]
    }
   ],
   "source": [
    "# UsdSkelの構造を取得\n",
    "# UsdSkelは、SkeletonPrimのアトリビュートとしてSkeletonの構造を持つ\n",
    "for i in skel.GetJointsAttr().Get():\n",
    "    print(i)"
   ]
  },
  {
   "cell_type": "code",
   "execution_count": 112,
   "metadata": {},
   "outputs": [
    {
     "output_type": "stream",
     "name": "stdout",
     "text": [
      "2\nTrue\njoint1/joint2\njoint1\n"
     ]
    }
   ],
   "source": [
    "# Skelの構造は Topology を利用すると解析できる\n",
    "joints = skel.GetJointsAttr().Get()\n",
    "topology = UsdSkel.Topology(skel.GetJointsAttr().Get())\n",
    "\n",
    "# Joint数を取得\n",
    "print(topology.GetNumJoints())\n",
    "# 引数のIndexがRootかどうか返す\n",
    "print(topology.IsRoot(0))\n",
    "# 引数のIndexのParentのIndexを取得する\n",
    "print(joints[1])\n",
    "parentIndex = topology.GetParent(1)\n",
    "print(joints[parentIndex])\n",
    "\n",
    "# ParentのIndexを全部取得 -1 がRoot\n",
    "# print(topology.GetParentIndices())"
   ]
  },
  {
   "cell_type": "code",
   "execution_count": 113,
   "metadata": {},
   "outputs": [
    {
     "output_type": "stream",
     "name": "stdout",
     "text": [
      "( (1, 0, 0, 0), (0, 1, 0, 0), (0, 0, 1, 0), (0, 0, 0, 1) )\n( (1, 0, 0, 0), (0, 1, 0, 0), (0, 0, 1, 0), (0, 2, 0, 1) )\n"
     ]
    }
   ],
   "source": [
    "# JointsAttr の配列に対応するTransformのリスト\n",
    "# 配列はWorldSpaceのMatrix(GfMatrix4d)\n",
    "for i in skel.GetBindTransformsAttr().Get():\n",
    "    print(i)"
   ]
  },
  {
   "cell_type": "code",
   "execution_count": 114,
   "metadata": {},
   "outputs": [],
   "source": [
    "meshPrim = stage.GetPrimAtPath(\"/World/Root/Geom/pCube1\")\n",
    "\n",
    "bindingAPI = UsdSkel.BindingAPI(meshPrim)"
   ]
  },
  {
   "cell_type": "code",
   "execution_count": 115,
   "metadata": {},
   "outputs": [
    {
     "output_type": "stream",
     "name": "stdout",
     "text": [
      "[joint1, joint1/joint2]\n"
     ]
    },
    {
     "output_type": "execute_result",
     "data": {
      "text/plain": [
       "[Sdf.Path('/World/Root/joint1')]"
      ]
     },
     "metadata": {},
     "execution_count": 115
    }
   ],
   "source": [
    "# Mesh にBindされているJointをリストできる\n",
    "print(bindingAPI.GetJointsAttr().Get())\n",
    "# SkeletonPrimのPathを取得する\n",
    "bindingAPI.GetSkeletonRel().GetTargets() "
   ]
  },
  {
   "cell_type": "code",
   "execution_count": 119,
   "metadata": {},
   "outputs": [],
   "source": [
    "# WeightのついているMeshのVertexの値を確認してみる\n",
    "mesh = UsdGeom.Mesh(stage.GetPrimAtPath(\"/World/Root/Geom/pCube1\"))"
   ]
  },
  {
   "cell_type": "code",
   "execution_count": 125,
   "metadata": {},
   "outputs": [
    {
     "output_type": "stream",
     "name": "stdout",
     "text": [
      "(-0.5, -0.5, 0.5)\n(0.5, -0.5, 0.5)\n(-0.5, 0.5, 0.5)\n(0.5, 0.5, 0.5)\n(-0.5, 0.5, -0.5)\n(0.5, 0.5, -0.5)\n(-0.5, -0.5, -0.5)\n(0.5, -0.5, -0.5)\n"
     ]
    }
   ],
   "source": [
    "# 上の頂点のIndexは 2 3 4 5\n",
    "for i in mesh.GetPointsAttr().Get():\n",
    "    print(i)"
   ]
  },
  {
   "cell_type": "code",
   "execution_count": 129,
   "metadata": {
    "tags": []
   },
   "outputs": [
    {
     "output_type": "stream",
     "name": "stdout",
     "text": [
      "[1, 0]\n[0.9998923, 0.00010770559]\n[0, 1]\n[0.99999505, 0.0000049471855]\n"
     ]
    }
   ],
   "source": [
    "# MeshのSkin情報は primvars:skel:jointIndices と primvars:skel:jointWeights で保持されている。\n",
    "# indeces は、あるVtxの影響をしているJointのIndex weightはそのIndexの影響力のWeightを持つ\n",
    "# このIndexは、 VertexSize * JointNum 分のIndex\n",
    "indicesPrimvar = bindingAPI.GetJointIndicesPrimvar() # UsdGeomPrimvar\n",
    "weightPrimvar = bindingAPI.GetJointWeightsAttr() # UsdGeomPrimvar\n",
    "# Indexの並び順は\n",
    "# 上の頂点のWeight\n",
    "print(indicesPrimvar.Get(0)[4:6])\n",
    "print(weightPrimvar.Get(0)[4:6])\n",
    "# 下の頂点のWeight\n",
    "print(indicesPrimvar.Get(0)[0:2])\n",
    "print(weightPrimvar.Get(0)[0:2])"
   ]
  }
 ]
}