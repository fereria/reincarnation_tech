{
 "metadata": {
  "language_info": {
   "codemirror_mode": {
    "name": "ipython",
    "version": 3
   },
   "file_extension": ".py",
   "mimetype": "text/x-python",
   "name": "python",
   "nbconvert_exporter": "python",
   "pygments_lexer": "ipython3",
   "version": "3.6.6-final"
  },
  "orig_nbformat": 2,
  "kernelspec": {
   "name": "python3",
   "display_name": "Python 3"
  }
 },
 "nbformat": 4,
 "nbformat_minor": 2,
 "cells": [
  {
   "cell_type": "code",
   "execution_count": 23,
   "metadata": {},
   "outputs": [],
   "source": [
    "from pxr import Usd,Sdf"
   ]
  },
  {
   "cell_type": "code",
   "execution_count": 24,
   "metadata": {},
   "outputs": [
    {
     "output_type": "execute_result",
     "data": {
      "text/plain": [
       "True"
      ]
     },
     "metadata": {},
     "execution_count": 24
    }
   ],
   "source": [
    "stage = Usd.Stage.CreateInMemory()\n",
    "prim = stage.DefinePrim('/testPrim')\n",
    "primB = stage.DefinePrim('/refPrim')\n",
    "\n",
    "primB.CreateAttribute('refPrimAddAttr',Sdf.ValueTypeNames.String).Set('refPrim')"
   ]
  },
  {
   "cell_type": "code",
   "execution_count": 25,
   "metadata": {},
   "outputs": [
    {
     "output_type": "stream",
     "name": "stdout",
     "text": [
      "hogehoge\nUsd.Prim(</testPrim>)\n"
     ]
    }
   ],
   "source": [
    "# VariantSetを定義する\n",
    "vset = prim.GetVariantSets().AddVariantSet('hogehoge')\n",
    "vset.AddVariant('hoge')\n",
    "vset.AddVariant('fuga')\n",
    "# 名前の取得\n",
    "print(vset.GetName())\n",
    "# VariantSetが設定されているPrimの取得\n",
    "print(vset.GetPrim())"
   ]
  },
  {
   "cell_type": "code",
   "execution_count": 26,
   "metadata": {},
   "outputs": [
    {
     "output_type": "stream",
     "name": "stdout",
     "text": [
      "['hogehoge']\n"
     ]
    }
   ],
   "source": [
    "# VarinatSetのリストを取得\n",
    "print(prim.GetVariantSets().GetNames())"
   ]
  },
  {
   "source": [
    "# Variantで選択される値をセットする\n",
    "# セットするときは設定したいVariantを選択状態にする\n",
    "vset.SetVariantSelection('fuga')\n",
    "with vset.GetVariantEditContext():\n",
    "    # Variantが指定されたPrimに対してアトリビュートを追加定義\n",
    "    vset.GetPrim().CreateAttribute('test',Sdf.ValueTypeNames.Bool).Set(True)\n",
    "    # with内でPrimをDefineすると、このVarinat以下にPrimを追加できる\n",
    "    childPath = vset.GetPrim().GetPath().AppendChild('hoge')\n",
    "    cPrim = stage.DefinePrim(childPath)"
   ],
   "cell_type": "code",
   "metadata": {},
   "execution_count": 27,
   "outputs": []
  },
  {
   "cell_type": "code",
   "execution_count": 28,
   "metadata": {},
   "outputs": [],
   "source": [
    "vset.SetVariantSelection('hoge')\n",
    "with vset.GetVariantEditContext():\n",
    "    # Variantが指定されているPrimに対してReferenceを追加したい場合も\n",
    "    # with 内でGetReference AddReferenceすることでReferenceを追加できる。\n",
    "    # MEMO:同じレイヤー内のPrimをリファレンスする場合は AddInternalReference を使う。\n",
    "    vset.GetPrim().GetReferences().AddInternalReference('/refPrim')"
   ]
  },
  {
   "cell_type": "code",
   "execution_count": 29,
   "metadata": {},
   "outputs": [
    {
     "output_type": "stream",
     "name": "stdout",
     "text": [
      "hoge\n"
     ]
    }
   ],
   "source": [
    "# 今の選択しているVariantNameを取得\n",
    "print(vset.GetVariantSelection())"
   ]
  },
  {
   "cell_type": "code",
   "execution_count": 30,
   "metadata": {},
   "outputs": [
    {
     "output_type": "stream",
     "name": "stdout",
     "text": [
      "#usda 1.0\n\ndef \"testPrim\" (\n    variants = {\n        string hogehoge = \"hoge\"\n    }\n    prepend variantSets = \"hogehoge\"\n)\n{\n    variantSet \"hogehoge\" = {\n        \"fuga\" {\n            custom bool test = 1\n\n            def \"hoge\"\n            {\n            }\n\n        }\n        \"hoge\" (\n            prepend references = </refPrim>\n        ) {\n\n        }\n    }\n}\n\ndef \"refPrim\"\n{\n    custom string refPrimAddAttr = \"refPrim\"\n}\n\n\n"
     ]
    },
    {
     "output_type": "execute_result",
     "data": {
      "text/plain": [
       "True"
      ]
     },
     "metadata": {},
     "execution_count": 30
    }
   ],
   "source": [
    "print(stage.GetRootLayer().ExportToString())\n",
    "stage.GetRootLayer().Export(\"D:/test.usda\")"
   ]
  }
 ]
}