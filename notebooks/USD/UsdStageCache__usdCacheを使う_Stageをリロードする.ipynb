{
 "metadata": {
  "language_info": {
   "codemirror_mode": {
    "name": "ipython",
    "version": 3
   },
   "file_extension": ".py",
   "mimetype": "text/x-python",
   "name": "python",
   "nbconvert_exporter": "python",
   "pygments_lexer": "ipython3",
   "version": "3.6.6-final"
  },
  "orig_nbformat": 2,
  "kernelspec": {
   "name": "Python 3.6.6 64-bit",
   "display_name": "Python 3.6.6 64-bit",
   "metadata": {
    "interpreter": {
     "hash": "49fe35232215d10bb53c70fdc7953f3889c7509015122e64fa516da050a8ed66"
    }
   }
  }
 },
 "nbformat": 4,
 "nbformat_minor": 2,
 "cells": [
  {
   "source": [
    "USDのステージを依頼たあとにアップデートする方法がようやくわかった。  \n",
    "ついでにCacheまわり。  \n",
    "開いたStageはキャッシュに入れることができる。  \n",
    "  \n",
    "UsdUtils.StageCache（シングルトンのUsdCache）を取得してから、  \n",
    "そのStageCacheにステージを入れておくと  \n",
    "あとでそのStageを取得できたりするらしい。  "
   ],
   "cell_type": "markdown",
   "metadata": {}
  },
  {
   "cell_type": "code",
   "execution_count": 1,
   "metadata": {},
   "outputs": [],
   "source": [
    "from pxr import Usd,Pcp,UsdUtils"
   ]
  },
  {
   "cell_type": "code",
   "execution_count": 2,
   "metadata": {},
   "outputs": [],
   "source": [
    "stage = Usd.Stage.Open(r'S:\\fav\\work\\programming\\python\\JupyterUSD\\pyDev\\usd\\root.usda')\n",
    "# 一度ロードした内容を更新したい場合は、Reloadを実行する\n",
    "# これを実行しないと、途中でusdをアップデートしてもロードされない\n",
    "stage.Reload()\n",
    "# UsdUtils.StageCache はシングルトン\n",
    "cache = UsdUtils.StageCache.Get()\n",
    "cacheID = cache.Insert(stage)"
   ]
  },
  {
   "cell_type": "code",
   "execution_count": 3,
   "metadata": {},
   "outputs": [],
   "source": [
    "prim = stage.GetPrimAtPath('/sublayerReference')"
   ]
  },
  {
   "cell_type": "code",
   "execution_count": 4,
   "metadata": {},
   "outputs": [
    {
     "output_type": "stream",
     "name": "stdout",
     "text": [
      "Usd.Prim(</subLayerB>)\nUsd.Prim(</subLayerA>)\nUsd.Prim(</sublayerReference>)\nUsd.Prim(</Cube>)\n"
     ]
    }
   ],
   "source": [
    "for i in stage.Traverse():\n",
    "    print(i)"
   ]
  },
  {
   "cell_type": "code",
   "execution_count": 5,
   "metadata": {},
   "outputs": [
    {
     "output_type": "stream",
     "name": "stdout",
     "text": [
      "Usd.Stage.Open(rootLayer=Sdf.Find('s:/fav/work/programming/python/JupyterUSD/pyDev/usd/root.usda'), sessionLayer=Sdf.Find('anon:000002C12DA6C1B0:root-session.usda'), pathResolverContext=Ar.DefaultResolverContext(['S:\\\\fav\\\\work\\\\programming\\\\python\\\\JupyterUSD\\\\pyDev\\\\usd\\\\']))\n"
     ]
    }
   ],
   "source": [
    "# キャッシュに入れていたStageを確認する\n",
    "for s in cache.GetAllStages():\n",
    "    print(s)"
   ]
  },
  {
   "cell_type": "code",
   "execution_count": 6,
   "metadata": {},
   "outputs": [],
   "source": [
    "# キャッシュからStageを探して取得\n",
    "stage = cache.Find(cacheID)"
   ]
  },
  {
   "cell_type": "code",
   "execution_count": 7,
   "metadata": {},
   "outputs": [
    {
     "output_type": "stream",
     "name": "stdout",
     "text": [
      "Usd.Prim(</subLayerB>)\nUsd.Prim(</subLayerA>)\nUsd.Prim(</sublayerReference>)\nUsd.Prim(</Cube>)\n"
     ]
    }
   ],
   "source": [
    "# Stage内のPrimを確認\n",
    "for i in stage.Traverse():\n",
    "    print(i)"
   ]
  },
  {
   "cell_type": "code",
   "execution_count": 8,
   "metadata": {},
   "outputs": [],
   "source": [
    "# キャッシュをクリア\n",
    "cache.Clear()"
   ]
  }
 ]
}