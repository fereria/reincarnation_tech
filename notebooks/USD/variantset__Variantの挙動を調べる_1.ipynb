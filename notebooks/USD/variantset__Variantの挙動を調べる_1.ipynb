{
 "cells": [
  {
   "cell_type": "code",
   "execution_count": 123,
   "metadata": {},
   "outputs": [],
   "source": [
    "from pxr import Usd,Sdf"
   ]
  },
  {
   "cell_type": "code",
   "execution_count": 124,
   "metadata": {},
   "outputs": [],
   "source": [
    "stage = Usd.Stage.CreateInMemory()\n",
    "prim = stage.DefinePrim(\"/VariantSet\")"
   ]
  },
  {
   "cell_type": "code",
   "execution_count": 125,
   "metadata": {},
   "outputs": [
    {
     "output_type": "stream",
     "name": "stdout",
     "text": "<pxr.Usd.VariantSet object at 0x000002C0014160B8>\n"
    }
   ],
   "source": [
    "vset = prim.GetVariantSets().AddVariantSet('hogehoge')\n",
    "vset.AddVariant('A')\n",
    "vset.AddVariant('B')\n",
    "vset.AddVariant('C')\n",
    "print(vset)"
   ]
  },
  {
   "cell_type": "code",
   "execution_count": 126,
   "metadata": {},
   "outputs": [
    {
     "output_type": "execute_result",
     "data": {
      "text/plain": "['hogehoge']"
     },
     "metadata": {},
     "execution_count": 126
    }
   ],
   "source": [
    "# VariantSetを取得\n",
    "prim.GetVariantSets().GetNames()"
   ]
  },
  {
   "cell_type": "code",
   "execution_count": 127,
   "metadata": {},
   "outputs": [
    {
     "output_type": "stream",
     "name": "stdout",
     "text": "A\nUsd.Prim(</VariantSet>)\n"
    }
   ],
   "source": [
    "vset = prim.GetVariantSets().GetVariantSet(\"hogehoge\")\n",
    "vset.SetVariantSelection('A')\n",
    "# 今選択されているものを表示\n",
    "print(vset.GetVariantSelection())\n",
    "# VariatnSetがあるPrimを取得\n",
    "print(vset.GetPrim())"
   ]
  },
  {
   "cell_type": "code",
   "execution_count": 128,
   "metadata": {},
   "outputs": [],
   "source": [
    "vset.SetVariantSelection('A')\n",
    "with vset.GetVariantEditContext():\n",
    "    # VariantSet「A」を選んでいる時には VariantSet/hoge というPrimができあがる\n",
    "    childPrim = stage.DefinePrim(prim.GetPath().AppendChild(\"hoge\"))"
   ]
  },
  {
   "cell_type": "code",
   "execution_count": 129,
   "metadata": {},
   "outputs": [],
   "source": [
    "vset.SetVariantSelection('B')\n",
    "with vset.GetVariantEditContext():\n",
    "    childPrim = stage.DefinePrim(prim.GetPath().AppendChild(\"hogeB\"))\n",
    "    childPrim.GetReferences().AddReference(r\"D:\\work\\usd_py36\\usd\\layerB.usda\")"
   ]
  },
  {
   "cell_type": "code",
   "execution_count": 130,
   "metadata": {},
   "outputs": [],
   "source": [
    "vset.SetVariantSelection('C')\n",
    "with vset.GetVariantEditContext():\n",
    "    prim.CreateAttribute(\"TEST\",Sdf.ValueTypeNames.String).Set(\"HOGE\")\n"
   ]
  },
  {
   "cell_type": "code",
   "execution_count": 131,
   "metadata": {},
   "outputs": [
    {
     "output_type": "stream",
     "name": "stdout",
     "text": "#usda 1.0\n\ndef \"VariantSet\" (\n    variants = {\n        string hogehoge = \"C\"\n    }\n    prepend variantSets = \"hogehoge\"\n)\n{\n    variantSet \"hogehoge\" = {\n        \"A\" {\n            def \"hoge\"\n            {\n            }\n\n        }\n        \"B\" {\n            def \"hogeB\" (\n                prepend references = @D:\\work\\usd_py36\\usd\\layerB.usda@\n            )\n            {\n            }\n\n        }\n        \"C\" {\n            custom string TEST = \"HOGE\"\n\n        }\n    }\n}\n\n\n"
    }
   ],
   "source": [
    "print(stage.GetRootLayer().ExportToString())"
   ]
  },
  {
   "cell_type": "code",
   "execution_count": 132,
   "metadata": {},
   "outputs": [
    {
     "output_type": "stream",
     "name": "stdout",
     "text": "#usda 1.0\n(\n    doc = \"\"\"Generated from Composed Stage of root layer \n\"\"\"\n)\n\ndef \"VariantSet\"\n{\n    def \"hoge\"\n    {\n    }\n}\n\n\n"
    }
   ],
   "source": [
    "vset.SetVariantSelection('A')\n",
    "print(stage.Flatten().ExportToString())"
   ]
  },
  {
   "cell_type": "code",
   "execution_count": 133,
   "metadata": {},
   "outputs": [
    {
     "output_type": "stream",
     "name": "stdout",
     "text": "#usda 1.0\n(\n    doc = \"\"\"Generated from Composed Stage of root layer \n\"\"\"\n)\n\ndef \"VariantSet\"\n{\n    def \"hogeB\"\n    {\n    }\n}\n\n\n"
    }
   ],
   "source": [
    "vset.SetVariantSelection('B')\n",
    "print(stage.Flatten().ExportToString())"
   ]
  },
  {
   "cell_type": "code",
   "execution_count": 134,
   "metadata": {},
   "outputs": [
    {
     "output_type": "stream",
     "name": "stdout",
     "text": "#usda 1.0\n(\n    doc = \"\"\"Generated from Composed Stage of root layer \n\"\"\"\n)\n\ndef \"VariantSet\"\n{\n    custom string TEST = \"HOGE\"\n}\n\n\n"
    }
   ],
   "source": [
    "vset.SetVariantSelection('C')\n",
    "print(stage.Flatten().ExportToString())"
   ]
  },
  {
   "cell_type": "code",
   "execution_count": 135,
   "metadata": {},
   "outputs": [
    {
     "output_type": "execute_result",
     "data": {
      "text/plain": "True"
     },
     "metadata": {},
     "execution_count": 135
    }
   ],
   "source": [
    "stage.GetRootLayer().Export(\"D:/test.usda\")"
   ]
  },
  {
   "cell_type": "code",
   "execution_count": 136,
   "metadata": {},
   "outputs": [
    {
     "output_type": "execute_result",
     "data": {
      "text/plain": "[Sdf.Find('anon:000002C06682DA70:tmp.usda', '/VariantSet'),\n Sdf.Find('anon:000002C06682DA70:tmp.usda', '/VariantSet{hogehoge=C}')]"
     },
     "metadata": {},
     "execution_count": 136
    }
   ],
   "source": [
    "prim.GetPrimStack()"
   ]
  },
  {
   "cell_type": "code",
   "execution_count": 138,
   "metadata": {},
   "outputs": [
    {
     "output_type": "stream",
     "name": "stdout",
     "text": "[Sdf.Find('anon:000002C06682DA70:tmp.usda', '/VariantSet{hogehoge=B}hogeB')]\n"
    }
   ],
   "source": [
    "vset.SetVariantSelection('B')\n",
    "a = stage.GetPrimAtPath(\"/VariantSet/hogeB\")\n",
    "print(a.GetPrimStack())"
   ]
  },
  {
   "cell_type": "code",
   "execution_count": 139,
   "metadata": {},
   "outputs": [],
   "source": [
    "spec = a.GetPrimStack()[0] #PrimSpecを取得できる"
   ]
  },
  {
   "cell_type": "code",
   "execution_count": 140,
   "metadata": {},
   "outputs": [
    {
     "output_type": "stream",
     "name": "stdout",
     "text": "D:\\work\\usd_py36\\usd\\layerB.usda\n"
    }
   ],
   "source": [
    "# PrimSpecからReferenceのUSDAは取得できるっぽい\n",
    "for ref in spec.referenceList.prependedItems:\n",
    "    print(ref.assetPath)"
   ]
  }
 ],
 "metadata": {
  "kernelspec": {
   "display_name": "Python 3.6.6 64-bit ('usd_py36': pipenv)",
   "language": "python",
   "name": "python36664bitusdpy36pipenv4358a782b97048b3a6e454cc017651f3"
  },
  "language_info": {
   "codemirror_mode": {
    "name": "ipython",
    "version": 3
   },
   "file_extension": ".py",
   "mimetype": "text/x-python",
   "name": "python",
   "nbconvert_exporter": "python",
   "pygments_lexer": "ipython3",
   "version": "3.6.6-final"
  }
 },
 "nbformat": 4,
 "nbformat_minor": 4
}