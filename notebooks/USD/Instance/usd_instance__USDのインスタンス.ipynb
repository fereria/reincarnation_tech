{
 "cells": [
  {
   "cell_type": "code",
   "execution_count": 32,
   "metadata": {},
   "outputs": [],
   "source": [
    "from pxr import Usd,UsdGeom,Sdf"
   ]
  },
  {
   "cell_type": "code",
   "execution_count": 2,
   "metadata": {},
   "outputs": [],
   "source": [
    "stage = Usd.Stage.Open(\"D:/Kitchen_set/Kitchen_set_instanced.usd\")"
   ]
  },
  {
   "cell_type": "code",
   "execution_count": 44,
   "metadata": {},
   "outputs": [],
   "source": [
    "for prim in stage.Traverse():\n",
    "    if prim.IsInstance():\n",
    "        # instanceable なPrimを列挙する\n",
    "        # Primから、InstanceのPrototype（ベース）のPrimを取得する\n",
    "        protoPrim = prim.GetPrototype()"
   ]
  },
  {
   "cell_type": "code",
   "execution_count": 4,
   "metadata": {},
   "outputs": [
    {
     "name": "stdout",
     "output_type": "stream",
     "text": [
      "True\n"
     ]
    }
   ],
   "source": [
    "# instanceable が指定されたPrimは、\n",
    "# StageにPrototypePrimとして登録される。\n",
    "prototypes = stage.GetPrototypes()\n",
    "print(prototypes[0].IsPrototype())"
   ]
  },
  {
   "cell_type": "code",
   "execution_count": 7,
   "metadata": {},
   "outputs": [
    {
     "name": "stdout",
     "output_type": "stream",
     "text": [
      "Usd.Prim(</__Prototype_2>)\n",
      "Usd.Prim(</__Prototype_2>)\n"
     ]
    }
   ],
   "source": [
    "canA = stage.GetPrimAtPath('/Kitchen_set/Props_grp/West_grp/TinCanA_1')\n",
    "canB = stage.GetPrimAtPath('/Kitchen_set/Props_grp/West_grp/TinCanA_2')\n",
    "# 同じモデルなので、Prototypeは共通\n",
    "print(canA.GetPrototype())\n",
    "print(canB.GetPrototype())"
   ]
  },
  {
   "cell_type": "code",
   "execution_count": 43,
   "metadata": {},
   "outputs": [
    {
     "name": "stdout",
     "output_type": "stream",
     "text": [
      "[]\n",
      "[Usd.Prim(</sampleC/cube>)]\n"
     ]
    }
   ],
   "source": [
    "stage = Usd.Stage.CreateInMemory()\n",
    "\n",
    "primA = stage.DefinePrim(\"/sampleA\")\n",
    "primA.GetReferences().AddReference('./cube.usd')\n",
    "primA.SetInstanceable(True)\n",
    "primB = stage.DefinePrim(\"/sampleB\")\n",
    "primB.SetInstanceable(True)\n",
    "primB.GetReferences().AddReference('./cube.usd')\n",
    "\n",
    "primC = stage.DefinePrim(\"/sampleC\")\n",
    "primC.GetReferences().AddReference('./cube.usd')\n",
    "\n",
    "# Instanceの場合はChildはみつからない\n",
    "print(primB.GetChildren())\n",
    "# 普通なら見つかる\n",
    "print(primC.GetChildren())"
   ]
  },
  {
   "cell_type": "code",
   "execution_count": 34,
   "metadata": {},
   "outputs": [
    {
     "data": {
      "text/plain": [
       "True"
      ]
     },
     "execution_count": 34,
     "metadata": {},
     "output_type": "execute_result"
    }
   ],
   "source": [
    "stage.GetRootLayer().Export(\"./instance.usd\")"
   ]
  },
  {
   "cell_type": "code",
   "execution_count": 38,
   "metadata": {},
   "outputs": [
    {
     "name": "stdout",
     "output_type": "stream",
     "text": [
      "Usd.Prim(</__Prototype_1/cube>)\n"
     ]
    }
   ],
   "source": [
    "for i in primB.GetPrototype().GetChildren():\n",
    "    print(i)"
   ]
  }
 ],
 "metadata": {
  "interpreter": {
   "hash": "90ad37beec7e816fa6224594e71540722bf31854ba11f3943a77de50e81485ba"
  },
  "kernelspec": {
   "display_name": "Python 3",
   "language": "python",
   "name": "python3"
  },
  "language_info": {
   "codemirror_mode": {
    "name": "ipython",
    "version": 3
   },
   "file_extension": ".py",
   "mimetype": "text/x-python",
   "name": "python",
   "nbconvert_exporter": "python",
   "pygments_lexer": "ipython3",
   "version": "3.7.7"
  },
  "orig_nbformat": 4
 },
 "nbformat": 4,
 "nbformat_minor": 2
}
