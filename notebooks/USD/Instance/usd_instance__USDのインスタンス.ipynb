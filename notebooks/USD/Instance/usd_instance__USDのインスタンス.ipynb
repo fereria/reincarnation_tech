{
 "cells": [
  {
   "cell_type": "code",
   "execution_count": 1,
   "metadata": {},
   "outputs": [],
   "source": [
    "from pxr import Usd,UsdGeom,Sdf"
   ]
  },
  {
   "cell_type": "code",
   "execution_count": 2,
   "metadata": {},
   "outputs": [],
   "source": [
    "stage = Usd.Stage.Open(\"D:/Kitchen_set/Kitchen_set_instanced.usd\")"
   ]
  },
  {
   "cell_type": "code",
   "execution_count": 44,
   "metadata": {},
   "outputs": [],
   "source": [
    "for prim in stage.Traverse():\n",
    "    if prim.IsInstance():\n",
    "        # instanceable なPrimを列挙する\n",
    "        # Primから、InstanceのPrototype（ベース）のPrimを取得する\n",
    "        protoPrim = prim.GetPrototype()"
   ]
  },
  {
   "cell_type": "code",
   "execution_count": 4,
   "metadata": {},
   "outputs": [
    {
     "name": "stdout",
     "output_type": "stream",
     "text": [
      "True\n"
     ]
    }
   ],
   "source": [
    "# instanceable が指定されたPrimは、\n",
    "# StageにPrototypePrimとして登録される。\n",
    "prototypes = stage.GetPrototypes()\n",
    "print(prototypes[0].IsPrototype())"
   ]
  },
  {
   "cell_type": "code",
   "execution_count": 7,
   "metadata": {},
   "outputs": [
    {
     "name": "stdout",
     "output_type": "stream",
     "text": [
      "Usd.Prim(</__Prototype_2>)\n",
      "Usd.Prim(</__Prototype_2>)\n"
     ]
    }
   ],
   "source": [
    "canA = stage.GetPrimAtPath('/Kitchen_set/Props_grp/West_grp/TinCanA_1')\n",
    "canB = stage.GetPrimAtPath('/Kitchen_set/Props_grp/West_grp/TinCanA_2')\n",
    "# 同じモデルなので、Prototypeは共通\n",
    "print(canA.GetPrototype())\n",
    "print(canB.GetPrototype())"
   ]
  },
  {
   "cell_type": "code",
   "execution_count": 2,
   "metadata": {},
   "outputs": [
    {
     "name": "stdout",
     "output_type": "stream",
     "text": [
      "[]\n",
      "[Usd.Prim(</sampleC/cube>)]\n"
     ]
    }
   ],
   "source": [
    "stage = Usd.Stage.CreateInMemory()\n",
    "\n",
    "primA = stage.DefinePrim(\"/sampleA\")\n",
    "primA.GetReferences().AddReference('./cube.usd')\n",
    "primA.SetInstanceable(True)\n",
    "primB = stage.DefinePrim(\"/sampleB\")\n",
    "primB.SetInstanceable(True)\n",
    "primB.GetReferences().AddReference('./cube.usd')\n",
    "\n",
    "primC = stage.DefinePrim(\"/sampleC\")\n",
    "primC.GetReferences().AddReference('./cube.usd')\n",
    "\n",
    "# Instanceの場合はChildはみつからない\n",
    "print(primB.GetChildren())\n",
    "# 普通なら見つかる\n",
    "print(primC.GetChildren())"
   ]
  },
  {
   "cell_type": "code",
   "execution_count": 6,
   "metadata": {},
   "outputs": [
    {
     "name": "stdout",
     "output_type": "stream",
     "text": [
      "Usd.Prim(</sampleA>)\n",
      "Usd.Prim(</sampleB>)\n"
     ]
    }
   ],
   "source": [
    "prototype = primA.GetPrototype()\n",
    "\n",
    "for instance in prototype.GetInstances():\n",
    "    print(instance)"
   ]
  },
  {
   "cell_type": "code",
   "execution_count": 47,
   "metadata": {},
   "outputs": [
    {
     "data": {
      "text/plain": [
       "True"
      ]
     },
     "execution_count": 47,
     "metadata": {},
     "output_type": "execute_result"
    }
   ],
   "source": [
    "stage.GetRootLayer().Export(\"./instance.usd\")"
   ]
  },
  {
   "cell_type": "code",
   "execution_count": 38,
   "metadata": {},
   "outputs": [
    {
     "name": "stdout",
     "output_type": "stream",
     "text": [
      "Usd.Prim(</__Prototype_1/cube>)\n"
     ]
    }
   ],
   "source": [
    "for i in primB.GetPrototype().GetChildren():\n",
    "    print(i)"
   ]
  },
  {
   "cell_type": "code",
   "execution_count": 49,
   "metadata": {},
   "outputs": [],
   "source": [
    "prototypes = stage.GetPrototypes()\n",
    "prototype = prototypes[0]"
   ]
  },
  {
   "cell_type": "code",
   "execution_count": null,
   "metadata": {},
   "outputs": [],
   "source": []
  },
  {
   "cell_type": "code",
   "execution_count": 50,
   "metadata": {},
   "outputs": [
    {
     "data": {
      "text/plain": [
       "[Usd.Prim(</sampleA>), Usd.Prim(</sampleB>)]"
      ]
     },
     "execution_count": 50,
     "metadata": {},
     "output_type": "execute_result"
    }
   ],
   "source": [
    "prototype.GetInstances()"
   ]
  },
  {
   "cell_type": "code",
   "execution_count": 61,
   "metadata": {},
   "outputs": [
    {
     "ename": "ErrorException",
     "evalue": "\n\tError in 'pxrInternal_v0_21__pxrReserved__::UsdStage::_ValidateEditPrim' at line 1297 in file D:\\work\\GithubRepo\\USD\\pxr\\usd\\usd\\stage.cpp : 'Cannot create property spec at path </sampleA/cube>; authoring to an instance proxy is not allowed.'",
     "output_type": "error",
     "traceback": [
      "\u001b[1;31m---------------------------------------------------------------------------\u001b[0m",
      "\u001b[1;31mErrorException\u001b[0m                            Traceback (most recent call last)",
      "\u001b[1;32m<ipython-input-61-5acb423d72e7>\u001b[0m in \u001b[0;36m<module>\u001b[1;34m\u001b[0m\n\u001b[0;32m      2\u001b[0m \u001b[0mproxy\u001b[0m \u001b[1;33m=\u001b[0m \u001b[0mstage\u001b[0m\u001b[1;33m.\u001b[0m\u001b[0mGetPrimAtPath\u001b[0m\u001b[1;33m(\u001b[0m\u001b[1;34m\"/sampleA/cube\"\u001b[0m\u001b[1;33m)\u001b[0m\u001b[1;33m\u001b[0m\u001b[1;33m\u001b[0m\u001b[0m\n\u001b[0;32m      3\u001b[0m \u001b[1;31m# Proxyの場合、値の追加や変更を使用するとエラーになる\u001b[0m\u001b[1;33m\u001b[0m\u001b[1;33m\u001b[0m\u001b[1;33m\u001b[0m\u001b[0m\n\u001b[1;32m----> 4\u001b[1;33m \u001b[0mproxy\u001b[0m\u001b[1;33m.\u001b[0m\u001b[0mCreateAttribute\u001b[0m\u001b[1;33m(\u001b[0m\u001b[1;34m'sample'\u001b[0m\u001b[1;33m,\u001b[0m\u001b[0mSdf\u001b[0m\u001b[1;33m.\u001b[0m\u001b[0mValueTypeNames\u001b[0m\u001b[1;33m.\u001b[0m\u001b[0mString\u001b[0m\u001b[1;33m)\u001b[0m\u001b[1;33m.\u001b[0m\u001b[0mSet\u001b[0m\u001b[1;33m(\u001b[0m\u001b[1;34m'hoge'\u001b[0m\u001b[1;33m)\u001b[0m\u001b[1;33m\u001b[0m\u001b[1;33m\u001b[0m\u001b[0m\n\u001b[0m",
      "\u001b[1;31mErrorException\u001b[0m: \n\tError in 'pxrInternal_v0_21__pxrReserved__::UsdStage::_ValidateEditPrim' at line 1297 in file D:\\work\\GithubRepo\\USD\\pxr\\usd\\usd\\stage.cpp : 'Cannot create property spec at path </sampleA/cube>; authoring to an instance proxy is not allowed.'"
     ]
    }
   ],
   "source": [
    "# InstanceのPrimも GetPrimAtPathで取得が可能\n",
    "proxy = stage.GetPrimAtPath(\"/sampleA/cube\")\n",
    "# Proxyの場合、値の追加や変更を使用するとエラーになる\n",
    "proxy.CreateAttribute('sample',Sdf.ValueTypeNames.String).Set('hoge')"
   ]
  },
  {
   "cell_type": "code",
   "execution_count": 66,
   "metadata": {},
   "outputs": [
    {
     "ename": "ErrorException",
     "evalue": "\n\tError in 'pxrInternal_v0_21__pxrReserved__::UsdStage::_ValidateEditPrim' at line 1290 in file D:\\work\\GithubRepo\\USD\\pxr\\usd\\usd\\stage.cpp : 'Cannot create property spec at path </__Prototype_1/cube>; authoring to an instancing prototype is not allowed.'",
     "output_type": "error",
     "traceback": [
      "\u001b[1;31m---------------------------------------------------------------------------\u001b[0m",
      "\u001b[1;31mErrorException\u001b[0m                            Traceback (most recent call last)",
      "\u001b[1;32m<ipython-input-66-ea4e0a6d6382>\u001b[0m in \u001b[0;36m<module>\u001b[1;34m\u001b[0m\n\u001b[0;32m      1\u001b[0m \u001b[1;31m# ProxyからPrototype側でのPathを取得\u001b[0m\u001b[1;33m\u001b[0m\u001b[1;33m\u001b[0m\u001b[1;33m\u001b[0m\u001b[0m\n\u001b[0;32m      2\u001b[0m \u001b[0mprotoPrim\u001b[0m \u001b[1;33m=\u001b[0m \u001b[0mproxy\u001b[0m\u001b[1;33m.\u001b[0m\u001b[0mGetPrimInPrototype\u001b[0m\u001b[1;33m(\u001b[0m\u001b[1;33m)\u001b[0m\u001b[1;33m\u001b[0m\u001b[1;33m\u001b[0m\u001b[0m\n\u001b[1;32m----> 3\u001b[1;33m \u001b[0mprotoPrim\u001b[0m\u001b[1;33m.\u001b[0m\u001b[0mCreateAttribute\u001b[0m\u001b[1;33m(\u001b[0m\u001b[1;34m'sample'\u001b[0m\u001b[1;33m,\u001b[0m\u001b[0mSdf\u001b[0m\u001b[1;33m.\u001b[0m\u001b[0mValueTypeNames\u001b[0m\u001b[1;33m.\u001b[0m\u001b[0mString\u001b[0m\u001b[1;33m)\u001b[0m\u001b[1;33m.\u001b[0m\u001b[0mSet\u001b[0m\u001b[1;33m(\u001b[0m\u001b[1;34m'hoge'\u001b[0m\u001b[1;33m)\u001b[0m\u001b[1;33m\u001b[0m\u001b[1;33m\u001b[0m\u001b[0m\n\u001b[0m",
      "\u001b[1;31mErrorException\u001b[0m: \n\tError in 'pxrInternal_v0_21__pxrReserved__::UsdStage::_ValidateEditPrim' at line 1290 in file D:\\work\\GithubRepo\\USD\\pxr\\usd\\usd\\stage.cpp : 'Cannot create property spec at path </__Prototype_1/cube>; authoring to an instancing prototype is not allowed.'"
     ]
    }
   ],
   "source": [
    "# ProxyからPrototype側でのPathを取得\n",
    "protoPrim = proxy.GetPrimInPrototype()\n",
    "protoPrim.CreateAttribute('sample',Sdf.ValueTypeNames.String).Set('hoge')\n"
   ]
  }
 ],
 "metadata": {
  "interpreter": {
   "hash": "90ad37beec7e816fa6224594e71540722bf31854ba11f3943a77de50e81485ba"
  },
  "kernelspec": {
   "display_name": "Python 3",
   "language": "python",
   "name": "python3"
  },
  "language_info": {
   "codemirror_mode": {
    "name": "ipython",
    "version": 3
   },
   "file_extension": ".py",
   "mimetype": "text/x-python",
   "name": "python",
   "nbconvert_exporter": "python",
   "pygments_lexer": "ipython3",
   "version": "3.7.7"
  },
  "orig_nbformat": 4
 },
 "nbformat": 4,
 "nbformat_minor": 2
}
