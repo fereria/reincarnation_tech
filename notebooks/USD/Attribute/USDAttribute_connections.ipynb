{
 "cells": [
  {
   "cell_type": "markdown",
   "source": [
    "# AttributeのConnectionを試す"
   ],
   "metadata": {}
  },
  {
   "cell_type": "code",
   "execution_count": 3,
   "source": [
    "from pxr import Usd,Sdf"
   ],
   "outputs": [],
   "metadata": {}
  },
  {
   "cell_type": "code",
   "execution_count": 8,
   "source": [
    "stage = Usd.Stage.CreateInMemory()\r\n",
    "stage.Reload()"
   ],
   "outputs": [],
   "metadata": {}
  },
  {
   "cell_type": "code",
   "execution_count": 24,
   "source": [
    "prim = stage.DefinePrim(\"/Sample\")\r\n",
    "attr = prim.CreateAttribute('hoge',Sdf.ValueTypeNames.Int)\r\n",
    "attr.Set(10)\r\n",
    "\r\n",
    "primB = stage.DefinePrim(\"/srcPrim\")\r\n",
    "attrB = primB.CreateAttribute(\"src\",Sdf.ValueTypeNames.Int)\r\n",
    "attrB.Set(100)"
   ],
   "outputs": [
    {
     "output_type": "execute_result",
     "data": {
      "text/plain": [
       "True"
      ]
     },
     "metadata": {},
     "execution_count": 24
    }
   ],
   "metadata": {}
  },
  {
   "cell_type": "code",
   "execution_count": 12,
   "source": [
    "# アトリビュートのコネクションをする\r\n",
    "\r\n",
    "attr.AddConnection(attrB.GetPath())\r\n",
    "print(stage.ExportToString())"
   ],
   "outputs": [
    {
     "output_type": "stream",
     "name": "stdout",
     "text": [
      "#usda 1.0\n",
      "(\n",
      "    doc = \"\"\"Generated from Composed Stage of root layer \n",
      "\"\"\"\n",
      ")\n",
      "\n",
      "def \"Sample\"\n",
      "{\n",
      "    custom int hoge = 10\n",
      "    int hoge.connect = </srcPrim.src>\n",
      "}\n",
      "\n",
      "def \"srcPrim\"\n",
      "{\n",
      "    custom int src = 100\n",
      "}\n",
      "\n",
      "\n"
     ]
    }
   ],
   "metadata": {}
  },
  {
   "cell_type": "code",
   "execution_count": 17,
   "source": [
    "# 接続先のアトリビュートを取得すると、そのSdfPathがとれるので\r\n",
    "# それを利用して接続先の値を取得\r\n",
    "print(attr.GetConnections())\r\n",
    "# 接続先の値を取得\r\n",
    "for i in attr.GetConnections():\r\n",
    "    attr = stage.GetAttributeAtPath(i)\r\n",
    "    print(attr.Get())"
   ],
   "outputs": [
    {
     "output_type": "stream",
     "name": "stdout",
     "text": [
      "[]\n"
     ]
    }
   ],
   "metadata": {}
  },
  {
   "cell_type": "code",
   "execution_count": 35,
   "source": [
    "# コンポジションする場合\r\n",
    "\r\n",
    "stageB = Usd.Stage.CreateInMemory()\r\n",
    "layer = stageB.GetRootLayer()\r\n",
    "layer.subLayerPaths = [stage.GetRootLayer().identifier]\r\n",
    "\r\n",
    "primB = stageB.DefinePrim(\"/srcPathB\")\r\n",
    "attrB = primB.CreateAttribute(\"srcB\",Sdf.ValueTypeNames.Int)\r\n",
    "attrB.Set(1000)\r\n",
    "print(attrB.GetPath())\r\n",
    "toAttr = stageB.GetAttributeAtPath(\"/Sample.hoge\")\r\n",
    "toAttr.AddConnection(attrB.GetPath())\r\n"
   ],
   "outputs": [
    {
     "output_type": "stream",
     "name": "stdout",
     "text": [
      "/srcPathB.srcB\n"
     ]
    },
    {
     "output_type": "execute_result",
     "data": {
      "text/plain": [
       "True"
      ]
     },
     "metadata": {},
     "execution_count": 35
    }
   ],
   "metadata": {}
  },
  {
   "cell_type": "code",
   "execution_count": 38,
   "source": [
    "print(toAttr.GetConnections())\r\n",
    "print(toAttr.HasAuthoredConnections())\r\n",
    "\r\n",
    "print(stageB.ExportToString())"
   ],
   "outputs": [
    {
     "output_type": "stream",
     "name": "stdout",
     "text": [
      "[Sdf.Path('/srcPathB.srcB'), Sdf.Path('/srcPrim.src')]\n",
      "#usda 1.0\n",
      "(\n",
      "    doc = \"\"\"Generated from Composed Stage of root layer \n",
      "\"\"\"\n",
      ")\n",
      "\n",
      "def \"Sample\"\n",
      "{\n",
      "    custom int hoge = 10\n",
      "    int hoge.connect = [\n",
      "        </srcPathB.srcB>,\n",
      "        </srcPrim.src>,\n",
      "    ]\n",
      "}\n",
      "\n",
      "def \"srcPrim\"\n",
      "{\n",
      "    custom int src = 100\n",
      "}\n",
      "\n",
      "def \"srcPathB\"\n",
      "{\n",
      "    custom int srcB = 1000\n",
      "}\n",
      "\n",
      "\n",
      "True\n"
     ]
    }
   ],
   "metadata": {}
  },
  {
   "cell_type": "code",
   "execution_count": null,
   "source": [],
   "outputs": [],
   "metadata": {}
  }
 ],
 "metadata": {
  "orig_nbformat": 4,
  "language_info": {
   "name": "python",
   "version": "3.7.7",
   "mimetype": "text/x-python",
   "codemirror_mode": {
    "name": "ipython",
    "version": 3
   },
   "pygments_lexer": "ipython3",
   "nbconvert_exporter": "python",
   "file_extension": ".py"
  },
  "kernelspec": {
   "name": "python3",
   "display_name": "Python 3.7.7 64-bit"
  },
  "interpreter": {
   "hash": "90ad37beec7e816fa6224594e71540722bf31854ba11f3943a77de50e81485ba"
  }
 },
 "nbformat": 4,
 "nbformat_minor": 2
}