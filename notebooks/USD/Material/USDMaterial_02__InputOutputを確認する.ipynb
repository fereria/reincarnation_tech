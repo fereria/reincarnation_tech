{
 "metadata": {
  "language_info": {
   "codemirror_mode": {
    "name": "ipython",
    "version": 3
   },
   "file_extension": ".py",
   "mimetype": "text/x-python",
   "name": "python",
   "nbconvert_exporter": "python",
   "pygments_lexer": "ipython3",
   "version": "3.7.7"
  },
  "orig_nbformat": 4,
  "kernelspec": {
   "name": "python3",
   "display_name": "Python 3.7.7 64-bit"
  },
  "interpreter": {
   "hash": "90ad37beec7e816fa6224594e71540722bf31854ba11f3943a77de50e81485ba"
  }
 },
 "nbformat": 4,
 "nbformat_minor": 2,
 "cells": [
  {
   "cell_type": "code",
   "execution_count": 41,
   "metadata": {},
   "outputs": [],
   "source": [
    "from pxr import Usd,UsdGeom,UsdShade,Sdf,Gf,Kind"
   ]
  },
  {
   "cell_type": "code",
   "execution_count": 66,
   "metadata": {},
   "outputs": [],
   "source": [
    "stage = Usd.Stage.CreateInMemory()"
   ]
  },
  {
   "cell_type": "code",
   "execution_count": 88,
   "metadata": {},
   "outputs": [
    {
     "output_type": "execute_result",
     "data": {
      "text/plain": [
       "True"
      ]
     },
     "metadata": {},
     "execution_count": 88
    }
   ],
   "source": [
    "# Materialを作る\n",
    "materialPath = Sdf.Path('/Looks/MyMaterial')\n",
    "material = UsdShade.Material.Define(stage, materialPath)\n",
    "# Shaderを作る\n",
    "shaderPath = Sdf.Path('/Looks/MyMaterial/Shader')\n",
    "shader = UsdShade.Shader.Define(stage,shaderPath)\n",
    "# シェーダーのタイプを指定\n",
    "shader.CreateIdAttr('UsdPreviewSurface')\n",
    "# シェーダーに値を入力するためのコネクタを作成\n",
    "shader.CreateInput('diffuseColor',Sdf.ValueTypeNames.Color3f).Set(Gf.Vec3f(1,0,0))"
   ]
  },
  {
   "source": [
    "![](https://gyazo.com/741674f95e716744d2dbdc49c2750f8d.png)\n",
    "\n",
    "こういう状態"
   ],
   "cell_type": "markdown",
   "metadata": {}
  },
  {
   "cell_type": "code",
   "execution_count": 89,
   "metadata": {},
   "outputs": [
    {
     "output_type": "execute_result",
     "data": {
      "text/plain": [
       "True"
      ]
     },
     "metadata": {},
     "execution_count": 89
    }
   ],
   "source": [
    "# upstreamShaderに対してOutputPortを作成して、コネクト\n",
    "material.CreateSurfaceOutput().ConnectToSource(shader.ConnectableAPI(), \"surface\")"
   ]
  },
  {
   "source": [
    "![](https://gyazo.com/19da4239abb3836d8e981bdaa3b7ce27.png)\n",
    "\n",
    "materialにCureateSurfaceOutput()でコネクタを作り、\n",
    "ConnectToSourceでシェーダーのsurfaceと接続。"
   ],
   "cell_type": "markdown",
   "metadata": {}
  },
  {
   "cell_type": "code",
   "execution_count": 98,
   "metadata": {},
   "outputs": [
    {
     "output_type": "stream",
     "name": "stdout",
     "text": [
      "MaterialOutput\nUsd.Prim(</Looks/MyMaterial>).GetAttribute('outputs:displacement')\nUsd.Prim(</Looks/MyMaterial>).GetAttribute('outputs:surface')\nUsd.Prim(</Looks/MyMaterial>).GetAttribute('outputs:volume')\nMaterialInput\nUsd.Prim(</Looks/MyMaterial>).GetAttribute('inputs:frame:stPrimvarName')\nShaderOutput\nUsd.Prim(</Looks/MyMaterial/Shader>).GetAttribute('outputs:surface')\nShaderInput\nUsd.Prim(</Looks/MyMaterial/Shader>).GetAttribute('inputs:diffuseColor')\nUsd.Prim(</Looks/MyMaterial/Shader>).GetAttribute('inputs:metallic')\nUsd.Prim(</Looks/MyMaterial/Shader>).GetAttribute('inputs:roughness')\n"
     ]
    }
   ],
   "source": [
    "# Input / Output をチェック\n",
    "print(\"MaterialOutput\")\n",
    "for i in material.GetOutputs():\n",
    "    print(i.GetAttr())\n",
    "print(\"MaterialInput\")\n",
    "for i in material.GetInputs():\n",
    "    print(i.GetAttr())\n",
    "print(\"ShaderOutput\")\n",
    "for i in shader.GetOutputs():\n",
    "    print(i.GetAttr())\n",
    "print(\"ShaderInput\")\n",
    "for i in shader.GetInputs():\n",
    "    print(i.GetAttr())"
   ]
  },
  {
   "cell_type": "code",
   "execution_count": 90,
   "metadata": {},
   "outputs": [
    {
     "output_type": "execute_result",
     "data": {
      "text/plain": [
       "True"
      ]
     },
     "metadata": {},
     "execution_count": 90
    }
   ],
   "source": [
    "# アサイン用のMeshを作る\n",
    "modelRoot = UsdGeom.Xform.Define(stage, \"/TexModel\")\n",
    "Usd.ModelAPI(modelRoot).SetKind(Kind.Tokens.component)\n",
    "billboard = UsdGeom.Mesh.Define(stage, \"/TexModel/card\")\n",
    "billboard.CreatePointsAttr([(-430, -145, 0), (430, -145, 0), (430, 145, 0), (-430, 145, 0)])\n",
    "billboard.CreateFaceVertexCountsAttr([4])\n",
    "billboard.CreateFaceVertexIndicesAttr([0,1,2,3])\n",
    "billboard.CreateExtentAttr([(-430, -145, 0), (430, 145, 0)])\n",
    "# PrimvarでUVを設定\n",
    "texCoords = billboard.CreatePrimvar(\"st\", \n",
    "                                    Sdf.ValueTypeNames.TexCoord2fArray, \n",
    "                                    UsdGeom.Tokens.varying)\n",
    "texCoords.Set([(0, 0), (1, 0), (1,1), (0, 1)])\n",
    "\n",
    "UsdShade.MaterialBindingAPI(billboard).Bind(material)"
   ]
  },
  {
   "source": [
    "![](https://gyazo.com/36c38d958b3b79ad786165c65b9270b0.png)\n",
    "\n",
    "MaterialBindingAPI で、MaterialPrimとリレーションで接続"
   ],
   "cell_type": "markdown",
   "metadata": {}
  },
  {
   "cell_type": "code",
   "execution_count": 82,
   "metadata": {},
   "outputs": [
    {
     "output_type": "execute_result",
     "data": {
      "text/plain": [
       "True"
      ]
     },
     "metadata": {},
     "execution_count": 82
    }
   ],
   "source": [
    "stReader = UsdShade.Shader.Define(stage, shaderPath.AppendChild('stReader'))\n",
    "stReader.CreateIdAttr('UsdPrimvarReader_float2')\n",
    "stInput = material.CreateInput('frame:stPrimvarName', Sdf.ValueTypeNames.Token)\n",
    "stInput.Set('st')\n",
    "stReader.CreateInput('varname',Sdf.ValueTypeNames.Token).ConnectToSource(stInput)"
   ]
  },
  {
   "source": [
    "![](https://gyazo.com/375373f58fc640900f91df72664bfe26.png)"
   ],
   "cell_type": "markdown",
   "metadata": {}
  },
  {
   "cell_type": "code",
   "execution_count": 80,
   "metadata": {},
   "outputs": [
    {
     "output_type": "execute_result",
     "data": {
      "text/plain": [
       "True"
      ]
     },
     "metadata": {},
     "execution_count": 80
    }
   ],
   "source": [
    "diffuseTextureSampler = UsdShade.Shader.Define(stage,shaderPath.AppendChild('diffuseTexture'))\n",
    "diffuseTextureSampler.CreateIdAttr('UsdUVTexture')\n",
    "diffuseTextureSampler.CreateInput('file', Sdf.ValueTypeNames.Asset).Set(\"D:/test.png\")\n",
    "diffuseTextureSampler.CreateInput(\"st\", Sdf.ValueTypeNames.Float2).ConnectToSource(stReader.ConnectableAPI(), 'result')\n",
    "diffuseTextureSampler.CreateOutput('rgb', Sdf.ValueTypeNames.Float3)\n",
    "shader.CreateInput(\"diffuseColor\", Sdf.ValueTypeNames.Color3f).ConnectToSource(diffuseTextureSampler, 'rgb')"
   ]
  },
  {
   "source": [
    "![](https://gyazo.com/4b7c493e21556d7cb70ce9bb0670595d.png)\n",
    "\n",
    "stPrimvarName + PrimvarReader を使用して、Meshに作成した primvar st (UV情報) を取得する。  \n",
    "そして、テクスチャパスの色を取得して、ShaderのdiffuseColorに値をセットする。  "
   ],
   "cell_type": "markdown",
   "metadata": {}
  },
  {
   "cell_type": "code",
   "execution_count": 99,
   "metadata": {},
   "outputs": [
    {
     "output_type": "stream",
     "name": "stdout",
     "text": [
      "Usd.Prim(</Looks/MyMaterial/Shader/stReader>).GetAttribute('inputs:varname')\nUsd.Prim(</Looks/MyMaterial/Shader/stReader>).GetAttribute('outputs:result')\n"
     ]
    }
   ],
   "source": [
    "# PrimvarReaderのコネクションをチェック\n",
    "for i in stReader.GetInputs():\n",
    "    print(i.GetAttr())\n",
    "for i in stReader.GetOutputs():\n",
    "    print(i.GetAttr())"
   ]
  },
  {
   "cell_type": "code",
   "execution_count": 100,
   "metadata": {},
   "outputs": [
    {
     "output_type": "stream",
     "name": "stdout",
     "text": [
      "#usda 1.0\n(\n    doc = \"\"\"Generated from Composed Stage of root layer \n\"\"\"\n)\n\ndef \"Looks\"\n{\n    def Material \"MyMaterial\"\n    {\n        token inputs:frame:stPrimvarName = \"st\"\n        token outputs:surface.connect = </Looks/MyMaterial/Shader.outputs:surface>\n\n        def Shader \"Shader\"\n        {\n            uniform token info:id = \"UsdPreviewSurface\"\n            color3f inputs:diffuseColor = (1, 0, 0)\n            color3f inputs:diffuseColor.connect = </Looks/MyMaterial/Shader/diffuseTexture.outputs:rgb>\n            float inputs:metallic = 0\n            float inputs:roughness = 0.4\n            token outputs:surface\n\n            def Shader \"stReader\"\n            {\n                uniform token info:id = \"UsdPrimvarReader_float2\"\n                token inputs:varname.connect = </Looks/MyMaterial.inputs:frame:stPrimvarName>\n                float2 outputs:result\n            }\n\n            def Shader \"diffuseTexture\"\n            {\n                uniform token info:id = \"UsdUVTexture\"\n                asset inputs:file = @D:/test.png@\n                float2 inputs:st.connect = </Looks/MyMaterial/Shader/stReader.outputs:result>\n                float3 outputs:rgb\n            }\n        }\n    }\n}\n\ndef Xform \"TexModel\" (\n    kind = \"component\"\n)\n{\n    def Mesh \"card\"\n    {\n        float3[] extent = [(-430, -145, 0), (430, 145, 0)]\n        int[] faceVertexCounts = [4]\n        int[] faceVertexIndices = [0, 1, 2, 3]\n        rel material:binding = </Looks/MyMaterial>\n        point3f[] points = [(-430, -145, 0), (430, -145, 0), (430, 145, 0), (-430, 145, 0)]\n        texCoord2f[] primvars:st = [(0, 0), (1, 0), (1, 1), (0, 1)] (\n            interpolation = \"varying\"\n        )\n    }\n}\n\n\n"
     ]
    }
   ],
   "source": [
    "print(stage.ExportToString())"
   ]
  }
 ]
}