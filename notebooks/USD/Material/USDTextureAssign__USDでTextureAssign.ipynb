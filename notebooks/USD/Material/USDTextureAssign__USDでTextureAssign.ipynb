{
 "cells": [
  {
   "cell_type": "code",
   "execution_count": 1,
   "metadata": {},
   "outputs": [],
   "source": [
    "from pxr import Gf, Kind, Sdf, Usd, UsdGeom, UsdShade"
   ]
  },
  {
   "cell_type": "raw",
   "metadata": {},
   "source": []
  },
  {
   "cell_type": "code",
   "execution_count": 7,
   "metadata": {},
   "outputs": [
    {
     "data": {
      "text/plain": [
       "True"
      ]
     },
     "execution_count": 7,
     "metadata": {},
     "output_type": "execute_result"
    }
   ],
   "source": [
    "stage = Usd.Stage.CreateInMemory()\n",
    "UsdGeom.SetStageUpAxis(stage, UsdGeom.Tokens.y)\n",
    "\n",
    "modelRoot = UsdGeom.Xform.Define(stage, \"/TexModel\")\n",
    "Usd.ModelAPI(modelRoot).SetKind(Kind.Tokens.component)\n",
    "billboard = UsdGeom.Mesh.Define(stage, \"/TexModel/card\")\n",
    "billboard.CreatePointsAttr([(-430, -145, 0), (430, -145, 0), (430, 145, 0), (-430, 145, 0)])\n",
    "billboard.CreateFaceVertexCountsAttr([4])\n",
    "billboard.CreateFaceVertexIndicesAttr([0,1,2,3])\n",
    "billboard.CreateExtentAttr([(-430, -145, 0), (430, 145, 0)])\n",
    "texCoords = billboard.CreatePrimvar(\"st\", \n",
    "                                    Sdf.ValueTypeNames.TexCoord2fArray, \n",
    "                                    UsdGeom.Tokens.varying)\n",
    "texCoords.Set([(0, 0), (1, 0), (1,1), (0, 1)])\n",
    "\n"
   ]
  },
  {
   "cell_type": "code",
   "execution_count": 8,
   "metadata": {},
   "outputs": [
    {
     "data": {
      "text/plain": [
       "True"
      ]
     },
     "execution_count": 8,
     "metadata": {},
     "output_type": "execute_result"
    }
   ],
   "source": [
    "material = UsdShade.Material.Define(stage, '/TexModel/boardMat')\n",
    "\n",
    "pbrShader = UsdShade.Shader.Define(stage, '/TexModel/boardMat/PBRShader')\n",
    "pbrShader.CreateIdAttr(\"UsdPreviewSurface\")\n",
    "pbrShader.CreateInput(\"roughness\", Sdf.ValueTypeNames.Float).Set(0.4)\n",
    "pbrShader.CreateInput(\"metallic\", Sdf.ValueTypeNames.Float).Set(0.0)\n",
    "pbrShader.CreateInput(\"opacity\",Sdf.ValueTypeNames.Float).Set(1.0)\n",
    "\n",
    "material.CreateSurfaceOutput().ConnectToSource(pbrShader, \"surface\")"
   ]
  },
  {
   "cell_type": "code",
   "execution_count": 9,
   "metadata": {},
   "outputs": [
    {
     "data": {
      "text/plain": [
       "True"
      ]
     },
     "execution_count": 9,
     "metadata": {},
     "output_type": "execute_result"
    }
   ],
   "source": [
    "stReader = UsdShade.Shader.Define(stage, '/TexModel/boardMat/PBRShader/stReader')\n",
    "stReader.CreateIdAttr('UsdPrimvarReader_float2')\n",
    "\n",
    "diffuseTextureSampler = UsdShade.Shader.Define(stage,'/TexModel/boardMat/PBRShader/diffuseTexture')\n",
    "diffuseTextureSampler.CreateIdAttr('UsdUVTexture')\n",
    "diffuseTextureSampler.CreateInput('file', Sdf.ValueTypeNames.Asset).Set(\"D:/USD_Logo.png\")\n",
    "diffuseTextureSampler.CreateInput(\"st\", Sdf.ValueTypeNames.Float2).ConnectToSource(stReader, 'result')\n",
    "diffuseTextureSampler.CreateOutput('rgb', Sdf.ValueTypeNames.Float3)\n",
    "diffuseTextureSampler.CreateOutput('a', Sdf.ValueTypeNames.Float)\n",
    "pbrShader.CreateInput(\"diffuseColor\", Sdf.ValueTypeNames.Color3f).ConnectToSource(diffuseTextureSampler, 'rgb')\n",
    "pbrShader.CreateInput(\"opacity\", Sdf.ValueTypeNames.Float).ConnectToSource(diffuseTextureSampler, 'a')"
   ]
  },
  {
   "cell_type": "code",
   "execution_count": 11,
   "metadata": {},
   "outputs": [
    {
     "data": {
      "text/plain": [
       "True"
      ]
     },
     "execution_count": 11,
     "metadata": {},
     "output_type": "execute_result"
    }
   ],
   "source": [
    "stInput = material.CreateInput('frame:stPrimvarName', Sdf.ValueTypeNames.Token)\n",
    "stInput.Set('st')\n",
    "\n",
    "stReader.CreateInput('varname',Sdf.ValueTypeNames.Token).ConnectToSource(stInput)"
   ]
  },
  {
   "cell_type": "code",
   "execution_count": 12,
   "metadata": {},
   "outputs": [
    {
     "data": {
      "text/plain": [
       "True"
      ]
     },
     "execution_count": 12,
     "metadata": {},
     "output_type": "execute_result"
    }
   ],
   "source": [
    "UsdShade.MaterialBindingAPI(billboard).Bind(material)\n",
    "\n",
    "stage.Export(\"D:/addTexture.usda\")"
   ]
  }
 ],
 "metadata": {
  "kernelspec": {
   "display_name": "Python 3",
   "language": "python",
   "name": "python3"
  },
  "language_info": {
   "codemirror_mode": {
    "name": "ipython",
    "version": 3
   },
   "file_extension": ".py",
   "mimetype": "text/x-python",
   "name": "python",
   "nbconvert_exporter": "python",
   "pygments_lexer": "ipython3",
   "version": "3.6.6"
  }
 },
 "nbformat": 4,
 "nbformat_minor": 4
}