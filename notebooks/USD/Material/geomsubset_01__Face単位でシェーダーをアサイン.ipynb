{
 "metadata": {
  "language_info": {
   "codemirror_mode": {
    "name": "ipython",
    "version": 3
   },
   "file_extension": ".py",
   "mimetype": "text/x-python",
   "name": "python",
   "nbconvert_exporter": "python",
   "pygments_lexer": "ipython3",
   "version": "3.7.7-final"
  },
  "orig_nbformat": 2,
  "kernelspec": {
   "name": "python3",
   "display_name": "Python 3.7.7 64-bit ('py37': pipenv)",
   "metadata": {
    "interpreter": {
     "hash": "3e9efe9dc9d56cd32f3e3638880e3a92603c162216d6e7d94a2fa75d169a32ce"
    }
   }
  }
 },
 "nbformat": 4,
 "nbformat_minor": 2,
 "cells": [
  {
   "source": [
    "![](https://gyazo.com/f56b3e96e1104eac0636a9ffc142e634.png)\n",
    "\n",
    "こういう9のFaceがあるMeshでテスト。"
   ],
   "cell_type": "markdown",
   "metadata": {}
  },
  {
   "cell_type": "code",
   "execution_count": 56,
   "metadata": {},
   "outputs": [],
   "source": [
    "from pxr import Usd,UsdGeom,UsdShade,Sdf,Gf"
   ]
  },
  {
   "cell_type": "code",
   "execution_count": 38,
   "metadata": {},
   "outputs": [],
   "source": [
    "stage = Usd.Stage.Open(r\"D:\\work\\py37\\sampleUSD\\usdPlane.usd\")\n",
    "prim = stage.GetPrimAtPath('/grid2/mesh_0')\n",
    "path = prim.GetPath()\n",
    "# PrimからGeomMeshを取得\n",
    "mesh = UsdGeom.Mesh(prim)"
   ]
  },
  {
   "cell_type": "code",
   "execution_count": 39,
   "metadata": {},
   "outputs": [],
   "source": [
    "stage.Reload()"
   ]
  },
  {
   "cell_type": "code",
   "execution_count": 40,
   "metadata": {},
   "outputs": [
    {
     "output_type": "stream",
     "name": "stdout",
     "text": [
      "9\n[(-1, 0, -1), (-0.3333333, 0, -1), (0.33333337, 0, -1), (1, 0, -1), (-1, 0, -0.3333333), (-0.3333333, 0, -0.3333333), (0.33333337, 0, -0.3333333), (1, 0, -0.3333333), (-1, 0, 0.33333337), (-0.3333333, 0, 0.33333337), (0.33333337, 0, 0.33333337), (1, 0, 0.33333337), (-1, 0, 1), (-0.3333333, 0, 1), (0.33333337, 0, 1), (1, 0, 1)]\n[0, 1, 5, 4, 1, 2, 6, 5, 2, 3, 7, 6, 4, 5, 9, 8, 5, 6, 10, 9, 6, 7, 11, 10, 8, 9, 13, 12, 9, 10, 14, 13, 10, 11, 15, 14]\n[4, 4, 4, 4, 4, 4, 4, 4, 4]\n9\n"
     ]
    }
   ],
   "source": [
    "# Meshの情報を取得\n",
    "print(mesh.GetFaceCount())\n",
    "# PointBasedで取得 頂点の座標\n",
    "print(mesh.GetPointsAttr().Get())\n",
    "# Faceを構成する頂点ID\n",
    "print(mesh.GetFaceVertexIndicesAttr().Get())\n",
    "# Face単位の頂点数\n",
    "print(mesh.GetFaceVertexCountsAttr().Get())\n",
    "# Faceの数\n",
    "print(mesh.GetFaceCount())"
   ]
  },
  {
   "cell_type": "code",
   "execution_count": 41,
   "metadata": {},
   "outputs": [],
   "source": [
    "# Subsetを定義する\n",
    "subset = UsdGeom.Subset.Define(stage,path.AppendChild('subset'))"
   ]
  },
  {
   "cell_type": "code",
   "execution_count": 42,
   "metadata": {},
   "outputs": [
    {
     "output_type": "stream",
     "name": "stdout",
     "text": [
      "UsdGeom.Mesh(Usd.Prim(</grid2/mesh_0>))\n"
     ]
    }
   ],
   "source": [
    "print(mesh)"
   ]
  },
  {
   "cell_type": "code",
   "execution_count": 43,
   "metadata": {},
   "outputs": [
    {
     "output_type": "execute_result",
     "data": {
      "text/plain": [
       "Usd.Prim(</grid2/mesh_0/subset>).GetAttribute('indices')"
      ]
     },
     "metadata": {},
     "execution_count": 43
    }
   ],
   "source": [
    "# 指定IndexをSubsetに追加\n",
    "subset.CreateIndicesAttr([0,1,2])"
   ]
  },
  {
   "cell_type": "code",
   "execution_count": 60,
   "metadata": {},
   "outputs": [
    {
     "output_type": "execute_result",
     "data": {
      "text/plain": [
       "True"
      ]
     },
     "metadata": {},
     "execution_count": 60
    }
   ],
   "source": [
    "# Shaderを作る\n",
    "mat = UsdShade.Material.Define(stage,\"/Looks/sampleMat\")\n",
    "shader = UsdShade.Shader.Define(stage,\"/Looks/sampleMat/sampleShader\")\n",
    "shader.CreateIdAttr('UsdPreviewSurface')\n",
    "# わかりやすい色をセット\n",
    "shader.CreateInput('diffuseColor', Sdf.ValueTypeNames.Color3f).Set(Gf.Vec3f(1,0,0))\n",
    "mat.CreateSurfaceOutput().ConnectToSource(shader, \"surface\")\n",
    "# subsetにアサイン\n",
    "UsdShade.MaterialBindingAPI(subset).Bind(mat)"
   ]
  },
  {
   "cell_type": "code",
   "execution_count": 61,
   "metadata": {},
   "outputs": [
    {
     "output_type": "stream",
     "name": "stdout",
     "text": [
      "#usda 1.0\n(\n    defaultPrim = \"grid2\"\n    endTimeCode = 1\n    framesPerSecond = 24\n    metersPerUnit = 1\n    startTimeCode = 1\n    timeCodesPerSecond = 24\n    upAxis = \"Y\"\n)\n\ndef Xform \"grid2\" (\n    kind = \"component\"\n)\n{\n    matrix4d xformOp:transform:xform = ( (1, 0, 0, 0), (0, 1, 0, 0), (0, 0, 1, 0), (0, 0, 0, 1) )\n    uniform token[] xformOpOrder = [\"xformOp:transform:xform\"]\n\n    def Mesh \"mesh_0\"\n    {\n        float3[] extent = [(-1, 0, -1), (1, 0, 1)]\n        int[] faceVertexCounts = [4, 4, 4, 4, 4, 4, 4, 4, 4]\n        int[] faceVertexIndices = [0, 1, 5, 4, 1, 2, 6, 5, 2, 3, 7, 6, 4, 5, 9, 8, 5, 6, 10, 9, 6, 7, 11, 10, 8, 9, 13, 12, 9, 10, 14, 13, 10, 11, 15, 14]\n        uniform token orientation = \"leftHanded\"\n        point3f[] points = [(-1, 0, -1), (-0.3333333, 0, -1), (0.33333337, 0, -1), (1, 0, -1), (-1, 0, -0.3333333), (-0.3333333, 0, -0.3333333), (0.33333337, 0, -0.3333333), (1, 0, -0.3333333), (-1, 0, 0.33333337), (-0.3333333, 0, 0.33333337), (0.33333337, 0, 0.33333337), (1, 0, 0.33333337), (-1, 0, 1), (-0.3333333, 0, 1), (0.33333337, 0, 1), (1, 0, 1)] (\n            interpolation = \"vertex\"\n        )\n        uniform token subdivisionScheme = \"none\"\n\n        def GeomSubset \"subset\"\n        {\n            int[] indices = [0, 1, 2]\n            rel material:binding = </Looks/sampleMat>\n        }\n    }\n}\n\ndef \"Looks\"\n{\n    def Material \"sampleMat\"\n    {\n        token outputs:surface.connect = </Looks/sampleMat/sampleShader.outputs:surface>\n\n        def Shader \"sampleShader\"\n        {\n            uniform token info:id = \"UsdPreviewSurface\"\n            color3f inputs:diffuseColor = (1, 0, 0)\n            token outputs:surface\n        }\n    }\n}\n\n\n"
     ]
    }
   ],
   "source": [
    "print(stage.GetRootLayer().ExportToString())"
   ]
  },
  {
   "cell_type": "code",
   "execution_count": 62,
   "metadata": {},
   "outputs": [
    {
     "output_type": "execute_result",
     "data": {
      "text/plain": [
       "True"
      ]
     },
     "metadata": {},
     "execution_count": 62
    }
   ],
   "source": [
    "stage.GetRootLayer().Export(r\"D:\\work\\py37\\sampleUSD\\subset_addMat.usd\")"
   ]
  },
  {
   "source": [
    "![](https://gyazo.com/cb0f205d1aa00b5650aaf4f403e70de8.png)\n",
    "\n",
    "こうなって\n",
    "\n",
    "![](https://gyazo.com/56a96ca6816a98490360d0814702f98b.png)\n",
    "\n",
    "こうなる。"
   ],
   "cell_type": "markdown",
   "metadata": {}
  }
 ]
}