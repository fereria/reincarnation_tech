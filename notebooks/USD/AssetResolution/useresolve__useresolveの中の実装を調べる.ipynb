{
 "cells": [
  {
   "cell_type": "code",
   "execution_count": 1,
   "metadata": {},
   "outputs": [],
   "source": [
    "from pxr import Ar"
   ]
  },
  {
   "cell_type": "code",
   "execution_count": 20,
   "metadata": {},
   "outputs": [
    {
     "name": "stdout",
     "output_type": "stream",
     "text": [
      "<pxr.Ar.Resolver object at 0x000002135C6F1D50>\n"
     ]
    }
   ],
   "source": [
    "# AssetResolverを取得\n",
    "resolver = Ar.GetResolver()\n",
    "print(resolver)"
   ]
  },
  {
   "cell_type": "code",
   "execution_count": 25,
   "metadata": {},
   "outputs": [
    {
     "data": {
      "text/plain": [
       "Ar.ResolvedPath('d:\\usdsample\\change.usda')"
      ]
     },
     "execution_count": 25,
     "metadata": {},
     "output_type": "execute_result"
    }
   ],
   "source": [
    "# ResolvedPathが、すでに解決済のPath\n",
    "# このPathから、新しいAssetPathを作成するのが CreateIdentifierForNewAsset\n",
    "resolved = Ar.ResolvedPath(\"D:/usdsample/hoge.usda\")\n",
    "assetPath = \"./change.usda\"\n",
    "inputPath = resolver.CreateIdentifierForNewAsset(assetPath,resolved)\n",
    "resolver.Resolve(inputPath)"
   ]
  },
  {
   "cell_type": "code",
   "execution_count": 10,
   "metadata": {},
   "outputs": [
    {
     "data": {
      "text/plain": [
       "Ar.ResolverContext(Ar.DefaultResolverContext(['D:\\\\usdsample\\\\']))"
      ]
     },
     "execution_count": 10,
     "metadata": {},
     "output_type": "execute_result"
    }
   ],
   "source": [
    "# AssetPathからContextを作成する\n",
    "resolver.CreateDefaultContextForAsset('D:/usdsample/sample.usda')"
   ]
  },
  {
   "cell_type": "code",
   "execution_count": 17,
   "metadata": {},
   "outputs": [
    {
     "name": "stdout",
     "output_type": "stream",
     "text": [
      "d:\\usdsample\\sample.usda\n"
     ]
    }
   ],
   "source": [
    "# DefaultResolverContextにDefaultSearchPathをセットする。\n",
    "# そのContextは、Binderにセットして使用する。\n",
    "# C++の場合は、そのスコープ内で有効になるが、Pythonの場合は with の範囲内で有効になる。\n",
    "context = Ar.DefaultResolverContext(['D:/usdsample'])\n",
    "with Ar.ResolverContextBinder(context):\n",
    "    print(resolver.Resolve('sample.usda'))"
   ]
  }
 ],
 "metadata": {
  "interpreter": {
   "hash": "90ad37beec7e816fa6224594e71540722bf31854ba11f3943a77de50e81485ba"
  },
  "kernelspec": {
   "display_name": "Python 3.7.7 64-bit",
   "language": "python",
   "name": "python3"
  },
  "language_info": {
   "codemirror_mode": {
    "name": "ipython",
    "version": 3
   },
   "file_extension": ".py",
   "mimetype": "text/x-python",
   "name": "python",
   "nbconvert_exporter": "python",
   "pygments_lexer": "ipython3",
   "version": "3.7.7"
  },
  "orig_nbformat": 4
 },
 "nbformat": 4,
 "nbformat_minor": 2
}
