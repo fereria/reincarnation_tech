{
 "metadata": {
  "language_info": {
   "codemirror_mode": {
    "name": "ipython",
    "version": 3
   },
   "file_extension": ".py",
   "mimetype": "text/x-python",
   "name": "python",
   "nbconvert_exporter": "python",
   "pygments_lexer": "ipython3",
   "version": "3.6.6-final"
  },
  "orig_nbformat": 2,
  "kernelspec": {
   "name": "Python 3.6.6 64-bit",
   "display_name": "Python 3.6.6 64-bit",
   "metadata": {
    "interpreter": {
     "hash": "49fe35232215d10bb53c70fdc7953f3889c7509015122e64fa516da050a8ed66"
    }
   }
  }
 },
 "nbformat": 4,
 "nbformat_minor": 2,
 "cells": [
  {
   "cell_type": "code",
   "execution_count": 67,
   "metadata": {},
   "outputs": [],
   "source": [
    "from pxr import Usd,Vt"
   ]
  },
  {
   "cell_type": "code",
   "execution_count": 68,
   "metadata": {},
   "outputs": [],
   "source": [
    "stage = Usd.Stage.CreateInMemory()\n",
    "layer = stage.GetRootLayer()\n",
    "prim = stage.DefinePrim('/testPrim')\n",
    "path = prim.GetPath()\n",
    "\n",
    "layer.defaultPrim = '/testPrim'"
   ]
  },
  {
   "cell_type": "code",
   "execution_count": 69,
   "metadata": {},
   "outputs": [],
   "source": [
    "# レイヤーに対して色々Metadataを入れる\n",
    "layer.comment = 'hello world'\n",
    "layer.documentation = 'docs'\n",
    "layer.startTimeCode = 1\n",
    "layer.endTimeCode = 30"
   ]
  },
  {
   "cell_type": "code",
   "execution_count": 70,
   "metadata": {},
   "outputs": [
    {
     "output_type": "execute_result",
     "data": {
      "text/plain": [
       "True"
      ]
     },
     "metadata": {},
     "execution_count": 70
    }
   ],
   "source": [
    "# Primに対しても入れる\n",
    "# 配列の場合は Vt.～～Arrayを使う必要あり。\n",
    "prim.SetCustomDataByKey('value', 10) # Int\n",
    "prim.SetCustomDataByKey('listdata',Vt.StringArray(['a','b','c']))\n",
    "prim.SetCustomDataByKey('intlist',Vt.IntArray([1,2,3,4,5]))\n",
    "prim.SetDocumentation('hello world')"
   ]
  },
  {
   "cell_type": "code",
   "execution_count": 71,
   "metadata": {},
   "outputs": [],
   "source": [
    "# AttributeにもMetadataを入れられる\n",
    "attr = prim.CreateAttribute('testAttr',Sdf.ValueTypeNames.String)\n",
    "attr.Set('hoge')\n",
    "# Attributeに対してもMetadataを仕込める\n",
    "attr.SetCustomDataByKey('meta','data')"
   ]
  },
  {
   "cell_type": "code",
   "execution_count": 72,
   "metadata": {},
   "outputs": [
    {
     "output_type": "execute_result",
     "data": {
      "text/plain": [
       "{'customData': {'intlist': Vt.IntArray(5, (1, 2, 3, 4, 5)),\n",
       "  'listdata': Vt.StringArray(3, ('a', 'b', 'c')),\n",
       "  'value': 10},\n",
       " 'documentation': 'hello world',\n",
       " 'specifier': Sdf.SpecifierDef}"
      ]
     },
     "metadata": {},
     "execution_count": 72
    }
   ],
   "source": [
    "prim.GetAllMetadata()"
   ]
  },
  {
   "cell_type": "code",
   "execution_count": 73,
   "metadata": {},
   "outputs": [
    {
     "output_type": "stream",
     "name": "stdout",
     "text": [
      "#usda 1.0\n(\n    \"hello world\"\n    defaultPrim = \"/testPrim\"\n    doc = \"docs\"\n    endTimeCode = 30\n    startTimeCode = 1\n)\n\ndef \"testPrim\" (\n    customData = {\n        int[] intlist = [1, 2, 3, 4, 5]\n        string[] listdata = [\"a\", \"b\", \"c\"]\n        int value = 10\n    }\n    doc = \"hello world\"\n)\n{\n    custom string testAttr = \"hoge\" (\n        customData = {\n            string meta = \"data\"\n        }\n    )\n}\n\n\n"
     ]
    }
   ],
   "source": [
    "print(layer.ExportToString())"
   ]
  }
 ]
}