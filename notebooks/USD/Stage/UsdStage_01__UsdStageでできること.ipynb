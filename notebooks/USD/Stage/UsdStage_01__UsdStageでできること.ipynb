{
 "metadata": {
  "language_info": {
   "codemirror_mode": {
    "name": "ipython",
    "version": 3
   },
   "file_extension": ".py",
   "mimetype": "text/x-python",
   "name": "python",
   "nbconvert_exporter": "python",
   "pygments_lexer": "ipython3",
   "version": "3.7.7"
  },
  "orig_nbformat": 2,
  "kernelspec": {
   "name": "python377jvsc74a57bd090ad37beec7e816fa6224594e71540722bf31854ba11f3943a77de50e81485ba",
   "display_name": "Python 3.7.7 64-bit"
  }
 },
 "nbformat": 4,
 "nbformat_minor": 2,
 "cells": [
  {
   "source": [
    "Stageの使い方いろいろテスト"
   ],
   "cell_type": "markdown",
   "metadata": {}
  },
  {
   "cell_type": "code",
   "execution_count": 1,
   "metadata": {},
   "outputs": [],
   "source": [
    "from pxr import Usd,Sdf"
   ]
  },
  {
   "cell_type": "code",
   "execution_count": 37,
   "metadata": {},
   "outputs": [
    {
     "output_type": "stream",
     "name": "stdout",
     "text": [
      "#usda 1.0\n(\n    defaultPrim = \"Sample\"\n    doc = \"\"\"Generated from Composed Stage of root layer c:\\\\reincarnation_tech\\\\notebooks\\\\USD\\\\Stage\\\\usd\\\\sample.usda\n\"\"\"\n)\n\ndef \"Sample\"\n{\n}\n\n\n"
     ]
    }
   ],
   "source": [
    "# 既存のUSDファイルをロードする\n",
    "stage = Usd.Stage.Open(\"usd/sample.usda\")\n",
    "# 一度ロードしたものをそのあと編集すると、編集した内容がキャッシュされているので\n",
    "# クリアしたい場合はReloadする\n",
    "stage.Reload()\n",
    "# RootLayerをPrintできる\n",
    "print(stage.ExportToString())"
   ]
  },
  {
   "cell_type": "code",
   "execution_count": 38,
   "metadata": {},
   "outputs": [
    {
     "output_type": "stream",
     "name": "stdout",
     "text": [
      "True\n"
     ]
    }
   ],
   "source": [
    "# DefaultPrimを取得して、Attributeを追加する\n",
    "print(stage.HasDefaultPrim()) # DefaultPrimを持っているか\n",
    "prim = stage.GetDefaultPrim()\n",
    "prim.CreateAttribute(\"hoge\",Sdf.ValueTypeNames.String).Set(\"Fuga\")\n",
    "layer = stage.GetRootLayer()"
   ]
  },
  {
   "cell_type": "code",
   "execution_count": 39,
   "metadata": {},
   "outputs": [
    {
     "output_type": "stream",
     "name": "stdout",
     "text": [
      "#usda 1.0\n(\n    defaultPrim = \"Sample\"\n    doc = \"\"\"Generated from Composed Stage of root layer c:\\\\reincarnation_tech\\\\notebooks\\\\USD\\\\Stage\\\\usd\\\\sample.usda\n\"\"\"\n    endTimeCode = 30\n    startTimeCode = 1\n)\n\ndef \"Sample\"\n{\n    custom string hoge = \"Fuga\"\n}\n\n\n"
     ]
    }
   ],
   "source": [
    "# TimeCode指定\n",
    "stage.SetStartTimeCode(1)\n",
    "stage.SetEndTimeCode(30)\n",
    "print(stage.ExportToString())"
   ]
  },
  {
   "cell_type": "code",
   "execution_count": 40,
   "metadata": {},
   "outputs": [],
   "source": [
    "# セッションレイヤーを取得して、EditTargetにする\n",
    "session = stage.GetSessionLayer()\n",
    "target = Usd.EditTarget(session)\n",
    "stage.SetEditTarget(target)\n",
    "session.subLayerPaths = [layer.identifier]"
   ]
  },
  {
   "cell_type": "code",
   "execution_count": 41,
   "metadata": {},
   "outputs": [
    {
     "output_type": "stream",
     "name": "stdout",
     "text": [
      "anon:000001B2F688ADF0:sample-session.usda\n/ -> /\nNone\n"
     ]
    }
   ],
   "source": [
    "# Targetは、ステージのEdit対象レイヤーのこと。\n",
    "print(target.GetLayer().identifier)\n",
    "# どこのSdfPathにMapされるか\n",
    "print(target.GetMapFunction())\n",
    "# TargetのレイヤーからPrimSpecを取得する\n",
    "print(target.GetPrimSpecForScenePath(\"/Sample\"))"
   ]
  },
  {
   "cell_type": "code",
   "execution_count": 42,
   "metadata": {},
   "outputs": [
    {
     "output_type": "execute_result",
     "data": {
      "text/plain": [
       "True"
      ]
     },
     "metadata": {},
     "execution_count": 42
    }
   ],
   "source": [
    "# Prim定義\n",
    "prim = stage.DefinePrim(\"/SampleB\")\n",
    "# Overを定義\n",
    "over = stage.OverridePrim(\"/Sample\")\n",
    "over.CreateAttribute(\"fuga\",Sdf.ValueTypeNames.String).Set(\"hoge\")"
   ]
  },
  {
   "cell_type": "code",
   "execution_count": 43,
   "metadata": {},
   "outputs": [
    {
     "output_type": "stream",
     "name": "stdout",
     "text": [
      "#usda 1.0\n(\n    subLayers = [\n        @usd/sample.usda@\n    ]\n)\n\ndef \"SampleB\"\n{\n}\n\nover \"Sample\"\n{\n    custom string fuga = \"hoge\"\n}\n\n\n"
     ]
    }
   ],
   "source": [
    "print(session.ExportToString())"
   ]
  },
  {
   "cell_type": "code",
   "execution_count": 44,
   "metadata": {},
   "outputs": [
    {
     "output_type": "stream",
     "name": "stdout",
     "text": [
      "#usda 1.0\n(\n    defaultPrim = \"Sample\"\n    endTimeCode = 30\n    startTimeCode = 1\n)\n\ndef \"Sample\"\n{\n    custom string hoge = \"Fuga\"\n}\n\n\n"
     ]
    }
   ],
   "source": [
    "print(layer.ExportToString())"
   ]
  },
  {
   "cell_type": "code",
   "execution_count": 45,
   "metadata": {},
   "outputs": [
    {
     "output_type": "stream",
     "name": "stdout",
     "text": [
      "#usda 1.0\n(\n    defaultPrim = \"Sample\"\n    doc = \"\"\"Generated from Composed Stage of root layer c:\\\\reincarnation_tech\\\\notebooks\\\\USD\\\\Stage\\\\usd\\\\sample.usda\n\"\"\"\n    endTimeCode = 30\n    startTimeCode = 1\n)\n\ndef \"Sample\"\n{\n    custom string fuga = \"hoge\"\n    custom string hoge = \"Fuga\"\n}\n\ndef \"SampleB\"\n{\n}\n\n\n"
     ]
    }
   ],
   "source": [
    "print(stage.ExportToString())"
   ]
  },
  {
   "cell_type": "code",
   "execution_count": 46,
   "metadata": {},
   "outputs": [
    {
     "output_type": "stream",
     "name": "stdout",
     "text": [
      "#usda 1.0\n(\n    defaultPrim = \"Sample\"\n    doc = \"\"\"Generated from Composed Stage of root layer c:\\\\reincarnation_tech\\\\notebooks\\\\USD\\\\Stage\\\\usd\\\\sample.usda\n\"\"\"\n    endTimeCode = 30\n    startTimeCode = 1\n)\n\ndef \"Sample\"\n{\n    custom string hoge = \"Fuga\"\n}\n\n\n"
     ]
    }
   ],
   "source": [
    "# SessionLayerをミュートする\n",
    "stage.MuteLayer(session.identifier)\n",
    "print(stage.ExportToString())"
   ]
  },
  {
   "cell_type": "code",
   "execution_count": 47,
   "metadata": {},
   "outputs": [
    {
     "output_type": "stream",
     "name": "stdout",
     "text": [
      "Usd.Prim(</Sample>)\nUsd.Prim(</SampleB>)\n"
     ]
    }
   ],
   "source": [
    "# UnmuteしてTraverse\n",
    "stage.UnmuteLayer(session.identifier)\n",
    "for prim in stage.Traverse():\n",
    "    print(prim)"
   ]
  },
  {
   "cell_type": "code",
   "execution_count": 48,
   "metadata": {},
   "outputs": [
    {
     "output_type": "stream",
     "name": "stdout",
     "text": [
      "#usda 1.0\n(\n    doc = \"\"\"Generated from Composed Stage of root layer \n\"\"\"\n)\n\n\n"
     ]
    }
   ],
   "source": [
    "# Memory上にレイヤーを作成する\n",
    "memStage = Usd.Stage.CreateInMemory()\n",
    "print(memStage.ExportToString())"
   ]
  },
  {
   "cell_type": "code",
   "execution_count": 49,
   "metadata": {},
   "outputs": [
    {
     "output_type": "stream",
     "name": "stdout",
     "text": [
      "Sdf.Find('anon:000001B2F688ADF0:sample-session.usda')\nSdf.Find('usd/sample.usda')\nSdf.Find('usd/sample.usda')\n"
     ]
    }
   ],
   "source": [
    "# レイヤースタックを取得\n",
    "for stack in stage.GetLayerStack():\n",
    "    print(stack)"
   ]
  },
  {
   "cell_type": "code",
   "execution_count": 36,
   "metadata": {},
   "outputs": [
    {
     "output_type": "stream",
     "name": "stdout",
     "text": [
      "[Sdf.Find('anon:000001B2F688D8F0:sample-session.usda'), Sdf.Find('usd/sample.usda')]\n"
     ]
    }
   ],
   "source": [
    "# レイヤーを取得\n",
    "print(stage.GetUsedLayers())"
   ]
  }
 ]
}