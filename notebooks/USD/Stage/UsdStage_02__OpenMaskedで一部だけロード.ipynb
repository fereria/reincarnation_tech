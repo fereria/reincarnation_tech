{
 "cells": [
  {
   "cell_type": "markdown",
   "id": "5b08700f-09e7-475b-8355-b9691fa68cee",
   "metadata": {},
   "source": [
    "Stage.OpenMaskedは、その名の通り PopulationMaskで指定したSdfPathに含まれるPrimのみ  \n",
    "ロードすることができる機能。  \n",
    "巨大なシーンのうち、一部だけ（レンダーセッティングだけ、ある区画のモデルだけ）を編集したい場合  \n",
    "すべてをロードするのではなく、Maskを使用して部分的にロードすることで  \n",
    "より効率的に作業することができる。"
   ]
  },
  {
   "cell_type": "code",
   "execution_count": 7,
   "id": "007b112a-bd2a-460f-a402-9f4334245a44",
   "metadata": {},
   "outputs": [],
   "source": [
    "import os\n",
    "os.makedirs('usd')\n",
    "ROOT_DIR = os.getcwd() + \"/usd\""
   ]
  },
  {
   "cell_type": "code",
   "execution_count": 4,
   "id": "ef036f3c-3842-48a5-a6f3-c9bffdf2fafb",
   "metadata": {},
   "outputs": [],
   "source": [
    "from pxr import Usd,Sdf"
   ]
  },
  {
   "cell_type": "code",
   "execution_count": 9,
   "id": "f9e1cf9d-dcea-4224-a605-470602aefdd5",
   "metadata": {},
   "outputs": [
    {
     "data": {
      "text/plain": [
       "True"
      ]
     },
     "execution_count": 9,
     "metadata": {},
     "output_type": "execute_result"
    }
   ],
   "source": [
    "stage = Usd.Stage.CreateInMemory()\n",
    "stage.DefinePrim(\"/a\")\n",
    "stage.DefinePrim(\"/b\")\n",
    "stage.DefinePrim(\"/c\")\n",
    "stage.GetRootLayer().Export(f\"{ROOT_DIR}/loadLayer.usd\")"
   ]
  },
  {
   "cell_type": "code",
   "execution_count": 18,
   "id": "d8d5b3a6-4e71-49ea-9959-240d5705c838",
   "metadata": {},
   "outputs": [],
   "source": [
    "# SdfPathで指定した部分だけロードするのがOpenMasked\n",
    "# SdfPathのリストを作るのがStagePopulationMask\n",
    "mask = Usd.StagePopulationMask().Add('/a')"
   ]
  },
  {
   "cell_type": "code",
   "execution_count": 15,
   "id": "5234d73d-152b-4e77-b73b-32cc0691e751",
   "metadata": {},
   "outputs": [],
   "source": [
    "stageB = Usd.Stage.OpenMasked(f\"{ROOT_DIR}/loadLayer.usd\",mask)"
   ]
  },
  {
   "cell_type": "code",
   "execution_count": 17,
   "id": "48fd8bc5-865a-401c-bb4c-401e5e015828",
   "metadata": {},
   "outputs": [
    {
     "name": "stdout",
     "output_type": "stream",
     "text": [
      "#usda 1.0\n",
      "(\n",
      "    doc = \"\"\"Generated from Composed Stage of root layer /work_dir/usd/loadLayer.usd\n",
      "\"\"\"\n",
      ")\n",
      "\n",
      "def \"a\"\n",
      "{\n",
      "}\n",
      "\n",
      "\n"
     ]
    }
   ],
   "source": [
    "# /a のみロードするようにMaskした例。\n",
    "print(stageB.ExportToString())"
   ]
  },
  {
   "cell_type": "code",
   "execution_count": 20,
   "id": "b1e5e227-d74b-4810-bdfe-7788fb80a743",
   "metadata": {},
   "outputs": [
    {
     "name": "stdout",
     "output_type": "stream",
     "text": [
      "UsdStagePopulationMask([ /a /b ])\n"
     ]
    }
   ],
   "source": [
    "# ２つのPopulationMaskを結合\n",
    "maskB = Usd.StagePopulationMask().Add('/b')\n",
    "union = Usd.StagePopulationMask().Union(mask,maskB)\n",
    "print(union)"
   ]
  },
  {
   "cell_type": "code",
   "execution_count": 32,
   "id": "7b76b751-2581-44cd-bd16-3fb00cc55933",
   "metadata": {},
   "outputs": [
    {
     "name": "stdout",
     "output_type": "stream",
     "text": [
      "UsdStagePopulationMask([ ])\n",
      "True\n"
     ]
    }
   ],
   "source": [
    "# ２つのPopulationMaskの重複部分を取得する場合\n",
    "intersection = Usd.StagePopulationMask().Intersection(mask,maskB)\n",
    "print(intersection)\n",
    "# PopulationMaskにPathが含まれてるか？\n",
    "print(intersection.IsEmpty())"
   ]
  },
  {
   "cell_type": "code",
   "execution_count": 25,
   "id": "b795bab7-d134-4473-a2f2-59bfc8408383",
   "metadata": {},
   "outputs": [
    {
     "name": "stdout",
     "output_type": "stream",
     "text": [
      "#usda 1.0\n",
      "(\n",
      "    doc = \"\"\"Generated from Composed Stage of root layer /work_dir/usd/loadLayer.usd\n",
      "\"\"\"\n",
      ")\n",
      "\n",
      "def \"a\"\n",
      "{\n",
      "}\n",
      "\n",
      "def \"b\"\n",
      "{\n",
      "}\n",
      "\n",
      "\n"
     ]
    }
   ],
   "source": [
    "stageC = Usd.Stage.OpenMasked(f\"{ROOT_DIR}/loadLayer.usd\", mask.GetUnion(maskB))\n",
    "print(stageC.ExportToString())"
   ]
  },
  {
   "cell_type": "code",
   "execution_count": 26,
   "id": "3f70f3a8-608b-4dc1-ad0c-4c49d38c1009",
   "metadata": {},
   "outputs": [
    {
     "data": {
      "text/plain": [
       "False"
      ]
     },
     "execution_count": 26,
     "metadata": {},
     "output_type": "execute_result"
    }
   ],
   "source": [
    "mask.Includes(maskB)"
   ]
  },
  {
   "cell_type": "code",
   "execution_count": 29,
   "id": "14f60e5f-0559-4bad-aea9-15a869e433c9",
   "metadata": {},
   "outputs": [],
   "source": [
    "maskC = Usd.StagePopulationMask().Add('/a')"
   ]
  },
  {
   "cell_type": "code",
   "execution_count": 31,
   "id": "7fe844c9-9cb7-4711-8db9-940914b025cd",
   "metadata": {},
   "outputs": [
    {
     "data": {
      "text/plain": [
       "True"
      ]
     },
     "execution_count": 31,
     "metadata": {},
     "output_type": "execute_result"
    }
   ],
   "source": [
    "# maskに maskC の要素が含まれるかどうか\n",
    "mask.Includes(maskC)"
   ]
  },
  {
   "cell_type": "code",
   "execution_count": 33,
   "id": "f61b96d7-e54f-4015-845b-be319e624e4f",
   "metadata": {},
   "outputs": [
    {
     "name": "stdout",
     "output_type": "stream",
     "text": [
      "UsdStagePopulationMask([ /a /b ])\n"
     ]
    }
   ],
   "source": [
    "# Get～だと、今のMaskと引数のMaskの結果を取得できる\n",
    "print(mask.GetUnion(maskB))"
   ]
  },
  {
   "cell_type": "code",
   "execution_count": null,
   "id": "b10180e9-4e50-4476-86f7-0c289413f044",
   "metadata": {},
   "outputs": [],
   "source": []
  }
 ],
 "metadata": {
  "kernelspec": {
   "display_name": "Python 3",
   "language": "python",
   "name": "python3"
  },
  "language_info": {
   "codemirror_mode": {
    "name": "ipython",
    "version": 3
   },
   "file_extension": ".py",
   "mimetype": "text/x-python",
   "name": "python",
   "nbconvert_exporter": "python",
   "pygments_lexer": "ipython3",
   "version": "3.7.10"
  }
 },
 "nbformat": 4,
 "nbformat_minor": 5
}
