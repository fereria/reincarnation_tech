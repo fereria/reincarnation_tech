{
 "metadata": {
  "language_info": {
   "codemirror_mode": {
    "name": "ipython",
    "version": 3
   },
   "file_extension": ".py",
   "mimetype": "text/x-python",
   "name": "python",
   "nbconvert_exporter": "python",
   "pygments_lexer": "ipython3",
   "version": "3.7.7"
  },
  "orig_nbformat": 2,
  "kernelspec": {
   "name": "python377jvsc74a57bd090ad37beec7e816fa6224594e71540722bf31854ba11f3943a77de50e81485ba",
   "display_name": "Python 3.7.7 64-bit"
  }
 },
 "nbformat": 4,
 "nbformat_minor": 2,
 "cells": [
  {
   "cell_type": "code",
   "execution_count": 1,
   "metadata": {},
   "outputs": [],
   "source": [
    "from pxr import Usd"
   ]
  },
  {
   "cell_type": "code",
   "execution_count": 3,
   "metadata": {},
   "outputs": [
    {
     "output_type": "execute_result",
     "data": {
      "text/plain": [
       "Usd.Prim(</foo/bar>)"
      ]
     },
     "metadata": {},
     "execution_count": 3
    }
   ],
   "source": [
    "stage = Usd.Stage.CreateInMemory()\n",
    "stage.DefinePrim(\"/hoge/fuga\")\n",
    "stage.DefinePrim(\"/foo/bar\")"
   ]
  },
  {
   "cell_type": "code",
   "execution_count": 10,
   "metadata": {},
   "outputs": [],
   "source": [
    "pm = Usd.StagePopulationMask()"
   ]
  },
  {
   "cell_type": "code",
   "execution_count": 11,
   "metadata": {},
   "outputs": [
    {
     "output_type": "execute_result",
     "data": {
      "text/plain": [
       "Usd.StagePopulationMask([Sdf.Path('/hoge/fuga')])"
      ]
     },
     "metadata": {},
     "execution_count": 11
    }
   ],
   "source": [
    "pm.Add('/hoge/fuga')"
   ]
  },
  {
   "cell_type": "code",
   "execution_count": 12,
   "metadata": {},
   "outputs": [],
   "source": [
    "st = Usd.Stage.OpenMasked(stage.GetRootLayer(),pm)"
   ]
  },
  {
   "cell_type": "code",
   "execution_count": 13,
   "metadata": {},
   "outputs": [
    {
     "output_type": "execute_result",
     "data": {
      "text/plain": [
       "Usd.StagePopulationMask([Sdf.Path('/hoge/fuga')])"
      ]
     },
     "metadata": {},
     "execution_count": 13
    }
   ],
   "source": [
    "st.GetPopulationMask()"
   ]
  },
  {
   "cell_type": "code",
   "execution_count": 15,
   "metadata": {},
   "outputs": [
    {
     "output_type": "stream",
     "name": "stdout",
     "text": [
      "#usda 1.0\n(\n    doc = \"\"\"Generated from Composed Stage of root layer \n\"\"\"\n)\n\ndef \"hoge\"\n{\n    def \"fuga\"\n    {\n    }\n}\n\ndef \"foo\"\n{\n    def \"bar\"\n    {\n    }\n}\n\n\n"
     ]
    }
   ],
   "source": [
    "print(stage.ExportToString())"
   ]
  },
  {
   "cell_type": "code",
   "execution_count": 27,
   "metadata": {},
   "outputs": [
    {
     "output_type": "execute_result",
     "data": {
      "text/plain": [
       "Usd.StagePopulationMask([Sdf.Path('/a/b')])"
      ]
     },
     "metadata": {},
     "execution_count": 27
    }
   ],
   "source": [
    "p = Usd.StagePopulationMask()\n",
    "p.Add('/a/b')\n",
    "p1 = Usd.StagePopulationMask()\n",
    "p1.Add('/a/b')"
   ]
  },
  {
   "cell_type": "code",
   "execution_count": 28,
   "metadata": {},
   "outputs": [
    {
     "output_type": "execute_result",
     "data": {
      "text/plain": [
       "False"
      ]
     },
     "metadata": {},
     "execution_count": 28
    }
   ],
   "source": [
    "p.GetUnion(p1).Includes('/c')"
   ]
  },
  {
   "cell_type": "code",
   "execution_count": 29,
   "metadata": {},
   "outputs": [
    {
     "output_type": "execute_result",
     "data": {
      "text/plain": [
       "Usd.StagePopulationMask([Sdf.Path('/a/b')])"
      ]
     },
     "metadata": {},
     "execution_count": 29
    }
   ],
   "source": [
    "Usd.StagePopulationMask.Intersection(p,p1)"
   ]
  },
  {
   "cell_type": "code",
   "execution_count": null,
   "metadata": {},
   "outputs": [],
   "source": []
  }
 ]
}