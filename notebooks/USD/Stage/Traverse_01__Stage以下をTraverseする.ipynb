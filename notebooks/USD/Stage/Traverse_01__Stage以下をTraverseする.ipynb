{
 "metadata": {
  "language_info": {
   "codemirror_mode": {
    "name": "ipython",
    "version": 3
   },
   "file_extension": ".py",
   "mimetype": "text/x-python",
   "name": "python",
   "nbconvert_exporter": "python",
   "pygments_lexer": "ipython3",
   "version": "3.7.7"
  },
  "orig_nbformat": 2,
  "kernelspec": {
   "name": "python377jvsc74a57bd090ad37beec7e816fa6224594e71540722bf31854ba11f3943a77de50e81485ba",
   "display_name": "Python 3.7.7 64-bit"
  }
 },
 "nbformat": 4,
 "nbformat_minor": 2,
 "cells": [
  {
   "cell_type": "code",
   "execution_count": 1,
   "metadata": {},
   "outputs": [],
   "source": [
    "from pxr import Usd,Sdf"
   ]
  },
  {
   "cell_type": "code",
   "execution_count": 3,
   "metadata": {},
   "outputs": [],
   "source": [
    "layer = Sdf.Layer.FindOrOpen(r\"D:\\Kitchen_set\\Kitchen_set.usd\")\n",
    "stage = Usd.Stage.Open(layer)"
   ]
  },
  {
   "cell_type": "code",
   "execution_count": 4,
   "metadata": {},
   "outputs": [
    {
     "output_type": "stream",
     "name": "stdout",
     "text": [
      "Usd.Prim(</Kitchen_set>)\n"
     ]
    }
   ],
   "source": [
    "defaultPrim = stage.GetDefaultPrim()\n",
    "print(defaultPrim)"
   ]
  },
  {
   "cell_type": "code",
   "execution_count": 6,
   "metadata": {
    "tags": []
   },
   "outputs": [
    {
     "output_type": "stream",
     "name": "stdout",
     "text": [
      "2742\n"
     ]
    }
   ],
   "source": [
    "# シーン以下をTranverseする\n",
    "# Traverse すれば、全PrimをTraverseできる。\n",
    "allPrim = [x for x in stage.Traverse()]\n",
    "print(len(allPrim))"
   ]
  },
  {
   "cell_type": "code",
   "execution_count": 8,
   "metadata": {},
   "outputs": [
    {
     "output_type": "stream",
     "name": "stdout",
     "text": [
      "Usd.Prim(</Kitchen_set>)\nUsd.Prim(</Kitchen_set/Arch_grp>)\nUsd.Prim(</Kitchen_set/Props_grp>)\nUsd.Prim(</Kitchen_set/Props_grp/North_grp>)\nUsd.Prim(</Kitchen_set/Props_grp/North_grp/NorthWall_grp>)\nUsd.Prim(</Kitchen_set/Props_grp/North_grp/SinkArea_grp>)\nUsd.Prim(</Kitchen_set/Props_grp/North_grp/SinkArea_grp/Cupboard_grp>)\nUsd.Prim(</Kitchen_set/Props_grp/North_grp/SinkArea_grp/Cupboard_grp/WallFruits_set>)\nUsd.Prim(</Kitchen_set/Props_grp/North_grp/SinkArea_grp/Cupboard_grp/WallFruits_set/WallApples_grp>)\nUsd.Prim(</Kitchen_set/Props_grp/North_grp/SinkArea_grp/Cupboard_grp/WallFruits_set/WallBanana_grp>)\nUsd.Prim(</Kitchen_set/Props_grp/North_grp/SinkArea_grp/Cupboard_grp/WallFruits_set/WallFlower_grp>)\nUsd.Prim(</Kitchen_set/Props_grp/North_grp/SinkArea_grp/Cupboard_grp/WallFruits_set/WallOrange_grp>)\nUsd.Prim(</Kitchen_set/Props_grp/North_grp/SinkArea_grp/CookingUtensils_grp>)\nUsd.Prim(</Kitchen_set/Props_grp/North_grp/SinkArea_grp/DryingRack_grp>)\nUsd.Prim(</Kitchen_set/Props_grp/North_grp/SinkArea_grp/Sink_grp>)\nUsd.Prim(</Kitchen_set/Props_grp/North_grp/SinkArea_grp/Countertop_grp>)\nUsd.Prim(</Kitchen_set/Props_grp/North_grp/SinkArea_grp/SinkFloor_grp>)\nUsd.Prim(</Kitchen_set/Props_grp/North_grp/StoveArea_grp>)\nUsd.Prim(</Kitchen_set/Props_grp/North_grp/FridgeArea_grp>)\nUsd.Prim(</Kitchen_set/Props_grp/West_grp>)\nUsd.Prim(</Kitchen_set/Props_grp/West_grp/WestWall_grp>)\nUsd.Prim(</Kitchen_set/Props_grp/West_grp/FoldingTable_grp>)\nUsd.Prim(</Kitchen_set/Props_grp/DiningTable_grp>)\nUsd.Prim(</Kitchen_set/Props_grp/DiningTable_grp/TableTop_grp>)\nUsd.Prim(</Kitchen_set/Props_grp/DiningTable_grp/TableTop_grp/CerealBowl_grp>)\nUsd.Prim(</Kitchen_set/Props_grp/DiningTable_grp/TableTop_grp/CerealBowl_grp/Cheerios_grp>)\nUsd.Prim(</Kitchen_set/Props_grp/Ceiling_grp>)\n"
     ]
    }
   ],
   "source": [
    "# Unloadした状態\n",
    "# Unloadしているので、PayloadsのPrim以下は表示されていない。\n",
    "stageB = Usd.Stage.Open(r\"D:\\Kitchen_set\\Kitchen_set.usd\",Usd.Stage.LoadNone)\n",
    "for i in stageB.Traverse():\n",
    "    print(i)"
   ]
  },
  {
   "cell_type": "code",
   "execution_count": 15,
   "metadata": {},
   "outputs": [],
   "source": [
    "# Unloadしているけど、PayloadsがあるPrimを表示したい場合は\n",
    "# GetFilteredChildren を使用してフィルタリングする。\n",
    "prims = []\n",
    "def Traverse(prim,ret):\n",
    "    ret.append(prim)\n",
    "    for c in prim.GetFilteredChildren(Usd.PrimIsActive & Usd.PrimIsDefined & ~Usd.PrimIsAbstract):\n",
    "        Traverse(c,ret)"
   ]
  },
  {
   "cell_type": "code",
   "execution_count": 16,
   "metadata": {
    "tags": []
   },
   "outputs": [
    {
     "output_type": "stream",
     "name": "stdout",
     "text": [
      "452\n"
     ]
    }
   ],
   "source": [
    "Traverse(stageB.GetDefaultPrim(),prims)\n",
    "print(len(prims))"
   ]
  }
 ]
}