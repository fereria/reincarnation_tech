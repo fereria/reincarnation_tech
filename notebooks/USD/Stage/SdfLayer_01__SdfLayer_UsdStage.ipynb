{
 "metadata": {
  "language_info": {
   "codemirror_mode": {
    "name": "ipython",
    "version": 3
   },
   "file_extension": ".py",
   "mimetype": "text/x-python",
   "name": "python",
   "nbconvert_exporter": "python",
   "pygments_lexer": "ipython3",
   "version": "3.7.7"
  },
  "orig_nbformat": 2,
  "kernelspec": {
   "name": "python377jvsc74a57bd090ad37beec7e816fa6224594e71540722bf31854ba11f3943a77de50e81485ba",
   "display_name": "Python 3.7.7 64-bit"
  }
 },
 "nbformat": 4,
 "nbformat_minor": 2,
 "cells": [
  {
   "cell_type": "code",
   "execution_count": 52,
   "metadata": {},
   "outputs": [],
   "source": [
    "from pxr import Usd,Sdf\n",
    "import os"
   ]
  },
  {
   "cell_type": "code",
   "execution_count": 53,
   "metadata": {},
   "outputs": [
    {
     "output_type": "execute_result",
     "data": {
      "text/plain": [
       "False"
      ]
     },
     "metadata": {},
     "execution_count": 53
    }
   ],
   "source": [
    "layer = Sdf.Layer.CreateAnonymous()\n",
    "layer.Reload()"
   ]
  },
  {
   "cell_type": "code",
   "execution_count": 54,
   "metadata": {},
   "outputs": [],
   "source": [
    "spec = Sdf.CreatePrimInLayer(layer,'/sample')"
   ]
  },
  {
   "cell_type": "code",
   "execution_count": 55,
   "metadata": {},
   "outputs": [
    {
     "output_type": "stream",
     "name": "stdout",
     "text": [
      "#sdf 1.4.32\n\nover \"sample\"\n{\n}\n\n\n"
     ]
    }
   ],
   "source": [
    "print(layer.ExportToString())"
   ]
  },
  {
   "cell_type": "code",
   "execution_count": 56,
   "metadata": {},
   "outputs": [
    {
     "output_type": "stream",
     "name": "stdout",
     "text": [
      "['apiSchemas', 'suffixSubstitutions', 'active', 'symmetryArguments', 'assetInfo', 'instanceable', 'customData', 'displayGroupOrder', 'documentation', 'hidden', 'kind', 'payload', 'permission', 'clips', 'prefix', 'prefixSubstitutions', 'suffix', 'symmetricPeer', 'symmetryFunction', 'typeName', 'sample_metadata', 'payloadAssetDependencies', 'inactiveIds', 'clipSets', 'sdrMetadata']\n"
     ]
    }
   ],
   "source": [
    "# MetaDataの一覧を表示\n",
    "print(spec.GetMetaDataInfoKeys())"
   ]
  },
  {
   "cell_type": "code",
   "execution_count": 57,
   "metadata": {},
   "outputs": [
    {
     "output_type": "stream",
     "name": "stdout",
     "text": [
      "{}\n{}\nSdf.Find('anon:0000020E4E1F5600', '/')\n{ 'added': []'prepended': []'appended': [], 'deleted': [], 'ordered': [] }\n{ 'added': []'prepended': []'appended': [], 'deleted': [], 'ordered': [] }\n{}\nSdf.SpecifierOver\n\n"
     ]
    }
   ],
   "source": [
    "# PrimSpec\n",
    "spec.GetObjectAtPath('/sample')\n",
    "print(spec.attributes)\n",
    "print(spec.properties)\n",
    "spec.customData\n",
    "print(spec.nameRoot)\n",
    "print(spec.payloadList)\n",
    "print(spec.referenceList)\n",
    "print(spec.relationships)\n",
    "print(spec.specifier)\n",
    "print(spec.kind)\n",
    "# overではなく defにする\n",
    "spec.specifier = Sdf.SpecifierDef # Defaultは Sdf.SpecifierOver"
   ]
  },
  {
   "cell_type": "code",
   "execution_count": 59,
   "metadata": {},
   "outputs": [
    {
     "output_type": "stream",
     "name": "stdout",
     "text": [
      "#sdf 1.4.32\n\ndef \"sample\"\n{\n}\n\n\n"
     ]
    }
   ],
   "source": [
    "print(layer.ExportToString())"
   ]
  },
  {
   "cell_type": "code",
   "execution_count": 60,
   "metadata": {},
   "outputs": [],
   "source": [
    "# Stageを使用してLayerを操作\n",
    "stage = Usd.Stage.Open(layer)\n",
    "prim = stage.DefinePrim('/sampleB')"
   ]
  },
  {
   "cell_type": "code",
   "execution_count": 61,
   "metadata": {},
   "outputs": [
    {
     "output_type": "stream",
     "name": "stdout",
     "text": [
      "#sdf 1.4.32\n\ndef \"sample\"\n{\n}\n\ndef \"sampleB\"\n{\n}\n\n\n"
     ]
    }
   ],
   "source": [
    "print(layer.ExportToString())"
   ]
  },
  {
   "cell_type": "code",
   "execution_count": 73,
   "metadata": {},
   "outputs": [
    {
     "output_type": "execute_result",
     "data": {
      "text/plain": [
       "True"
      ]
     },
     "metadata": {},
     "execution_count": 73
    }
   ],
   "source": [
    "# Referenceを指定\n",
    "prim.GetReferences().AddReference(f'{os.getcwd()}/usd/sample.usda')\n",
    "# Attribute追加\n",
    "attr = prim.CreateAttribute('hoge',Sdf.ValueTypeNames.String)\n",
    "attr.Set(\"fugafuga\")"
   ]
  },
  {
   "cell_type": "code",
   "execution_count": 63,
   "metadata": {},
   "outputs": [
    {
     "output_type": "stream",
     "name": "stdout",
     "text": [
      "#sdf 1.4.32\n\ndef \"sample\"\n{\n}\n\ndef \"sampleB\" (\n    prepend references = @c:\\reincarnation_tech\\notebooks\\USD\\Stage/usd/sample.usda@\n)\n{\n}\n\n\n"
     ]
    }
   ],
   "source": [
    "print(layer.ExportToString())"
   ]
  },
  {
   "cell_type": "code",
   "execution_count": 68,
   "metadata": {},
   "outputs": [
    {
     "output_type": "stream",
     "name": "stdout",
     "text": [
      "{ 'added': []'prepended': [SdfReference(c:\\reincarnation_tech\\notebooks\\USD\\Stage/usd/sample.usda, , SdfLayerOffset(0, 1), {})]'appended': [], 'deleted': [], 'ordered': [] }\n"
     ]
    }
   ],
   "source": [
    "# LayerからPrimSpecを取得して、referenceを取得する\n",
    "specB = layer.GetPrimAtPath('/sampleB')\n",
    "print(specB.referenceList)"
   ]
  },
  {
   "cell_type": "code",
   "execution_count": 90,
   "metadata": {},
   "outputs": [],
   "source": [
    "# SpecからAttribute取得\n",
    "attrSpec = specB.attributes['hoge']"
   ]
  },
  {
   "cell_type": "code",
   "execution_count": 91,
   "metadata": {},
   "outputs": [
    {
     "output_type": "stream",
     "name": "stdout",
     "text": [
      "hoge\nfugafuga\n"
     ]
    }
   ],
   "source": [
    "# AttributeNameを取得\n",
    "print(attrSpec.name)\n",
    "# Specから値を取得\n",
    "print(attrSpec.default)"
   ]
  },
  {
   "cell_type": "code",
   "execution_count": null,
   "metadata": {},
   "outputs": [],
   "source": []
  }
 ]
}