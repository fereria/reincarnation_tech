{
 "metadata": {
  "language_info": {
   "codemirror_mode": {
    "name": "ipython",
    "version": 3
   },
   "file_extension": ".py",
   "mimetype": "text/x-python",
   "name": "python",
   "nbconvert_exporter": "python",
   "pygments_lexer": "ipython3",
   "version": "3.7.7"
  },
  "orig_nbformat": 2,
  "kernelspec": {
   "name": "python377jvsc74a57bd090ad37beec7e816fa6224594e71540722bf31854ba11f3943a77de50e81485ba",
   "display_name": "Python 3.7.7 64-bit"
  }
 },
 "nbformat": 4,
 "nbformat_minor": 2,
 "cells": [
  {
   "cell_type": "code",
   "execution_count": 52,
   "metadata": {},
   "outputs": [],
   "source": [
    "from pxr import Usd,Sdf\n",
    "import os"
   ]
  },
  {
   "cell_type": "code",
   "execution_count": 53,
   "metadata": {},
   "outputs": [
    {
     "output_type": "execute_result",
     "data": {
      "text/plain": [
       "False"
      ]
     },
     "metadata": {},
     "execution_count": 53
    }
   ],
   "source": [
    "layer = Sdf.Layer.CreateAnonymous()\n",
    "layer.Reload()"
   ]
  },
  {
   "cell_type": "code",
   "execution_count": 54,
   "metadata": {},
   "outputs": [],
   "source": [
    "spec = Sdf.CreatePrimInLayer(layer,'/sample')"
   ]
  },
  {
   "cell_type": "code",
   "execution_count": 55,
   "metadata": {},
   "outputs": [
    {
     "output_type": "stream",
     "name": "stdout",
     "text": [
      "#sdf 1.4.32\n\nover \"sample\"\n{\n}\n\n\n"
     ]
    }
   ],
   "source": [
    "print(layer.ExportToString())"
   ]
  },
  {
   "cell_type": "code",
   "execution_count": 56,
   "metadata": {},
   "outputs": [
    {
     "output_type": "stream",
     "name": "stdout",
     "text": [
      "['apiSchemas', 'suffixSubstitutions', 'active', 'symmetryArguments', 'assetInfo', 'instanceable', 'customData', 'displayGroupOrder', 'documentation', 'hidden', 'kind', 'payload', 'permission', 'clips', 'prefix', 'prefixSubstitutions', 'suffix', 'symmetricPeer', 'symmetryFunction', 'typeName', 'sample_metadata', 'payloadAssetDependencies', 'inactiveIds', 'clipSets', 'sdrMetadata']\n"
     ]
    }
   ],
   "source": [
    "# MetaDataの一覧を表示\n",
    "print(spec.GetMetaDataInfoKeys())"
   ]
  },
  {
   "cell_type": "code",
   "execution_count": 57,
   "metadata": {},
   "outputs": [
    {
     "output_type": "stream",
     "name": "stdout",
     "text": [
      "{}\n{}\nSdf.Find('anon:0000020E4E1F5600', '/')\n{ 'added': []'prepended': []'appended': [], 'deleted': [], 'ordered': [] }\n{ 'added': []'prepended': []'appended': [], 'deleted': [], 'ordered': [] }\n{}\nSdf.SpecifierOver\n\n"
     ]
    }
   ],
   "source": [
    "# PrimSpec\n",
    "spec.GetObjectAtPath('/sample')\n",
    "print(spec.attributes)\n",
    "print(spec.properties)\n",
    "spec.customData\n",
    "print(spec.nameRoot)\n",
    "print(spec.payloadList)\n",
    "print(spec.referenceList)\n",
    "print(spec.relationships)\n",
    "print(spec.specifier)\n",
    "print(spec.kind)\n",
    "# overではなく defにする\n",
    "spec.specifier = Sdf.SpecifierDef # Defaultは Sdf.SpecifierOver"
   ]
  },
  {
   "cell_type": "code",
   "execution_count": 59,
   "metadata": {},
   "outputs": [
    {
     "output_type": "stream",
     "name": "stdout",
     "text": [
      "#sdf 1.4.32\n\ndef \"sample\"\n{\n}\n\n\n"
     ]
    }
   ],
   "source": [
    "print(layer.ExportToString())"
   ]
  },
  {
   "cell_type": "code",
   "execution_count": 60,
   "metadata": {},
   "outputs": [],
   "source": [
    "# Stageを使用してLayerを操作\n",
    "stage = Usd.Stage.Open(layer)\n",
    "prim = stage.DefinePrim('/sampleB')"
   ]
  },
  {
   "cell_type": "code",
   "execution_count": 61,
   "metadata": {},
   "outputs": [
    {
     "output_type": "stream",
     "name": "stdout",
     "text": [
      "#sdf 1.4.32\n\ndef \"sample\"\n{\n}\n\ndef \"sampleB\"\n{\n}\n\n\n"
     ]
    }
   ],
   "source": [
    "print(layer.ExportToString())"
   ]
  },
  {
   "cell_type": "code",
   "execution_count": 73,
   "metadata": {},
   "outputs": [
    {
     "output_type": "execute_result",
     "data": {
      "text/plain": [
       "True"
      ]
     },
     "metadata": {},
     "execution_count": 73
    }
   ],
   "source": [
    "# Referenceを指定\n",
    "prim.GetReferences().AddReference(f'{os.getcwd()}/usd/sample.usda')\n",
    "# Attribute追加\n",
    "attr = prim.CreateAttribute('hoge',Sdf.ValueTypeNames.String)\n",
    "attr.Set(\"fugafuga\")"
   ]
  },
  {
   "cell_type": "code",
   "execution_count": 63,
   "metadata": {},
   "outputs": [
    {
     "output_type": "stream",
     "name": "stdout",
     "text": [
      "#sdf 1.4.32\n\ndef \"sample\"\n{\n}\n\ndef \"sampleB\" (\n    prepend references = @c:\\reincarnation_tech\\notebooks\\USD\\Stage/usd/sample.usda@\n)\n{\n}\n\n\n"
     ]
    }
   ],
   "source": [
    "print(layer.ExportToString())"
   ]
  },
  {
   "cell_type": "code",
   "execution_count": 68,
   "metadata": {},
   "outputs": [
    {
     "output_type": "stream",
     "name": "stdout",
     "text": [
      "{ 'added': []'prepended': [SdfReference(c:\\reincarnation_tech\\notebooks\\USD\\Stage/usd/sample.usda, , SdfLayerOffset(0, 1), {})]'appended': [], 'deleted': [], 'ordered': [] }\n"
     ]
    }
   ],
   "source": [
    "# LayerからPrimSpecを取得して、referenceを取得する\n",
    "specB = layer.GetPrimAtPath('/sampleB')\n",
    "print(specB.referenceList)"
   ]
  },
  {
   "cell_type": "code",
   "execution_count": 84,
   "metadata": {},
   "outputs": [
    {
     "output_type": "stream",
     "name": "stdout",
     "text": [
      "Help on AttributeSpec in module pxr.Sdf object:\n\nclass AttributeSpec(PropertySpec)\n |  Method resolution order:\n |      AttributeSpec\n |      PropertySpec\n |      Spec\n |      Boost.Python.instance\n |      builtins.object\n |  \n |  Static methods defined here:\n |  \n |  ClearColorSpace(...)\n |  \n |  HasColorSpace(...)\n |  \n |  __bool__(...)\n |  \n |  __eq__(...)\n |  \n |  __ge__(...)\n |  \n |  __gt__(...)\n |  \n |  __hash__(...)\n |  \n |  __init__(...)\n |  \n |  __le__(...)\n |  \n |  __lt__(...)\n |  \n |  __ne__(...)\n |  \n |  __new__(...)\n |      __init__(ownerPrimSpec, name, typeName, variability = Sd.VariabilityVarying, declaresCustom = False)\n |      ownerPrimSpec : PrimSpec\n |      name : string\n |      typeName : SdfValueTypeName\n |      variability : SdfVariability\n |      declaresCustom : bool\n |      \n |      Create a custom attribute spec that is an attribute of ownerPrimSpec with the given name and type.\n |  \n |  __reduce__ = <unnamed Boost.Python function>(...)\n |  \n |  __repr__(...)\n |  \n |  ----------------------------------------------------------------------\n |  Data descriptors defined here:\n |  \n |  allowedTokens\n |      The allowed value tokens for this property\n |  \n |  colorSpace\n |      The color-space in which the attribute value is authored.\n |  \n |  connectionPathList\n |      A PathListEditor for the attribute's connection paths.\n |      \n |      The list of the connection paths for this attribute may be modified with this PathListEditor.\n |      \n |      A PathListEditor may express a list either as an explicit value or as a set of list editing operations.  See GdListEditor for more information.\n |  \n |  displayUnit\n |      The display unit for this attribute.\n |  \n |  expired\n |  \n |  roleName\n |      The roleName for this attribute's typeName.\n |  \n |  typeName\n |      The typename of this attribute.\n |  \n |  valueType\n |      The value type of this attribute.\n |  \n |  ----------------------------------------------------------------------\n |  Data and other attributes defined here:\n |  \n |  ConnectionPathsKey = 'connectionPaths'\n |  \n |  DefaultValueKey = 'default'\n |  \n |  DisplayUnitKey = 'displayUnit'\n |  \n |  ----------------------------------------------------------------------\n |  Static methods inherited from PropertySpec:\n |  \n |  ClearDefaultValue(...)\n |  \n |  HasDefaultValue(...)\n |  \n |  ----------------------------------------------------------------------\n |  Data descriptors inherited from PropertySpec:\n |  \n |  assetInfo\n |      Returns the asset info dictionary for this property.\n |      \n |      The default value is an empty dictionary.\n |      \n |      The asset info dictionary is used to annotate SdfAssetPath-valued attributes pointing to the root-prims of assets (generally organized as models) with various data related to asset management. For example, asset name, root layer identifier, asset version etc.\n |      \n |      Note: It is only valid to author assetInfo on attributes that are of type SdfAssetPath.\n |  \n |  comment\n |      A comment describing the property.\n |  \n |  custom\n |      Whether this property spec declares a custom attribute.\n |  \n |  customData\n |      The property's custom data.\n |      \n |      The default value for custom data is an empty dictionary.\n |      \n |      Custom data is for use by plugins or other non-tools supplied \n |      extensions that need to be able to store data attached to arbitrary\n |      scene objects.  Note that if the only objects you want to store data\n |      on are prims, using custom attributes is probably a better choice.\n |      But if you need to possibly store this data on attributes or \n |      relationships or as annotations on reference arcs, then custom data\n |      is an appropriate choice.\n |  \n |  default\n |      The default value of this property.\n |  \n |  displayGroup\n |      DisplayGroup for the property.\n |  \n |  displayName\n |      DisplayName for the property.\n |  \n |  documentation\n |      Documentation for the property.\n |  \n |  hasOnlyRequiredFields\n |      Indicates whether this spec has any significant data other \n |      than just what is necessary for instantiation.\n |      \n |      This is a less strict version of isInert, returning True if \n |      the spec contains as much as the type and name.\n |  \n |  hidden\n |      Whether this property will be hidden in browsers.\n |  \n |  name\n |      The name of the property.\n |  \n |  owner\n |      The owner of this property.  Either a relationship or a prim.\n |  \n |  permission\n |      The property's permission restriction.\n |  \n |  prefix\n |      Prefix for the property.\n |  \n |  symmetricPeer\n |      The property's symmetric peer.\n |  \n |  symmetryArguments\n |      Dictionary with property symmetry arguments.\n |      \n |      Although this property is marked read-only, you can modify the contents to add, change, and clear symmetry arguments.\n |  \n |  symmetryFunction\n |      The property's symmetry function.\n |  \n |  variability\n |      Returns the variability of the property.\n |      \n |      An attribute's variability may be Varying\n |      Uniform, Config or Computed.\n |      For an attribute, the default is Varying, for a relationship the default is Uniform.\n |      \n |      Varying relationships may be directly authored 'animating' targetpaths over time.\n |      Varying attributes may be directly authored, animated and \n |      affected on by Actions.  They are the most flexible.\n |      \n |      Uniform attributes may be authored only with non-animated values\n |      (default values).  They cannot be affected by Actions, but they\n |      can be connected to other Uniform attributes.\n |      \n |      Config attributes are the same as Uniform except that a Prim\n |      can choose to alter its collection of built-in properties based\n |      on the values of its Config attributes.\n |      \n |      Computed attributes may not be authored in scene description.\n |      Prims determine the values of their Computed attributes through\n |      Prim-specific computation.  They may not be connected.\n |  \n |  ----------------------------------------------------------------------\n |  Data and other attributes inherited from PropertySpec:\n |  \n |  AssetInfoKey = 'assetInfo'\n |  \n |  CommentKey = 'comment'\n |  \n |  CustomDataKey = 'customData'\n |  \n |  CustomKey = 'custom'\n |  \n |  DisplayGroupKey = 'displayGroup'\n |  \n |  DisplayNameKey = 'displayName'\n |  \n |  DocumentationKey = 'documentation'\n |  \n |  HiddenKey = 'hidden'\n |  \n |  PermissionKey = 'permission'\n |  \n |  PrefixKey = 'prefix'\n |  \n |  SymmetricPeerKey = 'symmetricPeer'\n |  \n |  SymmetryArgumentsKey = 'symmetryArguments'\n |  \n |  SymmetryFunctionKey = 'symmetryFunction'\n |  \n |  ----------------------------------------------------------------------\n |  Static methods inherited from Spec:\n |  \n |  ClearInfo(...)\n |      ClearInfo(key)\n |      \n |      key : string\n |      nClears the value for scene spec info with the given key. After calling this, HasInfo() will return false. To make HasInfo() return true, set a value for that scene spec info.\n |  \n |  GetAsText(...)\n |  \n |  GetFallbackForInfo(...)\n |      GetFallbackForInfo(key)\n |      \n |      key : string\n |      \n |      Returns the fallback value for the given key.\n |  \n |  GetInfo(...)\n |  \n |  GetMetaDataDisplayGroup(...)\n |  \n |  GetMetaDataInfoKeys(...)\n |  \n |  GetTypeForInfo(...)\n |      GetTypeForInfo(key)\n |      \n |      key : string\n |      \n |      Returns the type of value for the given key.\n |  \n |  HasInfo(...)\n |      HasInfo(key) -> bool\n |      \n |      key : string\n |      \n |      Returns whether there is a setting for the scene spec info with the given key.\n |      \n |      When asked for a value for one of its scene spec info, a valid value will always be returned. But if this API returns false for a scene spec info, the value of that info will be the defined default value. \n |      \n |      (XXX: This may change such that it is an error to ask for a value when there is none).\n |      \n |      When dealing with a composedLayer, it is not necessary to worry about whether a scene spec info 'has a value' because the composed layer will always have a valid value, even if it is the default.\n |      \n |      A spec may or may not have an expressed value for some of its scene spec info.\n |  \n |  IsInert(...)\n |      Indicates whether this spec has any significant data. If ignoreChildren is true, child scenegraph objects will be ignored.\n |  \n |  ListInfoKeys(...)\n |  \n |  SetInfo(...)\n |  \n |  SetInfoDictionaryValue(...)\n |  \n |  ----------------------------------------------------------------------\n |  Data descriptors inherited from Spec:\n |  \n |  isInert\n |      Indicates whether this spec has any significant data. This is for backwards compatibility, use IsInert instead.\n |      \n |      Compatibility note: prior to presto 1.9, isInert (then isEmpty) was true for otherwise inert PrimSpecs with inert inherits, references, or variant sets. isInert is now false in such conditions.\n |  \n |  layer\n |      The owning layer.\n |  \n |  path\n |      The absolute scene path.\n |  \n |  ----------------------------------------------------------------------\n |  Data descriptors inherited from Boost.Python.instance:\n |  \n |  __dict__\n |  \n |  __weakref__\n\nNone\n"
     ]
    }
   ],
   "source": [
    "# SpecからAttribute取得\n",
    "attrSpec = specB.attributes['hoge']\n",
    "print(help(attrSpec))"
   ]
  },
  {
   "cell_type": "code",
   "execution_count": 89,
   "metadata": {},
   "outputs": [
    {
     "output_type": "stream",
     "name": "stdout",
     "text": [
      "hoge\nfugafuga\n"
     ]
    }
   ],
   "source": [
    "# AttributeNameを取得\n",
    "print(attrSpec.name)\n",
    "# Specから値を取得\n",
    "print(attrSpec.default)"
   ]
  }
 ]
}