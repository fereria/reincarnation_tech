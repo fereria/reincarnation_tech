{
 "metadata": {
  "language_info": {
   "codemirror_mode": {
    "name": "ipython",
    "version": 3
   },
   "file_extension": ".py",
   "mimetype": "text/x-python",
   "name": "python",
   "nbconvert_exporter": "python",
   "pygments_lexer": "ipython3",
   "version": "3.7.7-final"
  },
  "orig_nbformat": 2,
  "kernelspec": {
   "name": "python377jvsc74a57bd0cb837dae3ab9e0cb724b9f3e94530b81b827fd86d405a4c31977fb81e37f6a70",
   "display_name": "Python 3.7.7 64-bit ('py37': pipenv)"
  }
 },
 "nbformat": 4,
 "nbformat_minor": 2,
 "cells": [
  {
   "cell_type": "code",
   "execution_count": 1,
   "metadata": {},
   "outputs": [],
   "source": [
    "from pxr import Usd,Sdf"
   ]
  },
  {
   "cell_type": "code",
   "execution_count": 2,
   "metadata": {},
   "outputs": [],
   "source": [
    "ROOT_PATH = \"d:/work/py37/USD/clip/\""
   ]
  },
  {
   "cell_type": "code",
   "execution_count": 5,
   "metadata": {},
   "outputs": [
    {
     "output_type": "stream",
     "name": "stdout",
     "text": [
      "#usda 1.0\n\nover \"ModelA\"\n{\n    double a\n}\n\n\n#usda 1.0\n\nover \"ModelB\"\n{\n    double b\n}\n\n\n"
     ]
    }
   ],
   "source": [
    "# Clipを作る\n",
    "A_1 = Sdf.Layer.FindOrOpen(ROOT_PATH + 'A/clip.1.usda')\n",
    "A_2 = Sdf.Layer.FindOrOpen(ROOT_PATH + 'A/clip.2.usda')\n",
    "A_3 = Sdf.Layer.FindOrOpen(ROOT_PATH + 'A/clip.3.usda')\n",
    "A_4 = Sdf.Layer.FindOrOpen(ROOT_PATH + 'A/clip.4.usda')\n",
    "manifestA = Usd.ClipsAPI.GenerateClipManifestFromLayers([A_1,A_2,A_3,A_4],'/ModelA')\n",
    "print(manifestA.ExportToString())\n",
    "manifestA.Export(ROOT_PATH + \"/A/manifest_sample.usda\")\n",
    "B_1 = Sdf.Layer.FindOrOpen(ROOT_PATH + 'B/clip.1.usda')\n",
    "B_2 = Sdf.Layer.FindOrOpen(ROOT_PATH + 'B/clip.2.usda')\n",
    "manifestB = Usd.ClipsAPI.GenerateClipManifestFromLayers([B_1,B_2],'/ModelB')\n",
    "manifestB.Export(ROOT_PATH + \"/B/manifest_sample.usda\")\n",
    "print(manifestB.ExportToString())"
   ]
  },
  {
   "cell_type": "code",
   "execution_count": 6,
   "metadata": {},
   "outputs": [
    {
     "output_type": "stream",
     "name": "stdout",
     "text": [
      "#usda 1.0\n(\n    endTimeCode = 4\n    startTimeCode = 1\n)\n\ndef \"TestModel\"\n{\n    double a\n    double b\n}\n\n\n"
     ]
    }
   ],
   "source": [
    "# Clipを作るためのレイヤーを用意。\n",
    "stage = Usd.Stage.Open(ROOT_PATH + \"stage.usda\")\n",
    "stage.Reload()\n",
    "print(stage.GetRootLayer().ExportToString())\n",
    "prim = stage.GetPrimAtPath('/TestModel')\n",
    "# ClipsAPIの引数で、Clipを追加したいSdfPathを指定する\n",
    "clipAPI = Usd.ClipsAPI(prim)"
   ]
  },
  {
   "cell_type": "code",
   "execution_count": 7,
   "metadata": {},
   "outputs": [
    {
     "output_type": "execute_result",
     "data": {
      "text/plain": [
       "True"
      ]
     },
     "metadata": {},
     "execution_count": 7
    }
   ],
   "source": [
    "# Clipのレイヤーをセット\n",
    "clipAPI.SetClipAssetPaths([Sdf.AssetPath(ROOT_PATH + 'A/clip.1.usda'),\n",
    "                           Sdf.AssetPath(ROOT_PATH + 'A/clip.2.usda'),\n",
    "                           Sdf.AssetPath(ROOT_PATH + 'A/clip.3.usda'),\n",
    "                           Sdf.AssetPath(ROOT_PATH + 'A/clip.4.usda')],'A')\n",
    "clipAPI.SetClipManifestAssetPath(Sdf.AssetPath(ROOT_PATH + 'A/manifest_sample.usda'),'A')"
   ]
  },
  {
   "cell_type": "code",
   "execution_count": 8,
   "metadata": {},
   "outputs": [
    {
     "output_type": "execute_result",
     "data": {
      "text/plain": [
       "True"
      ]
     },
     "metadata": {},
     "execution_count": 8
    }
   ],
   "source": [
    "# Templateの場合。\n",
    "# Templateを使用すると hogehoge.#.usda のように連番部分を # で表せる。\n",
    "clipAPI.SetClipTemplateAssetPath(ROOT_PATH + 'B/clip.#.usda','B')\n",
    "clipAPI.SetClipTemplateStartTime(1,'B')\n",
    "clipAPI.SetClipTemplateEndTime(4,'B')\n",
    "clipAPI.SetClipTemplateStride(1,'B')\n",
    "clipAPI.SetClipManifestAssetPath(Sdf.AssetPath(ROOT_PATH + 'B/manifest_sample.usda'),'B')"
   ]
  },
  {
   "cell_type": "code",
   "execution_count": 9,
   "metadata": {},
   "outputs": [
    {
     "output_type": "execute_result",
     "data": {
      "text/plain": [
       "True"
      ]
     },
     "metadata": {},
     "execution_count": 9
    }
   ],
   "source": [
    "# Clip側にある読み先のPrimを指定する\n",
    "clipAPI.SetClipPrimPath('/ModelA','A')\n",
    "clipAPI.SetClipPrimPath('/ModelB','B')"
   ]
  },
  {
   "cell_type": "code",
   "execution_count": 10,
   "metadata": {},
   "outputs": [],
   "source": [
    "# CurrentTime時にどのClipを使用するかIndexを指定する\n",
    "for num,c in enumerate([A_1,A_2,A_3,A_4]):\n",
    "    currentActive  = list(clipAPI.GetClipActive('A'))\n",
    "    currentActive.append([num+1,num])\n",
    "    clipAPI.SetClipActive(currentActive,'A')\n"
   ]
  },
  {
   "cell_type": "code",
   "execution_count": 11,
   "metadata": {},
   "outputs": [
    {
     "output_type": "execute_result",
     "data": {
      "text/plain": [
       "True"
      ]
     },
     "metadata": {},
     "execution_count": 11
    }
   ],
   "source": [
    "# 複数Clipsetを指定する場合。\n",
    "clipAPI.SetClipSets(Sdf.StringListOp.Create(['A','B']))"
   ]
  },
  {
   "cell_type": "code",
   "execution_count": 12,
   "metadata": {},
   "outputs": [
    {
     "output_type": "stream",
     "name": "stdout",
     "text": [
      "#usda 1.0\n(\n    endTimeCode = 4\n    startTimeCode = 1\n)\n\ndef \"TestModel\" (\n    clips = {\n        dictionary A = {\n            double2[] active = [(1, 0), (2, 1), (3, 2), (4, 3)]\n            asset[] assetPaths = [@d:/work/py37/USD/clip/A/clip.1.usda@, @d:/work/py37/USD/clip/A/clip.2.usda@, @d:/work/py37/USD/clip/A/clip.3.usda@, @d:/work/py37/USD/clip/A/clip.4.usda@]\n            asset manifestAssetPath = @d:/work/py37/USD/clip/A/manifest_sample.usda@\n            string primPath = \"/ModelA\"\n        }\n        dictionary B = {\n            asset manifestAssetPath = @d:/work/py37/USD/clip/B/manifest_sample.usda@\n            string primPath = \"/ModelB\"\n            string templateAssetPath = \"d:/work/py37/USD/clip/B/clip.#.usda\"\n            double templateEndTime = 4\n            double templateStartTime = 1\n            double templateStride = 1\n        }\n    }\n    prepend clipSets = [\"A\", \"B\"]\n)\n{\n    double a\n    double b\n}\n\n\n"
     ]
    },
    {
     "output_type": "execute_result",
     "data": {
      "text/plain": [
       "True"
      ]
     },
     "metadata": {},
     "execution_count": 12
    }
   ],
   "source": [
    "print(stage.GetRootLayer().ExportToString())\n",
    "stage.GetRootLayer().Export(ROOT_PATH + 'result.usda')"
   ]
  },
  {
   "source": [
    "![](https://gyazo.com/8a8b2889c355eb800b352855b433faea.png)\n",
    "clipSetsを指定すると、１つのPrimに対して複数のValueClipを指定できる"
   ],
   "cell_type": "markdown",
   "metadata": {}
  }
 ]
}