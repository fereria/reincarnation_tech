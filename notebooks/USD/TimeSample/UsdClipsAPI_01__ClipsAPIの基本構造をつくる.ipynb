{
 "metadata": {
  "language_info": {
   "codemirror_mode": {
    "name": "ipython",
    "version": 3
   },
   "file_extension": ".py",
   "mimetype": "text/x-python",
   "name": "python",
   "nbconvert_exporter": "python",
   "pygments_lexer": "ipython3",
   "version": "3.7.7-final"
  },
  "orig_nbformat": 2,
  "kernelspec": {
   "name": "python377jvsc74a57bd0cb837dae3ab9e0cb724b9f3e94530b81b827fd86d405a4c31977fb81e37f6a70",
   "display_name": "Python 3.7.7 64-bit ('py37': pipenv)"
  }
 },
 "nbformat": 4,
 "nbformat_minor": 2,
 "cells": [
  {
   "cell_type": "code",
   "execution_count": 13,
   "metadata": {},
   "outputs": [],
   "source": [
    "from pxr import Usd,Sdf"
   ]
  },
  {
   "cell_type": "code",
   "execution_count": 14,
   "metadata": {},
   "outputs": [],
   "source": [
    "ROOT_PATH = \"d:/work/py37/USD/clip/\""
   ]
  },
  {
   "cell_type": "code",
   "execution_count": 18,
   "metadata": {},
   "outputs": [
    {
     "output_type": "stream",
     "name": "stdout",
     "text": [
      "#usda 1.0\n\ndef \"Model\"\n{\n    double a.timeSamples = {\n        1: 1,\n    }\n    double b = 10\n}\n\n\n#usda 1.0\n\ndef \"Model\"\n{\n    double a.timeSamples = {\n        1: 1234,\n    }\n    double b.timeSamples = {\n        1: 10,\n    }\n}\n\n\n"
     ]
    }
   ],
   "source": [
    "# Clipを作る\n",
    "a = Sdf.Layer.FindOrOpen(ROOT_PATH + 'clip1.usda')\n",
    "b = Sdf.Layer.FindOrOpen(ROOT_PATH + 'clip2.usda')\n",
    "print(a.ExportToString())\n",
    "print(b.ExportToString())"
   ]
  },
  {
   "cell_type": "code",
   "execution_count": 16,
   "metadata": {},
   "outputs": [],
   "source": [
    "# ClipのレイヤーからManifestを作る。\n",
    "# Manifestは、ClipsAPIを使用するときに、クリップでアクセスアトリビュートの\n",
    "# インデックスを作るためのファイル。\n",
    "# ClipのうちTimeSampleを持つアトリビュートの定義を作る。\n",
    "manifest = Usd.ClipsAPI.GenerateClipManifestFromLayers([a,b],'/Model')"
   ]
  },
  {
   "cell_type": "code",
   "execution_count": 17,
   "metadata": {},
   "outputs": [
    {
     "output_type": "stream",
     "name": "stdout",
     "text": [
      "#usda 1.0\n\nover \"Model\"\n{\n    double a\n    double b\n}\n\n\n"
     ]
    },
    {
     "output_type": "execute_result",
     "data": {
      "text/plain": [
       "True"
      ]
     },
     "metadata": {},
     "execution_count": 17
    }
   ],
   "source": [
    "# 結果は、アノニマスレイヤーとして取得できるので\n",
    "# このアノニマスレイヤーを保存して使用する。\n",
    "print(manifest.ExportToString())\n",
    "manifest.Export(ROOT_PATH + \"/manifest_sample.usda\")"
   ]
  },
  {
   "cell_type": "code",
   "execution_count": 7,
   "metadata": {},
   "outputs": [
    {
     "output_type": "stream",
     "name": "stdout",
     "text": [
      "#usda 1.0\n(\n    endTimeCode = 4\n    startTimeCode = 1\n)\n\ndef \"TestModel\"\n{\n    double a\n    double b\n}\n\n\n"
     ]
    }
   ],
   "source": [
    "# Clipを作るためのレイヤーを用意。\n",
    "stage = Usd.Stage.Open(ROOT_PATH + \"stage.usda\")\n",
    "stage.Reload()\n",
    "print(stage.GetRootLayer().ExportToString())\n",
    "prim = stage.GetPrimAtPath('/TestModel')\n",
    "# ClipsAPIの引数で、Clipを追加したいSdfPathを指定する\n",
    "clipAPI = Usd.ClipsAPI(prim)"
   ]
  },
  {
   "cell_type": "code",
   "execution_count": 8,
   "metadata": {},
   "outputs": [
    {
     "output_type": "execute_result",
     "data": {
      "text/plain": [
       "True"
      ]
     },
     "metadata": {},
     "execution_count": 8
    }
   ],
   "source": [
    "# Clipのレイヤーをセット\n",
    "clipAPI.SetClipAssetPaths([Sdf.AssetPath(ROOT_PATH + 'clip1.usda'),\n",
    "                           Sdf.AssetPath(ROOT_PATH + 'clip2.usda')])\n",
    "clipAPI.SetClipManifestAssetPath(Sdf.AssetPath(ROOT_PATH + 'manifest_sample.usda'),'default')"
   ]
  },
  {
   "cell_type": "code",
   "execution_count": 9,
   "metadata": {},
   "outputs": [
    {
     "output_type": "stream",
     "name": "stdout",
     "text": [
      "#usda 1.0\n(\n    endTimeCode = 4\n    startTimeCode = 1\n)\n\ndef \"TestModel\" (\n    clips = {\n        dictionary default = {\n            asset[] assetPaths = [@d:/work/py37/USD/clip/clip1.usda@, @d:/work/py37/USD/clip/clip2.usda@]\n            asset manifestAssetPath = @d:/work/py37/USD/clip/manifest_sample.usda@\n        }\n    }\n)\n{\n    double a\n    double b\n}\n\n\n"
     ]
    }
   ],
   "source": [
    "print(stage.GetRootLayer().ExportToString())"
   ]
  },
  {
   "cell_type": "code",
   "execution_count": 10,
   "metadata": {},
   "outputs": [
    {
     "output_type": "execute_result",
     "data": {
      "text/plain": [
       "True"
      ]
     },
     "metadata": {},
     "execution_count": 10
    }
   ],
   "source": [
    "# Clip側にある読み先のPrimを指定する\n",
    "clipAPI.SetClipPrimPath('/Model')"
   ]
  },
  {
   "cell_type": "code",
   "execution_count": 11,
   "metadata": {},
   "outputs": [],
   "source": [
    "# CurrentTime時にどのClipを使用するかIndexを指定する\n",
    "for num,c in enumerate([a,b]):\n",
    "    currentActive  = list(clipAPI.GetClipActive())\n",
    "    currentActive.append([num+1,num])\n",
    "    clipAPI.SetClipActive(currentActive)\n"
   ]
  },
  {
   "cell_type": "code",
   "execution_count": 12,
   "metadata": {},
   "outputs": [
    {
     "output_type": "stream",
     "name": "stdout",
     "text": [
      "#usda 1.0\n(\n    endTimeCode = 4\n    startTimeCode = 1\n)\n\ndef \"TestModel\" (\n    clips = {\n        dictionary default = {\n            double2[] active = [(1, 0), (2, 1)]\n            asset[] assetPaths = [@d:/work/py37/USD/clip/clip1.usda@, @d:/work/py37/USD/clip/clip2.usda@]\n            asset manifestAssetPath = @d:/work/py37/USD/clip/manifest_sample.usda@\n            string primPath = \"/Model\"\n        }\n    }\n)\n{\n    double a\n    double b\n}\n\n\n"
     ]
    },
    {
     "output_type": "execute_result",
     "data": {
      "text/plain": [
       "True"
      ]
     },
     "metadata": {},
     "execution_count": 12
    }
   ],
   "source": [
    "print(stage.GetRootLayer().ExportToString())\n",
    "stage.GetRootLayer().Export(ROOT_PATH + 'result.usda')"
   ]
  }
 ]
}