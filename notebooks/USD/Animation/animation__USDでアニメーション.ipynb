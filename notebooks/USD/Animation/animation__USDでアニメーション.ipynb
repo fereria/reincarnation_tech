{
 "metadata": {
  "language_info": {
   "codemirror_mode": {
    "name": "ipython",
    "version": 3
   },
   "file_extension": ".py",
   "mimetype": "text/x-python",
   "name": "python",
   "nbconvert_exporter": "python",
   "pygments_lexer": "ipython3",
   "version": "3.7.7-final"
  },
  "orig_nbformat": 2,
  "kernelspec": {
   "name": "python3",
   "display_name": "Python 3.7.7 64-bit ('py37': pipenv)",
   "metadata": {
    "interpreter": {
     "hash": "3e9efe9dc9d56cd32f3e3638880e3a92603c162216d6e7d94a2fa75d169a32ce"
    }
   }
  }
 },
 "nbformat": 4,
 "nbformat_minor": 2,
 "cells": [
  {
   "source": [
    "# USDでTransform/Rotateのアニメーション"
   ],
   "cell_type": "markdown",
   "metadata": {}
  },
  {
   "cell_type": "code",
   "execution_count": 39,
   "metadata": {},
   "outputs": [],
   "source": [
    "from pxr import Usd,UsdGeom,Gf,Sdf"
   ]
  },
  {
   "cell_type": "code",
   "execution_count": 18,
   "metadata": {},
   "outputs": [],
   "source": [
    "stage = Usd.Stage.CreateInMemory()\n",
    "stage.SetStartTimeCode(1)\n",
    "stage.SetEndTimeCode(30)"
   ]
  },
  {
   "cell_type": "code",
   "execution_count": 19,
   "metadata": {},
   "outputs": [
    {
     "output_type": "execute_result",
     "data": {
      "text/plain": [
       "UsdGeom.Cube(Usd.Prim(</sampleXform/Cube>))"
      ]
     },
     "metadata": {},
     "execution_count": 19
    }
   ],
   "source": [
    "UsdGeom.Xform.Define(stage,\"/sampleXform\")\n",
    "UsdGeom.Cube.Define(stage,\"/sampleXform/Cube\")"
   ]
  },
  {
   "cell_type": "code",
   "execution_count": 20,
   "metadata": {},
   "outputs": [],
   "source": [
    "prim = stage.GetPrimAtPath(\"/sampleXform\")"
   ]
  },
  {
   "cell_type": "code",
   "execution_count": 21,
   "metadata": {},
   "outputs": [],
   "source": [
    "api = UsdGeom.XformCommonAPI(prim)"
   ]
  },
  {
   "cell_type": "code",
   "execution_count": 35,
   "metadata": {},
   "outputs": [
    {
     "output_type": "execute_result",
     "data": {
      "text/plain": [
       "UsdGeom.XformCommonAPI.RotationOrderXYZ"
      ]
     },
     "metadata": {},
     "execution_count": 35
    }
   ],
   "source": [
    "UsdGeom.XformCommonAPI.RotationOrderXYZ"
   ]
  },
  {
   "cell_type": "code",
   "execution_count": 36,
   "metadata": {},
   "outputs": [
    {
     "output_type": "execute_result",
     "data": {
      "text/plain": [
       "True"
      ]
     },
     "metadata": {},
     "execution_count": 36
    }
   ],
   "source": [
    "# アニメーションのキーを作る\n",
    "api.SetTranslate(Gf.Vec3d(0,0,0),1)\n",
    "api.SetTranslate(Gf.Vec3d(0,10,0),30)\n",
    "api.SetRotate(Gf.Vec3f(0,0,0),UsdGeom.XformCommonAPI.RotationOrderXYZ,1)\n",
    "api.SetRotate(Gf.Vec3f(0,0,360),UsdGeom.XformCommonAPI.RotationOrderXYZ,30)"
   ]
  },
  {
   "cell_type": "code",
   "execution_count": 52,
   "metadata": {},
   "outputs": [],
   "source": [
    "# 自分で作ったアトリビュート\n",
    "attr = prim.CreateAttribute(\"sample\",Sdf.ValueTypeNames.Int)\n",
    "for i in range(1,30):\n",
    "    attr.Set(i,i)"
   ]
  },
  {
   "cell_type": "code",
   "execution_count": 53,
   "metadata": {},
   "outputs": [
    {
     "output_type": "stream",
     "name": "stdout",
     "text": [
      "#usda 1.0\n(\n    endTimeCode = 30\n    startTimeCode = 1\n)\n\ndef Xform \"sampleXform\"\n{\n    custom int sample\n    int sample.timeSamples = {\n        1: 1,\n        2: 2,\n        3: 3,\n        4: 4,\n        5: 5,\n        6: 6,\n        7: 7,\n        8: 8,\n        9: 9,\n        10: 10,\n        11: 11,\n        12: 12,\n        13: 13,\n        14: 14,\n        15: 15,\n        16: 16,\n        17: 17,\n        18: 18,\n        19: 19,\n        20: 20,\n        21: 21,\n        22: 22,\n        23: 23,\n        24: 24,\n        25: 25,\n        26: 26,\n        27: 27,\n        28: 28,\n        29: 29,\n        30: 30,\n    }\n    float3 xformOp:rotateXYZ.timeSamples = {\n        1: (0, 0, 0),\n        30: (0, 0, 360),\n    }\n    double3 xformOp:translate.timeSamples = {\n        1: (0, 0, 0),\n        30: (0, 10, 0),\n    }\n    uniform token[] xformOpOrder = [\"xformOp:translate\", \"xformOp:rotateXYZ\"]\n\n    def Cube \"Cube\"\n    {\n    }\n}\n\n\n"
     ]
    }
   ],
   "source": [
    "print(stage.GetRootLayer().ExportToString())"
   ]
  },
  {
   "cell_type": "code",
   "execution_count": 54,
   "metadata": {},
   "outputs": [
    {
     "output_type": "execute_result",
     "data": {
      "text/plain": [
       "True"
      ]
     },
     "metadata": {},
     "execution_count": 54
    }
   ],
   "source": [
    "stage.GetRootLayer().Export(\"D:/animSample.usda\")"
   ]
  }
 ]
}