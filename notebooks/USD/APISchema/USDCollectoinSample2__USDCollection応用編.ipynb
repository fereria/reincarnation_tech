{
 "metadata": {
  "language_info": {
   "codemirror_mode": {
    "name": "ipython",
    "version": 3
   },
   "file_extension": ".py",
   "mimetype": "text/x-python",
   "name": "python",
   "nbconvert_exporter": "python",
   "pygments_lexer": "ipython3",
   "version": "3.7.7"
  },
  "orig_nbformat": 2,
  "kernelspec": {
   "name": "python377jvsc74a57bd0cb837dae3ab9e0cb724b9f3e94530b81b827fd86d405a4c31977fb81e37f6a70",
   "display_name": "Python 3.7.7 64-bit ('py37': pipenv)"
  }
 },
 "nbformat": 4,
 "nbformat_minor": 2,
 "cells": [
  {
   "cell_type": "code",
   "execution_count": 24,
   "metadata": {},
   "outputs": [],
   "source": [
    "from pxr import Usd,Sdf"
   ]
  },
  {
   "cell_type": "code",
   "execution_count": 25,
   "metadata": {},
   "outputs": [],
   "source": [
    "stage = Usd.Stage.Open(r\"D:\\Kitchen_set\\Kitchen_set.usd\")\n",
    "stage.Reload()\n",
    "layer = stage.GetSessionLayer()\n"
   ]
  },
  {
   "cell_type": "code",
   "execution_count": 26,
   "metadata": {},
   "outputs": [],
   "source": [
    "# テスト用の編集をSessionLayerに書く\n",
    "target = stage.GetEditTargetForLocalLayer(layer)\n",
    "stage.SetEditTarget(target)"
   ]
  },
  {
   "cell_type": "code",
   "execution_count": 36,
   "metadata": {},
   "outputs": [
    {
     "output_type": "stream",
     "name": "stdout",
     "text": [
      "sampleCollection\n"
     ]
    }
   ],
   "source": [
    "# Collectionを作る\n",
    "collection = stage.DefinePrim(\"/collectionSample\")\n",
    "prim = stage.GetPrimAtPath(\"/Kitchen_set/Props_grp/West_grp\")\n",
    "collectionName = \"sampleCollection\"\n",
    "api = Usd.CollectionAPI.Apply(collection,collectionName)\n",
    "print(api.GetName())"
   ]
  },
  {
   "cell_type": "code",
   "execution_count": 28,
   "metadata": {},
   "outputs": [
    {
     "output_type": "execute_result",
     "data": {
      "text/plain": [
       "True"
      ]
     },
     "metadata": {},
     "execution_count": 28
    }
   ],
   "source": [
    "# WestGrp以下をCollectionに入れる\n",
    "api.IncludePath(prim.GetPath())\n",
    "# ただしそのなかの SteamCooker_1 は除外\n",
    "api.ExcludePath(Sdf.Path(\"/Kitchen_set/Props_grp/West_grp/SteamCooker_1\"))"
   ]
  },
  {
   "cell_type": "code",
   "execution_count": 29,
   "metadata": {},
   "outputs": [
    {
     "output_type": "stream",
     "name": "stdout",
     "text": [
      "Usd.Prim(</collectionSample>).GetAttribute('collection:sampleCollection:expansionRule')\nUsd.Prim(</collectionSample>).GetAttribute('collection:sampleCollection:expansionRule')\nexpandPrims\n"
     ]
    },
    {
     "output_type": "execute_result",
     "data": {
      "text/plain": [
       "True"
      ]
     },
     "metadata": {},
     "execution_count": 29
    }
   ],
   "source": [
    "# ExpansionRuleとは、Collectionに入れているPrimの展開方法（Prim以下すべてなのかそれだけなのか）などを指定するもの。\n",
    "expansionRule = api.CreateExpansionRuleAttr()\n",
    "print(expansionRule)\n",
    "# 取得\n",
    "print(api.GetExpansionRuleAttr())\n",
    "\n",
    "print(expansionRule.Get())\n",
    "# explicitOnly/expandPrims/expandPrimsAndProperties\n",
    "#expansionRule.Set(\"expandPrims\")\n",
    "expansionRule.Set(\"explicitOnly\")\n",
    "api.IncludePath(\"/Kitchen_set/Props_grp/West_grp/Ball_1\")"
   ]
  },
  {
   "cell_type": "code",
   "execution_count": 30,
   "metadata": {},
   "outputs": [
    {
     "output_type": "stream",
     "name": "stdout",
     "text": [
      "[Usd.Prim(</Kitchen_set/Props_grp/West_grp>), Usd.Prim(</Kitchen_set/Props_grp/West_grp/Ball_1>)]\n"
     ]
    }
   ],
   "source": [
    "# 条件に見合うPrimをStageから探す\n",
    "query = api.ComputeMembershipQuery()\n",
    "# emplicitOnlyだと、IncludePathに入れたPrimのみが検索対象\n",
    "print(Usd.CollectionAPI.ComputeIncludedObjects(query,stage))"
   ]
  },
  {
   "cell_type": "code",
   "execution_count": 33,
   "metadata": {},
   "outputs": [
    {
     "output_type": "stream",
     "name": "stdout",
     "text": [
      "[Usd.Prim(</Kitchen_set/Props_grp/West_grp>), Usd.Prim(</Kitchen_set/Props_grp/West_grp/Ball_1>), Usd.Prim(</Kitchen_set/Props_grp/West_grp/Ball_1/Geom>), Usd.Prim(</Kitchen_set/Props_grp/West_grp/Ball_1/Geom/Ball>), Usd.Prim(</Kitchen_set/Props_grp/West_grp/BottleTall_1>), Usd.Prim(</Kitchen_set/Props_grp/West_grp/BottleTall_1/Geom>), Usd.Prim(</Kitchen_set/Props_grp/West_grp/BottleTall_1/Geom/Bottle>), Usd.Prim(</Kitchen_set/Props_grp/West_grp/FoldingTable_grp>), Usd.Prim(</Kitchen_set/Props_grp/West_grp/FoldingTable_grp/BookBlue_1>), Usd.Prim(</Kitchen_set/Props_grp/West_grp/FoldingTable_grp/BookBlue_1/Geom>), Usd.Prim(</Kitchen_set/Props_grp/West_grp/FoldingTable_grp/BookBlue_1/Geom/Book>), Usd.Prim(</Kitchen_set/Props_grp/West_grp/FoldingTable_grp/BookBlue_1/Geom/pCube134>), Usd.Prim(</Kitchen_set/Props_grp/West_grp/FoldingTable_grp/BookGreen_1>), Usd.Prim(</Kitchen_set/Props_grp/West_grp/FoldingTable_grp/BookGreen_1/Geom>), Usd.Prim(</Kitchen_set/Props_grp/West_grp/FoldingTable_grp/BookGreen_1/Geom/Book>), Usd.Prim(</Kitchen_set/Props_grp/West_grp/FoldingTable_grp/BookGreen_1/Geom/pCube134>), Usd.Prim(</Kitchen_set/Props_grp/West_grp/FoldingTable_grp/BookGreen_2>), Usd.Prim(</Kitchen_set/Props_grp/West_grp/FoldingTable_grp/BookGreen_2/Geom>), Usd.Prim(</Kitchen_set/Props_grp/West_grp/FoldingTable_grp/BookGreen_2/Geom/Book>), Usd.Prim(</Kitchen_set/Props_grp/West_grp/FoldingTable_grp/BookGreen_2/Geom/pCube134>), Usd.Prim(</Kitchen_set/Props_grp/West_grp/FoldingTable_grp/BookTan_1>), Usd.Prim(</Kitchen_set/Props_grp/West_grp/FoldingTable_grp/BookTan_1/Geom>), Usd.Prim(</Kitchen_set/Props_grp/West_grp/FoldingTable_grp/BookTan_1/Geom/Book>), Usd.Prim(</Kitchen_set/Props_grp/West_grp/FoldingTable_grp/BookTan_1/Geom/pCube134>), Usd.Prim(</Kitchen_set/Props_grp/West_grp/FoldingTable_grp/BookTan_2>), Usd.Prim(</Kitchen_set/Props_grp/West_grp/FoldingTable_grp/BookTan_2/Geom>), Usd.Prim(</Kitchen_set/Props_grp/West_grp/FoldingTable_grp/BookTan_2/Geom/Book>), Usd.Prim(</Kitchen_set/Props_grp/West_grp/FoldingTable_grp/BookTan_2/Geom/pCube134>), Usd.Prim(</Kitchen_set/Props_grp/West_grp/FoldingTable_grp/BreadBag_1>), Usd.Prim(</Kitchen_set/Props_grp/West_grp/FoldingTable_grp/BreadBag_1/Geom>), Usd.Prim(</Kitchen_set/Props_grp/West_grp/FoldingTable_grp/BreadBag_1/Geom/Bread>), Usd.Prim(</Kitchen_set/Props_grp/West_grp/FoldingTable_grp/FoldingTable_1>), Usd.Prim(</Kitchen_set/Props_grp/West_grp/FoldingTable_grp/FoldingTable_1/Geom>), Usd.Prim(</Kitchen_set/Props_grp/West_grp/FoldingTable_grp/FoldingTable_1/Geom/group6>), Usd.Prim(</Kitchen_set/Props_grp/West_grp/FoldingTable_grp/FoldingTable_1/Geom/group6/pCube371>), Usd.Prim(</Kitchen_set/Props_grp/West_grp/FoldingTable_grp/FoldingTable_1/Geom/group6/pCube372>), Usd.Prim(</Kitchen_set/Props_grp/West_grp/FoldingTable_grp/FoldingTable_1/Geom/group6/pCube373>), Usd.Prim(</Kitchen_set/Props_grp/West_grp/FoldingTable_grp/FoldingTable_1/Geom/group6/pCube374>), Usd.Prim(</Kitchen_set/Props_grp/West_grp/FoldingTable_grp/FoldingTable_1/Geom/group6/pCube375>), Usd.Prim(</Kitchen_set/Props_grp/West_grp/FoldingTable_grp/FoldingTable_1/Geom/group6/pCube376>), Usd.Prim(</Kitchen_set/Props_grp/West_grp/FoldingTable_grp/FoldingTable_1/Geom/group6/pCube377>), Usd.Prim(</Kitchen_set/Props_grp/West_grp/FoldingTable_grp/FoldingTable_1/Geom/group6/pCube378>), Usd.Prim(</Kitchen_set/Props_grp/West_grp/FoldingTable_grp/FoldingTable_1/Geom/group6/pCube379>), Usd.Prim(</Kitchen_set/Props_grp/West_grp/FoldingTable_grp/FoldingTable_1/Geom/group6/pCube380>), Usd.Prim(</Kitchen_set/Props_grp/West_grp/FoldingTable_grp/FoldingTable_1/Geom/group6/pCube381>), Usd.Prim(</Kitchen_set/Props_grp/West_grp/FoldingTable_grp/FoldingTable_1/Geom/group6/pCube382>), Usd.Prim(</Kitchen_set/Props_grp/West_grp/FoldingTable_grp/FoldingTable_1/Geom/group6/pCube383>), Usd.Prim(</Kitchen_set/Props_grp/West_grp/FoldingTable_grp/FoldingTable_1/Geom/group6/pCube385>), Usd.Prim(</Kitchen_set/Props_grp/West_grp/FoldingTable_grp/FoldingTable_1/Geom/group6/pCube386>), Usd.Prim(</Kitchen_set/Props_grp/West_grp/FoldingTable_grp/FoldingTable_1/Geom/group6/pCube387>), Usd.Prim(</Kitchen_set/Props_grp/West_grp/FoldingTable_grp/FoldingTable_1/Geom/group6/pCube388>), Usd.Prim(</Kitchen_set/Props_grp/West_grp/FoldingTable_grp/FoldingTable_1/Geom/group6/pCube389>), Usd.Prim(</Kitchen_set/Props_grp/West_grp/FoldingTable_grp/FoldingTable_1/Geom/group6/pCube390>), Usd.Prim(</Kitchen_set/Props_grp/West_grp/FoldingTable_grp/FoldingTable_1/Geom/group6/pCube391>), Usd.Prim(</Kitchen_set/Props_grp/West_grp/FoldingTable_grp/FoldingTable_1/Geom/group6/pCube392>), Usd.Prim(</Kitchen_set/Props_grp/West_grp/FoldingTable_grp/FoldingTable_1/Geom/group6/pCube393>), Usd.Prim(</Kitchen_set/Props_grp/West_grp/FoldingTable_grp/FoldingTable_1/Geom/group6/pCube394>), Usd.Prim(</Kitchen_set/Props_grp/West_grp/FoldingTable_grp/FoldingTable_1/Geom/group6/pCube395>), Usd.Prim(</Kitchen_set/Props_grp/West_grp/FoldingTable_grp/FoldingTable_1/Geom/group6/pCube396>), Usd.Prim(</Kitchen_set/Props_grp/West_grp/FoldingTable_grp/FoldingTable_1/Geom/group6/pCube397>), Usd.Prim(</Kitchen_set/Props_grp/West_grp/FoldingTable_grp/FoldingTable_1/Geom/group6/pCube398>), Usd.Prim(</Kitchen_set/Props_grp/West_grp/FoldingTable_grp/FoldingTable_1/Geom/group6/pCube399>), Usd.Prim(</Kitchen_set/Props_grp/West_grp/FoldingTable_grp/FoldingTable_1/Geom/group7>), Usd.Prim(</Kitchen_set/Props_grp/West_grp/FoldingTable_grp/FoldingTable_1/Geom/group7/pCube371>), Usd.Prim(</Kitchen_set/Props_grp/West_grp/FoldingTable_grp/FoldingTable_1/Geom/group7/pCube372>), Usd.Prim(</Kitchen_set/Props_grp/West_grp/FoldingTable_grp/FoldingTable_1/Geom/group7/pCube373>), Usd.Prim(</Kitchen_set/Props_grp/West_grp/FoldingTable_grp/FoldingTable_1/Geom/group7/pCube374>), Usd.Prim(</Kitchen_set/Props_grp/West_grp/FoldingTable_grp/FoldingTable_1/Geom/group7/pCube375>), Usd.Prim(</Kitchen_set/Props_grp/West_grp/FoldingTable_grp/FoldingTable_1/Geom/group7/pCube376>), Usd.Prim(</Kitchen_set/Props_grp/West_grp/FoldingTable_grp/FoldingTable_1/Geom/group7/pCube377>), Usd.Prim(</Kitchen_set/Props_grp/West_grp/FoldingTable_grp/FoldingTable_1/Geom/group7/pCube378>), Usd.Prim(</Kitchen_set/Props_grp/West_grp/FoldingTable_grp/FoldingTable_1/Geom/group7/pCube379>), Usd.Prim(</Kitchen_set/Props_grp/West_grp/FoldingTable_grp/FoldingTable_1/Geom/group7/pCube380>), Usd.Prim(</Kitchen_set/Props_grp/West_grp/FoldingTable_grp/FoldingTable_1/Geom/group7/pCube381>), Usd.Prim(</Kitchen_set/Props_grp/West_grp/FoldingTable_grp/FoldingTable_1/Geom/group7/pCube382>), Usd.Prim(</Kitchen_set/Props_grp/West_grp/FoldingTable_grp/FoldingTable_1/Geom/group7/pCube383>), Usd.Prim(</Kitchen_set/Props_grp/West_grp/FoldingTable_grp/FoldingTable_1/Geom/group7/pCube385>), Usd.Prim(</Kitchen_set/Props_grp/West_grp/FoldingTable_grp/FoldingTable_1/Geom/group7/pCube386>), Usd.Prim(</Kitchen_set/Props_grp/West_grp/FoldingTable_grp/FoldingTable_1/Geom/group7/pCube387>), Usd.Prim(</Kitchen_set/Props_grp/West_grp/FoldingTable_grp/FoldingTable_1/Geom/group7/pCube388>), Usd.Prim(</Kitchen_set/Props_grp/West_grp/FoldingTable_grp/FoldingTable_1/Geom/group7/pCube389>), Usd.Prim(</Kitchen_set/Props_grp/West_grp/FoldingTable_grp/FoldingTable_1/Geom/group7/pCube390>), Usd.Prim(</Kitchen_set/Props_grp/West_grp/FoldingTable_grp/FoldingTable_1/Geom/group7/pCube391>), Usd.Prim(</Kitchen_set/Props_grp/West_grp/FoldingTable_grp/FoldingTable_1/Geom/group7/pCube392>), Usd.Prim(</Kitchen_set/Props_grp/West_grp/FoldingTable_grp/FoldingTable_1/Geom/group7/pCube393>), Usd.Prim(</Kitchen_set/Props_grp/West_grp/FoldingTable_grp/FoldingTable_1/Geom/group7/pCube394>), Usd.Prim(</Kitchen_set/Props_grp/West_grp/FoldingTable_grp/FoldingTable_1/Geom/group7/pCube395>), Usd.Prim(</Kitchen_set/Props_grp/West_grp/FoldingTable_grp/FoldingTable_1/Geom/group7/pCube396>), Usd.Prim(</Kitchen_set/Props_grp/West_grp/FoldingTable_grp/FoldingTable_1/Geom/group7/pCube397>), Usd.Prim(</Kitchen_set/Props_grp/West_grp/FoldingTable_grp/FoldingTable_1/Geom/group7/pCube398>), Usd.Prim(</Kitchen_set/Props_grp/West_grp/FoldingTable_grp/FoldingTable_1/Geom/group7/pCube399>), Usd.Prim(</Kitchen_set/Props_grp/West_grp/FoldingTable_grp/FoldingTable_1/Geom/pCube413>), Usd.Prim(</Kitchen_set/Props_grp/West_grp/FoldingTable_grp/FoldingTable_1/Geom/pCube414>), Usd.Prim(</Kitchen_set/Props_grp/West_grp/FoldingTable_grp/FoldingTable_1/Geom/pCube415>), Usd.Prim(</Kitchen_set/Props_grp/West_grp/FoldingTable_grp/FoldingTable_1/Geom/pCube70>), Usd.Prim(</Kitchen_set/Props_grp/West_grp/FoldingTable_grp/FoldingTable_1/Geom/pCube76>), Usd.Prim(</Kitchen_set/Props_grp/West_grp/FoldingTable_grp/HangerLightBrownDirty_1>), Usd.Prim(</Kitchen_set/Props_grp/West_grp/FoldingTable_grp/HangerLightBrownDirty_1/Geom>), Usd.Prim(</Kitchen_set/Props_grp/West_grp/FoldingTable_grp/HangerLightBrownDirty_1/Geom/pCube615>), Usd.Prim(</Kitchen_set/Props_grp/West_grp/FoldingTable_grp/HangerLightBrownDirty_1/Geom/pCylinder316>), Usd.Prim(</Kitchen_set/Props_grp/West_grp/FoldingTable_grp/HangerLightBrownDirty_2>), Usd.Prim(</Kitchen_set/Props_grp/West_grp/FoldingTable_grp/HangerLightBrownDirty_2/Geom>), Usd.Prim(</Kitchen_set/Props_grp/West_grp/FoldingTable_grp/HangerLightBrownDirty_2/Geom/pCube615>), Usd.Prim(</Kitchen_set/Props_grp/West_grp/FoldingTable_grp/HangerLightBrownDirty_2/Geom/pCylinder316>), Usd.Prim(</Kitchen_set/Props_grp/West_grp/FoldingTable_grp/HangerLightBrownDirty_3>), Usd.Prim(</Kitchen_set/Props_grp/West_grp/FoldingTable_grp/HangerLightBrownDirty_3/Geom>), Usd.Prim(</Kitchen_set/Props_grp/West_grp/FoldingTable_grp/HangerLightBrownDirty_3/Geom/pCube615>), Usd.Prim(</Kitchen_set/Props_grp/West_grp/FoldingTable_grp/HangerLightBrownDirty_3/Geom/pCylinder316>), Usd.Prim(</Kitchen_set/Props_grp/West_grp/FoldingTable_grp/HangerLightBrown_2>), Usd.Prim(</Kitchen_set/Props_grp/West_grp/FoldingTable_grp/HangerLightBrown_2/Geom>), Usd.Prim(</Kitchen_set/Props_grp/West_grp/FoldingTable_grp/HangerLightBrown_2/Geom/pCube615>), Usd.Prim(</Kitchen_set/Props_grp/West_grp/FoldingTable_grp/HangerLightBrown_2/Geom/pCylinder316>), Usd.Prim(</Kitchen_set/Props_grp/West_grp/FoldingTable_grp/HangerLightBrown_3>), Usd.Prim(</Kitchen_set/Props_grp/West_grp/FoldingTable_grp/HangerLightBrown_3/Geom>), Usd.Prim(</Kitchen_set/Props_grp/West_grp/FoldingTable_grp/HangerLightBrown_3/Geom/pCube615>), Usd.Prim(</Kitchen_set/Props_grp/West_grp/FoldingTable_grp/HangerLightBrown_3/Geom/pCylinder316>), Usd.Prim(</Kitchen_set/Props_grp/West_grp/FoldingTable_grp/Iron_1>), Usd.Prim(</Kitchen_set/Props_grp/West_grp/FoldingTable_grp/Iron_1/Geom>), Usd.Prim(</Kitchen_set/Props_grp/West_grp/FoldingTable_grp/Iron_1/Geom/IronWire>), Usd.Prim(</Kitchen_set/Props_grp/West_grp/FoldingTable_grp/Iron_1/Geom/IronWire/pCube618>), Usd.Prim(</Kitchen_set/Props_grp/West_grp/FoldingTable_grp/Iron_1/Geom/IronWire/pCylinder350>), Usd.Prim(</Kitchen_set/Props_grp/West_grp/FoldingTable_grp/Iron_1/Geom/IronWire/pPipe31>), Usd.Prim(</Kitchen_set/Props_grp/West_grp/FoldingTable_grp/Iron_1/Geom/pCylinder348>), Usd.Prim(</Kitchen_set/Props_grp/West_grp/FoldingTable_grp/Iron_1/Geom/pCylinder349>), Usd.Prim(</Kitchen_set/Props_grp/West_grp/FoldingTable_grp/Iron_1/Geom/pPipe30>), Usd.Prim(</Kitchen_set/Props_grp/West_grp/FoldingTable_grp/Iron_1/Geom/pPlane338>), Usd.Prim(</Kitchen_set/Props_grp/West_grp/FoldingTable_grp/Iron_1/Geom/pPlane339>), Usd.Prim(</Kitchen_set/Props_grp/West_grp/FoldingTable_grp/Iron_1/Geom/pPlane340>), Usd.Prim(</Kitchen_set/Props_grp/West_grp/HangerLightBrown_1>), Usd.Prim(</Kitchen_set/Props_grp/West_grp/HangerLightBrown_1/Geom>), Usd.Prim(</Kitchen_set/Props_grp/West_grp/HangerLightBrown_1/Geom/pCube615>), Usd.Prim(</Kitchen_set/Props_grp/West_grp/HangerLightBrown_1/Geom/pCylinder316>), Usd.Prim(</Kitchen_set/Props_grp/West_grp/IronBoard_1>), Usd.Prim(</Kitchen_set/Props_grp/West_grp/IronBoard_1/Geom>), Usd.Prim(</Kitchen_set/Props_grp/West_grp/IronBoard_1/Geom/HandleIronBoard>), Usd.Prim(</Kitchen_set/Props_grp/West_grp/IronBoard_1/Geom/HandleIronBoard/pPipe29>), Usd.Prim(</Kitchen_set/Props_grp/West_grp/IronBoard_1/Geom/HandleIronBoard/polySurface78>), Usd.Prim(</Kitchen_set/Props_grp/West_grp/IronBoard_1/Geom/HandleIronBoard/polySurface79>), Usd.Prim(</Kitchen_set/Props_grp/West_grp/IronBoard_1/Geom/HandleIronBoard1>), Usd.Prim(</Kitchen_set/Props_grp/West_grp/IronBoard_1/Geom/HandleIronBoard1/pPipe29>), Usd.Prim(</Kitchen_set/Props_grp/West_grp/IronBoard_1/Geom/HandleIronBoard1/polySurface78>), Usd.Prim(</Kitchen_set/Props_grp/West_grp/IronBoard_1/Geom/HandleIronBoard1/polySurface79>), Usd.Prim(</Kitchen_set/Props_grp/West_grp/IronBoard_1/Geom/HandleIronBoard1/polySurface94>), Usd.Prim(</Kitchen_set/Props_grp/West_grp/IronBoard_1/Geom/HandleIronBoard1/polySurface95>), Usd.Prim(</Kitchen_set/Props_grp/West_grp/IronBoard_1/Geom/IroningBoard>), Usd.Prim(</Kitchen_set/Props_grp/West_grp/IronBoard_1/Geom/IroningBoard/pCylinder326>), Usd.Prim(</Kitchen_set/Props_grp/West_grp/IronBoard_1/Geom/IroningBoard/pCylinder328>), Usd.Prim(</Kitchen_set/Props_grp/West_grp/IronBoard_1/Geom/IroningBoard/pCylinder333>), Usd.Prim(</Kitchen_set/Props_grp/West_grp/IronBoard_1/Geom/IroningBoard/pCylinder334>), Usd.Prim(</Kitchen_set/Props_grp/West_grp/IronBoard_1/Geom/IroningBoard/pCylinder335>), Usd.Prim(</Kitchen_set/Props_grp/West_grp/IronBoard_1/Geom/IroningBoard/pCylinder336>), Usd.Prim(</Kitchen_set/Props_grp/West_grp/IronBoard_1/Geom/IroningBoard/pCylinder338>), Usd.Prim(</Kitchen_set/Props_grp/West_grp/IronBoard_1/Geom/IroningBoard/pCylinder339>), Usd.Prim(</Kitchen_set/Props_grp/West_grp/IronBoard_1/Geom/IroningBoard/pCylinder340>), Usd.Prim(</Kitchen_set/Props_grp/West_grp/IronBoard_1/Geom/IroningBoard/pCylinder341>), Usd.Prim(</Kitchen_set/Props_grp/West_grp/IronBoard_1/Geom/IroningBoard/pPlane311>), Usd.Prim(</Kitchen_set/Props_grp/West_grp/IronBoard_1/Geom/IroningBoard/pPlane312>), Usd.Prim(</Kitchen_set/Props_grp/West_grp/IronBoard_1/Geom/IroningBoard/pPlane314>), Usd.Prim(</Kitchen_set/Props_grp/West_grp/IronBoard_1/Geom/IroningBoard/pPlane316>), Usd.Prim(</Kitchen_set/Props_grp/West_grp/IronBoard_1/Geom/IroningBoard/pPlane318>), Usd.Prim(</Kitchen_set/Props_grp/West_grp/IronBoard_1/Geom/IroningBoard/pPlane326>), Usd.Prim(</Kitchen_set/Props_grp/West_grp/IronBoard_1/Geom/IroningBoard/pPlane327>), Usd.Prim(</Kitchen_set/Props_grp/West_grp/PaperBagCrumpled_1>), Usd.Prim(</Kitchen_set/Props_grp/West_grp/PaperBagCrumpled_1/Geom>), Usd.Prim(</Kitchen_set/Props_grp/West_grp/PaperBagCrumpled_1/Geom/GroceryBag>), Usd.Prim(</Kitchen_set/Props_grp/West_grp/ShellLarge_1>), Usd.Prim(</Kitchen_set/Props_grp/West_grp/ShellLarge_1/Geom>), Usd.Prim(</Kitchen_set/Props_grp/West_grp/ShellLarge_1/Geom/Geom>), Usd.Prim(</Kitchen_set/Props_grp/West_grp/StoolMetalWire_1>), Usd.Prim(</Kitchen_set/Props_grp/West_grp/StoolMetalWire_1/Geom>), Usd.Prim(</Kitchen_set/Props_grp/West_grp/StoolMetalWire_1/Geom/Ball1>), Usd.Prim(</Kitchen_set/Props_grp/West_grp/StoolMetalWire_1/Geom/Ball1/polySurface91>), Usd.Prim(</Kitchen_set/Props_grp/West_grp/StoolMetalWire_1/Geom/Ball1/polySurface92>), Usd.Prim(</Kitchen_set/Props_grp/West_grp/StoolMetalWire_1/Geom/Ball1/polySurface93>), Usd.Prim(</Kitchen_set/Props_grp/West_grp/StoolMetalWire_1/Geom/chair_top_polySurface1>), Usd.Prim(</Kitchen_set/Props_grp/West_grp/StoolMetalWire_1/Geom/polySurface63>), Usd.Prim(</Kitchen_set/Props_grp/West_grp/TinCanA_1>), Usd.Prim(</Kitchen_set/Props_grp/West_grp/TinCanA_1/Geom>), Usd.Prim(</Kitchen_set/Props_grp/West_grp/TinCanA_1/Geom/TinCan>), Usd.Prim(</Kitchen_set/Props_grp/West_grp/TinCanA_2>), Usd.Prim(</Kitchen_set/Props_grp/West_grp/TinCanA_2/Geom>), Usd.Prim(</Kitchen_set/Props_grp/West_grp/TinCanA_2/Geom/TinCan>), Usd.Prim(</Kitchen_set/Props_grp/West_grp/WestWall_grp>), Usd.Prim(</Kitchen_set/Props_grp/West_grp/WestWall_grp/FramePictureB_1>), Usd.Prim(</Kitchen_set/Props_grp/West_grp/WestWall_grp/FramePictureB_1/Geom>), Usd.Prim(</Kitchen_set/Props_grp/West_grp/WestWall_grp/FramePictureB_1/Geom/FramePicture>), Usd.Prim(</Kitchen_set/Props_grp/West_grp/WestWall_grp/FramePictureD_1>), Usd.Prim(</Kitchen_set/Props_grp/West_grp/WestWall_grp/FramePictureD_1/Geom>), Usd.Prim(</Kitchen_set/Props_grp/West_grp/WestWall_grp/FramePictureD_1/Geom/FramePicture>), Usd.Prim(</Kitchen_set/Props_grp/West_grp/WestWall_grp/FramePictureOval_1>), Usd.Prim(</Kitchen_set/Props_grp/West_grp/WestWall_grp/FramePictureOval_1/Geom>), Usd.Prim(</Kitchen_set/Props_grp/West_grp/WestWall_grp/FramePictureOval_1/Geom/FramePictureOval>), Usd.Prim(</Kitchen_set/Props_grp/West_grp/WestWall_grp/PaperLarge_1>), Usd.Prim(</Kitchen_set/Props_grp/West_grp/WestWall_grp/PaperLarge_1/Geom>), Usd.Prim(</Kitchen_set/Props_grp/West_grp/WestWall_grp/PaperLarge_1/Geom/PaperLarge>), Usd.Prim(</Kitchen_set/Props_grp/West_grp/WestWall_grp/PaperSmall_1>), Usd.Prim(</Kitchen_set/Props_grp/West_grp/WestWall_grp/PaperSmall_1/Geom>), Usd.Prim(</Kitchen_set/Props_grp/West_grp/WestWall_grp/PaperSmall_1/Geom/PaperSmall>), Usd.Prim(</Kitchen_set/Props_grp/West_grp/WestWall_grp/ShellSmall_1>), Usd.Prim(</Kitchen_set/Props_grp/West_grp/WestWall_grp/ShellSmall_1/Geom>), Usd.Prim(</Kitchen_set/Props_grp/West_grp/WestWall_grp/ShellSmall_1/Geom/ShellSmall>), Usd.Prim(</Kitchen_set/Props_grp/West_grp/WestWall_grp/ShellSmall_2>), Usd.Prim(</Kitchen_set/Props_grp/West_grp/WestWall_grp/ShellSmall_2/Geom>), Usd.Prim(</Kitchen_set/Props_grp/West_grp/WestWall_grp/ShellSmall_2/Geom/ShellSmall>)]\n"
     ]
    }
   ],
   "source": [
    "# ExpansionRuleを変えてみる\n",
    "expansionRule.Set(\"expandPrims\")\n",
    "queryB = api.ComputeMembershipQuery()\n",
    "# expandPrimsで指定されてるので、IncludePath以下にありExcludeに含まれないPrimがリストされる\n",
    "print(Usd.CollectionAPI.ComputeIncludedObjects(queryB,stage))"
   ]
  },
  {
   "cell_type": "code",
   "execution_count": 35,
   "metadata": {},
   "outputs": [
    {
     "output_type": "stream",
     "name": "stdout",
     "text": [
      "True\nFalse\nFalse\n"
     ]
    }
   ],
   "source": [
    "# 引数で指定したSdfPathがCollectionに含まれるか\n",
    "print(queryB.IsPathIncluded(\"/Kitchen_set/Props_grp/West_grp/ShellLarge_1\"))\n",
    "# Collectionより親のPrim\n",
    "print(queryB.IsPathIncluded(\"/Kitchen_set\"))\n",
    "# Excludeに指定されているPrim以下\n",
    "print(queryB.IsPathIncluded(\"/Kitchen_set/Props_grp/West_grp/SteamCooker_1/Geom/pCylinder55\"))"
   ]
  },
  {
   "cell_type": "code",
   "execution_count": 10,
   "metadata": {},
   "outputs": [
    {
     "output_type": "stream",
     "name": "stdout",
     "text": [
      "expandPrims\n"
     ]
    }
   ],
   "source": [
    "print(expansionRule.Get())"
   ]
  },
  {
   "cell_type": "code",
   "execution_count": 11,
   "metadata": {},
   "outputs": [
    {
     "output_type": "stream",
     "name": "stdout",
     "text": [
      "[Sdf.Path('/Kitchen_set/Props_grp/West_grp/SteamCooker_1')]\n[Sdf.Path('/Kitchen_set/Props_grp/West_grp'), Sdf.Path('/Kitchen_set/Props_grp/West_grp/Ball_1')]\n"
     ]
    }
   ],
   "source": [
    "# CollectionにセットされているPrimを取得\n",
    "# CollectionはRelationで指定されている\n",
    "print(api.GetExcludesRel().GetTargets())\n",
    "print(api.GetIncludesRel().GetTargets())"
   ]
  },
  {
   "cell_type": "code",
   "execution_count": 12,
   "metadata": {},
   "outputs": [
    {
     "output_type": "stream",
     "name": "stdout",
     "text": [
      "{Sdf.Path('/Kitchen_set/Props_grp/West_grp'): 'explicitOnly', Sdf.Path('/Kitchen_set/Props_grp/West_grp/Ball_1'): 'explicitOnly', Sdf.Path('/Kitchen_set/Props_grp/West_grp/SteamCooker_1'): 'exclude'}\n"
     ]
    }
   ],
   "source": [
    "# どういうルールでQueryされるか確認\n",
    "print(query.GetAsPathExpansionRuleMap())"
   ]
  },
  {
   "cell_type": "code",
   "execution_count": 13,
   "metadata": {},
   "outputs": [
    {
     "output_type": "stream",
     "name": "stdout",
     "text": [
      "/collectionSample.collection:sampleCollection\n"
     ]
    }
   ],
   "source": [
    "# APIで指定されているCollectionのPath\n",
    "print(api.GetCollectionPath())"
   ]
  },
  {
   "cell_type": "code",
   "execution_count": 37,
   "metadata": {},
   "outputs": [
    {
     "output_type": "stream",
     "name": "stdout",
     "text": [
      "True\nFalse\n"
     ]
    }
   ],
   "source": [
    "# MultipleApplyのテスト\n",
    "# とりあえず空のPrimを作る。もちろんCollectionAPIは適応されていない。\n",
    "collectionB = stage.DefinePrim(\"/collectionB\")\n",
    "print(collection.HasAPI(Usd.CollectionAPI))\n",
    "print(collectionB.HasAPI(Usd.CollectionAPI))"
   ]
  },
  {
   "cell_type": "code",
   "execution_count": 15,
   "metadata": {},
   "outputs": [
    {
     "output_type": "execute_result",
     "data": {
      "text/plain": [
       "Usd.CollectionAPI(Usd.Prim(</collectionB>), 'sampleCollectionA')"
      ]
     },
     "metadata": {},
     "execution_count": 15
    }
   ],
   "source": [
    "# 同じPrimに対して別のCollectionを指定\n",
    "api.Apply(collectionB,'sampleCollectionA')"
   ]
  },
  {
   "cell_type": "code",
   "execution_count": 16,
   "metadata": {},
   "outputs": [
    {
     "output_type": "execute_result",
     "data": {
      "text/plain": [
       "True"
      ]
     },
     "metadata": {},
     "execution_count": 16
    }
   ],
   "source": [
    "# Primに対してAPIがあるかどうかをチェック\n",
    "stage.GetPrimAtPath(\"/collectionB\").HasAPI(Usd.CollectionAPI)"
   ]
  },
  {
   "cell_type": "code",
   "execution_count": 22,
   "metadata": {},
   "outputs": [
    {
     "output_type": "stream",
     "name": "stdout",
     "text": [
      "#usda 1.0\n\ndef \"collectionSample\" (\n    prepend apiSchemas = [\"CollectionAPI:collectionName\"]\n)\n{\n    prepend rel collection:sampleCollection:excludes = </Kitchen_set/Props_grp/West_grp/SteamCooker_1>\n    uniform token collection:sampleCollection:expansionRule = \"expandPrims\"\n    prepend rel collection:sampleCollection:includes = [\n        </Kitchen_set/Props_grp/West_grp>,\n        </Kitchen_set/Props_grp/West_grp/Ball_1>,\n    ]\n}\n\ndef \"collectionB\" (\n    prepend apiSchemas = [\"CollectionAPI:sampleCollectionA\"]\n)\n{\n}\n\n\n"
     ]
    }
   ],
   "source": [
    "# 結果を確認\n",
    "print(layer.ExportToString())"
   ]
  }
 ]
}