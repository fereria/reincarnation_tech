{
 "metadata": {
  "language_info": {
   "codemirror_mode": {
    "name": "ipython",
    "version": 3
   },
   "file_extension": ".py",
   "mimetype": "text/x-python",
   "name": "python",
   "nbconvert_exporter": "python",
   "pygments_lexer": "ipython3",
   "version": "3.7.7-final"
  },
  "orig_nbformat": 2,
  "kernelspec": {
   "name": "python3",
   "display_name": "Python 3",
   "language": "python"
  }
 },
 "nbformat": 4,
 "nbformat_minor": 2,
 "cells": [
  {
   "cell_type": "code",
   "execution_count": 36,
   "metadata": {},
   "outputs": [],
   "source": [
    "from pxr import Usd,Sdf"
   ]
  },
  {
   "cell_type": "code",
   "execution_count": 2,
   "metadata": {},
   "outputs": [],
   "source": [
    "stage = Usd.Stage.CreateInMemory()"
   ]
  },
  {
   "cell_type": "code",
   "execution_count": 9,
   "metadata": {},
   "outputs": [],
   "source": [
    "prim = stage.DefinePrim(\"/testPrim\")\n",
    "stage.SetDefaultPrim(prim)"
   ]
  },
  {
   "cell_type": "code",
   "execution_count": 47,
   "metadata": {},
   "outputs": [
    {
     "output_type": "execute_result",
     "data": {
      "text/plain": [
       "Usd.ModelAPI(Usd.Prim(</testPrim>))"
      ]
     },
     "metadata": {},
     "execution_count": 47
    }
   ],
   "source": [
    "# APIを取得する\n",
    "Usd.ModelAPI.Get(stage,Sdf.Path('/testPrim'))"
   ]
  },
  {
   "cell_type": "code",
   "execution_count": 5,
   "metadata": {},
   "outputs": [],
   "source": [
    "# ModelAPI にPrimを渡してAPIを取得する\n",
    "api = Usd.ModelAPI(prim)"
   ]
  },
  {
   "cell_type": "code",
   "execution_count": 39,
   "metadata": {},
   "outputs": [],
   "source": [
    "# Primに対していろんなシーンに関連するMetadataを入れる\n",
    "api.SetAssetName('testAsset')\n",
    "api.SetAssetVersion('1.0')\n",
    "api.SetAssetInfo({'test':'hello world',\n",
    "                  'num':10,\n",
    "                  'hoge':[10,11,12]})"
   ]
  },
  {
   "cell_type": "code",
   "execution_count": 40,
   "metadata": {},
   "outputs": [
    {
     "output_type": "execute_result",
     "data": {
      "text/plain": [
       "True"
      ]
     },
     "metadata": {},
     "execution_count": 40
    }
   ],
   "source": [
    "# Kindを設定\n",
    "api.SetKind('component')"
   ]
  },
  {
   "cell_type": "code",
   "execution_count": 41,
   "metadata": {},
   "outputs": [
    {
     "output_type": "stream",
     "name": "stdout",
     "text": [
      "True\nTrue\nFalse\n"
     ]
    }
   ],
   "source": [
    "print(api.IsKind('component'))\n",
    "print(api.IsModel())\n",
    "print(api.IsGroup())"
   ]
  },
  {
   "cell_type": "code",
   "execution_count": 42,
   "metadata": {},
   "outputs": [
    {
     "output_type": "stream",
     "name": "stdout",
     "text": [
      "#usda 1.0\n(\n    defaultPrim = \"testPrim\"\n)\n\ndef \"testPrim\" (\n    assetInfo = {\n         hoge = [10, 11, 12]\n        int num = 10\n        string test = \"hello world\"\n    }\n    kind = \"component\"\n)\n{\n}\n\n\n"
     ]
    }
   ],
   "source": [
    "print(stage.GetRootLayer().ExportToString())"
   ]
  },
  {
   "source": [
    "## Kindを取得する方法"
   ],
   "cell_type": "markdown",
   "metadata": {}
  },
  {
   "cell_type": "code",
   "execution_count": 48,
   "metadata": {},
   "outputs": [],
   "source": [
    "from pxr import Kind"
   ]
  },
  {
   "cell_type": "code",
   "execution_count": 51,
   "metadata": {},
   "outputs": [
    {
     "output_type": "execute_result",
     "data": {
      "text/plain": [
       "['charprop',\n",
       " 'chargroup',\n",
       " 'subcomponent',\n",
       " 'model',\n",
       " 'component',\n",
       " 'group',\n",
       " 'assembly',\n",
       " 'newRootKind']"
      ]
     },
     "metadata": {},
     "execution_count": 51
    }
   ],
   "source": [
    "# 登録されているKindを取得する\n",
    "Kind.Registry().GetAllKinds()"
   ]
  },
  {
   "cell_type": "code",
   "execution_count": 52,
   "metadata": {},
   "outputs": [
    {
     "output_type": "execute_result",
     "data": {
      "text/plain": [
       "'model'"
      ]
     },
     "metadata": {},
     "execution_count": 52
    }
   ],
   "source": [
    "# Kindの階層構造を取得できる\n",
    "Kind.Registry().GetBaseKind('component')"
   ]
  },
  {
   "cell_type": "code",
   "execution_count": 54,
   "metadata": {},
   "outputs": [
    {
     "output_type": "stream",
     "name": "stdout",
     "text": [
      "False\nTrue\n"
     ]
    }
   ],
   "source": [
    "print(Kind.Registry().HasKind('hoge'))\n",
    "print(Kind.Registry().HasKind('charprop'))"
   ]
  }
 ]
}