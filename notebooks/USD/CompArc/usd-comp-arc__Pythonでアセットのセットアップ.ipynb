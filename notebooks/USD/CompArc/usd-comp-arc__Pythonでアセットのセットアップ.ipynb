{
 "cells": [
  {
   "cell_type": "code",
   "execution_count": 1,
   "metadata": {},
   "outputs": [],
   "source": [
    "from pxr import Usd,Sdf,Ar\n",
    "import glob\n",
    "import shutil\n",
    "import os"
   ]
  },
  {
   "cell_type": "markdown",
   "metadata": {},
   "source": [
    "Asset"
   ]
  },
  {
   "cell_type": "code",
   "execution_count": 2,
   "metadata": {},
   "outputs": [],
   "source": [
    "# Assetの置き場所\n",
    "ASSETS_DIR = \"D:/sample/assets\""
   ]
  },
  {
   "cell_type": "code",
   "execution_count": 3,
   "metadata": {},
   "outputs": [],
   "source": [
    "assetName = \"sampleAssets\"\n",
    "version = 1.0\n",
    "# AssetNameのGeomのVariantにするusda置き場を指定する\n",
    "geomVariantDir = \"D:/sample/variant\"\n",
    "assetDir = f\"{ASSETS_DIR}/{assetName}\""
   ]
  },
  {
   "cell_type": "code",
   "execution_count": 12,
   "metadata": {},
   "outputs": [],
   "source": [
    "payloadLayer = Sdf.Layer.FindOrOpen(f\"{assetDir}/{assetName}.payload.usd\")\n",
    "pyaloadStage = Usd.Stage.Open(payloadLayer)"
   ]
  },
  {
   "cell_type": "code",
   "execution_count": 4,
   "metadata": {},
   "outputs": [],
   "source": [
    "# 実際に読み込むための AssetName.usd を作る\n",
    "# AssetNameのPrimを作り、それをDefaultPrimに指定する\n",
    "payloadStage = Usd.Stage.CreateInMemory()\n",
    "payloadsLayer = payloadStage.GetRootLayer()\n",
    "prim = payloadStage.DefinePrim(f'/{assetName}')\n",
    "payloadStage.SetDefaultPrim(prim)\n",
    "rootPath = prim.GetPath()"
   ]
  },
  {
   "cell_type": "code",
   "execution_count": 6,
   "metadata": {},
   "outputs": [
    {
     "data": {
      "text/plain": [
       "True"
      ]
     },
     "execution_count": 6,
     "metadata": {},
     "output_type": "execute_result"
    }
   ],
   "source": [
    "# Variantを指定する\n",
    "vset = prim.GetVariantSets().AddVariantSet('assets')\n",
    "geomPath = rootPath.AppendChild('Geom')\n",
    "geomPrim = payloadStage.DefinePrim(geomPath)\n",
    "payloadStage.DefinePrim(geomPath)\n",
    "\n",
    "variantDir = f\"{assetDir}/variant\"\n",
    "os.makedirs(variantDir,exist_ok=True)\n",
    "\n",
    "# 指定フォルダ以下にあるレイヤーを、VariantSetとして追加する\n",
    "for f in glob.glob(f\"{geomVariantDir}/*.usd*\"):\n",
    "    # Assets以下にコピーする\n",
    "    basename = os.path.basename(f)\n",
    "    shutil.copy2(f,f\"{variantDir}/{basename}\")\n",
    "    variantName = os.path.splitext(basename)[0]\n",
    "    vset.AddVariant(variantName)\n",
    "    # モデルパターンの切り替え用のVariantSetを作る\n",
    "    vset.SetVariantSelection(variantName)\n",
    "    with vset.GetVariantEditContext():\n",
    "        # variant 以下のモデルをReferenceする\n",
    "        geomPrim.GetReferences().AddReference(f\"./variant/{basename}\")\n",
    "        \n",
    "payloadsLayer.Export(f\"{assetDir}/{assetName}.payload.usd\")"
   ]
  },
  {
   "cell_type": "code",
   "execution_count": 7,
   "metadata": {},
   "outputs": [
    {
     "data": {
      "text/plain": [
       "True"
      ]
     },
     "execution_count": 7,
     "metadata": {},
     "output_type": "execute_result"
    }
   ],
   "source": [
    "# Inheritsを作る\n",
    "inheritsStage = Usd.Stage.CreateInMemory()\n",
    "inheritsLayer = inheritsStage.GetRootLayer()\n",
    "inheritsStage.CreateClassPrim(\"/__class__\")\n",
    "inheritsLayer.Export(f\"{assetDir}/{assetName}.class.usd\")"
   ]
  },
  {
   "cell_type": "code",
   "execution_count": 9,
   "metadata": {},
   "outputs": [
    {
     "data": {
      "text/plain": [
       "True"
      ]
     },
     "execution_count": 9,
     "metadata": {},
     "output_type": "execute_result"
    }
   ],
   "source": [
    "# Assetsのレイヤーをつくる\n",
    "stage = Usd.Stage.CreateInMemory()\n",
    "layer = stage.GetRootLayer()\n",
    "# そして、AssetsのRoodPrimを作成する\n",
    "prim = stage.DefinePrim(f'/{assetName}')\n",
    "rootPath = prim.GetPath()\n",
    "# Kindを指定\n",
    "Usd.ModelAPI(prim).SetKind('component')\n",
    "stage.SetDefaultPrim(prim)\n",
    "\n",
    "# assetName.usd にはAssetInfoを指定する\n",
    "assetInfo = {\n",
    "    \"identifier\":f\"./{assetName}/{assetName}.usd\",\n",
    "    \"name\":assetName,\n",
    "    'version':version\n",
    "}\n",
    "prim.SetAssetInfo(assetInfo)\n",
    "# Variantを入れた payload Layer を Payloadする\n",
    "prim.GetPayloads().AddPayload(f\"{assetDir}/{assetName}.payload.usd\")\n",
    "\n",
    "# Inheritsの構造を仕込む\n",
    "layer.subLayerPaths = [f'./{assetName}.class.usd']\n",
    "prim.GetInherits().AddInherit('/__class__')\n"
   ]
  },
  {
   "cell_type": "code",
   "execution_count": 11,
   "metadata": {},
   "outputs": [
    {
     "data": {
      "text/plain": [
       "True"
      ]
     },
     "execution_count": 11,
     "metadata": {},
     "output_type": "execute_result"
    }
   ],
   "source": [
    "# AssetのExport\n",
    "layer.Export(f\"{assetDir}/{assetName}.usd\")"
   ]
  },
  {
   "cell_type": "code",
   "execution_count": null,
   "metadata": {},
   "outputs": [],
   "source": []
  }
 ],
 "metadata": {
  "interpreter": {
   "hash": "90ad37beec7e816fa6224594e71540722bf31854ba11f3943a77de50e81485ba"
  },
  "kernelspec": {
   "display_name": "Python 3.7.7 64-bit",
   "language": "python",
   "name": "python3"
  },
  "language_info": {
   "codemirror_mode": {
    "name": "ipython",
    "version": 3
   },
   "file_extension": ".py",
   "mimetype": "text/x-python",
   "name": "python",
   "nbconvert_exporter": "python",
   "pygments_lexer": "ipython3",
   "version": "3.7.7"
  },
  "orig_nbformat": 4
 },
 "nbformat": 4,
 "nbformat_minor": 2
}
