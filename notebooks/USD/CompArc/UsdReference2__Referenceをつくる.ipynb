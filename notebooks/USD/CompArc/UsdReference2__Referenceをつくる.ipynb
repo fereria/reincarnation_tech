{
 "metadata": {
  "language_info": {
   "codemirror_mode": {
    "name": "ipython",
    "version": 3
   },
   "file_extension": ".py",
   "mimetype": "text/x-python",
   "name": "python",
   "nbconvert_exporter": "python",
   "pygments_lexer": "ipython3",
   "version": "3.7.7"
  },
  "orig_nbformat": 2,
  "kernelspec": {
   "name": "python377jvsc74a57bd090ad37beec7e816fa6224594e71540722bf31854ba11f3943a77de50e81485ba",
   "display_name": "Python 3.7.7 64-bit"
  }
 },
 "nbformat": 4,
 "nbformat_minor": 2,
 "cells": [
  {
   "cell_type": "code",
   "execution_count": 16,
   "metadata": {},
   "outputs": [],
   "source": [
    "from pxr import Usd,Sdf"
   ]
  },
  {
   "cell_type": "code",
   "execution_count": 10,
   "metadata": {},
   "outputs": [],
   "source": [
    "stage = Usd.Stage.CreateInMemory()\n",
    "prim = stage.DefinePrim(\"/sphereTest\")"
   ]
  },
  {
   "cell_type": "code",
   "execution_count": 11,
   "metadata": {},
   "outputs": [
    {
     "output_type": "execute_result",
     "data": {
      "text/plain": [
       "True"
      ]
     },
     "metadata": {},
     "execution_count": 11
    }
   ],
   "source": [
    "# ファイルを指定してリファレンスを追加\n",
    "prim.GetReferences().AddReference(f\"{os.getcwd()}/usd/sphere.usda\")"
   ]
  },
  {
   "cell_type": "code",
   "execution_count": 20,
   "metadata": {},
   "outputs": [
    {
     "output_type": "stream",
     "name": "stdout",
     "text": [
      "#usda 1.0\n(\n    defaultPrim = \"sphere\"\n)\n\ndef Sphere \"sphere\"\n{\n}\n\n\n"
     ]
    }
   ],
   "source": [
    "layer = Sdf.Layer.FindOrOpen(\"usd/sphere.usda\")\n",
    "# 中身\n",
    "print(layer.ExportToString())"
   ]
  },
  {
   "cell_type": "code",
   "execution_count": 13,
   "metadata": {},
   "outputs": [
    {
     "output_type": "stream",
     "name": "stdout",
     "text": [
      "#usda 1.0\n\ndef \"sphereTest\" (\n    prepend references = @c:\\reincarnation_tech\\notebooks\\USD\\CompArc/usd/sphere.usda@\n)\n{\n}\n\n\n"
     ]
    }
   ],
   "source": [
    "print(stage.GetRootLayer().ExportToString())"
   ]
  },
  {
   "cell_type": "code",
   "execution_count": 12,
   "metadata": {},
   "outputs": [
    {
     "output_type": "stream",
     "name": "stdout",
     "text": [
      "#usda 1.0\n(\n    doc = \"\"\"Generated from Composed Stage of root layer \n\"\"\"\n)\n\ndef Sphere \"sphereTest\"\n{\n}\n\n\n"
     ]
    }
   ],
   "source": [
    "# Flattenした結果\n",
    "print(stage.Flatten().ExportToString())"
   ]
  },
  {
   "cell_type": "code",
   "execution_count": 21,
   "metadata": {},
   "outputs": [],
   "source": [
    "primB = stage.DefinePrim('/referenceCube')"
   ]
  },
  {
   "cell_type": "code",
   "execution_count": 25,
   "metadata": {},
   "outputs": [
    {
     "output_type": "stream",
     "name": "stdout",
     "text": [
      "#usda 1.0\n\ndef Xform \"root\"\n{\n    def Cube \"sampleCube\"\n    {\n    }\n}\n\n\n"
     ]
    }
   ],
   "source": [
    "# DefaultPrimが指定されていないような場合\n",
    "print(Sdf.Layer.FindOrOpen(f\"{os.getcwd()}/usd/cube.usda\").ExportToString())"
   ]
  },
  {
   "cell_type": "code",
   "execution_count": 22,
   "metadata": {},
   "outputs": [
    {
     "output_type": "execute_result",
     "data": {
      "text/plain": [
       "True"
      ]
     },
     "metadata": {},
     "execution_count": 22
    }
   ],
   "source": [
    "# AddReferenceで、どのPrimをリファレンスするのか指定する\n",
    "primB.GetReferences().AddReference(f\"{os.getcwd()}/usd/cube.usda\",Sdf.Path(\"/root\"))"
   ]
  },
  {
   "cell_type": "code",
   "execution_count": 23,
   "metadata": {},
   "outputs": [
    {
     "output_type": "stream",
     "name": "stdout",
     "text": [
      "#usda 1.0\n\ndef \"sphereTest\" (\n    prepend references = @c:\\reincarnation_tech\\notebooks\\USD\\CompArc/usd/sphere.usda@\n)\n{\n}\n\ndef \"referenceCube\" (\n    prepend references = @c:\\reincarnation_tech\\notebooks\\USD\\CompArc/usd/cube.usda@</root>\n)\n{\n}\n\n\n"
     ]
    }
   ],
   "source": [
    "print(stage.GetRootLayer().ExportToString())"
   ]
  },
  {
   "cell_type": "code",
   "execution_count": 27,
   "metadata": {},
   "outputs": [
    {
     "output_type": "execute_result",
     "data": {
      "text/plain": [
       "True"
      ]
     },
     "metadata": {},
     "execution_count": 27
    }
   ],
   "source": [
    "refPrim = stage.DefinePrim(\"/refPrim\")\n",
    "refPrim.CreateAttribute('sampleValue',Sdf.ValueTypeNames.String).Set(\"hogehoge\")\n",
    "primC = stage.DefinePrim(\"/addRef\")\n",
    "# 現在のStage以下のPrimをリファレンス\n",
    "primC.GetReferences().AddInternalReference(refPrim.GetPath())"
   ]
  },
  {
   "cell_type": "code",
   "execution_count": 29,
   "metadata": {},
   "outputs": [
    {
     "output_type": "stream",
     "name": "stdout",
     "text": [
      "#usda 1.0\n(\n    doc = \"\"\"Generated from Composed Stage of root layer \n\"\"\"\n)\n\ndef Sphere \"sphereTest\"\n{\n}\n\ndef \"referenceCube\"\n{\n}\n\ndef \"refPrim\"\n{\n    custom string sampleValue = \"hogehoge\"\n}\n\ndef \"addRef\"\n{\n    custom string sampleValue = \"hogehoge\"\n}\n\n\n"
     ]
    }
   ],
   "source": [
    "print(stage.Flatten().ExportToString())"
   ]
  }
 ]
}