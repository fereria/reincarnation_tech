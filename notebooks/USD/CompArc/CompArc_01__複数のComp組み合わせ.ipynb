{
 "metadata": {
  "language_info": {
   "codemirror_mode": {
    "name": "ipython",
    "version": 3
   },
   "file_extension": ".py",
   "mimetype": "text/x-python",
   "name": "python",
   "nbconvert_exporter": "python",
   "pygments_lexer": "ipython3",
   "version": "3.7.7"
  },
  "orig_nbformat": 2,
  "kernelspec": {
   "name": "python377jvsc74a57bd090ad37beec7e816fa6224594e71540722bf31854ba11f3943a77de50e81485ba",
   "display_name": "Python 3.7.7 64-bit"
  }
 },
 "nbformat": 4,
 "nbformat_minor": 2,
 "cells": [
  {
   "source": [
    "複数のコンポジションを色々組み合わせてみる"
   ],
   "cell_type": "markdown",
   "metadata": {}
  },
  {
   "cell_type": "code",
   "execution_count": 1,
   "metadata": {},
   "outputs": [],
   "source": [
    "from pxr import Usd,Sdf"
   ]
  },
  {
   "cell_type": "code",
   "execution_count": 2,
   "metadata": {},
   "outputs": [],
   "source": [
    "stage = Usd.Stage.CreateInMemory()\n",
    "stage.Reload()\n",
    "layer = stage.GetRootLayer()"
   ]
  },
  {
   "cell_type": "code",
   "execution_count": 3,
   "metadata": {},
   "outputs": [],
   "source": [
    "# Local(そのレイヤーに定義を作る)\n",
    "prim = stage.DefinePrim(\"/DefPrim\")\n",
    "stage.SetDefaultPrim(prim)"
   ]
  },
  {
   "cell_type": "code",
   "execution_count": 4,
   "metadata": {},
   "outputs": [
    {
     "output_type": "execute_result",
     "data": {
      "text/plain": [
       "True"
      ]
     },
     "metadata": {},
     "execution_count": 4
    }
   ],
   "source": [
    "# Variantのパターンを追加\n",
    "vset = prim.GetVariantSets().AddVariantSet('hogehoge')\n",
    "vset.AddVariant('cube')\n",
    "vset.AddVariant('sphere')"
   ]
  },
  {
   "cell_type": "code",
   "execution_count": 5,
   "metadata": {},
   "outputs": [
    {
     "output_type": "execute_result",
     "data": {
      "text/plain": [
       "True"
      ]
     },
     "metadata": {},
     "execution_count": 5
    }
   ],
   "source": [
    "# Inherits用のPrimを作る\n",
    "cls = stage.CreateClassPrim(\"/basePrim\")\n",
    "cls.CreateAttribute('addClassParam',Sdf.ValueTypeNames.String).Set(\"hogehoge\")\n",
    "\n",
    "refBasePrim = stage.CreateClassPrim(\"/refBasePrim\")\n",
    "refBasePrim.CreateAttribute(\"addClassParam\",Sdf.ValueTypeNames.String).Set(\"refValue\")"
   ]
  },
  {
   "cell_type": "code",
   "execution_count": 6,
   "metadata": {},
   "outputs": [
    {
     "output_type": "stream",
     "name": "stdout",
     "text": [
      "Usd.Prim(</DefPrim>)\n"
     ]
    },
    {
     "output_type": "execute_result",
     "data": {
      "text/plain": [
       "True"
      ]
     },
     "metadata": {},
     "execution_count": 6
    }
   ],
   "source": [
    "# Variantを作る\n",
    "# Variant以下にReferenceがある場合、Vのほうが強いので\n",
    "# Variantで選んだ選択肢以下のリファレンスがコンポジションされる\n",
    "vset.SetVariantSelection('cube')\n",
    "# Variant以下にReference\n",
    "with vset.GetVariantEditContext():\n",
    "    cprim = stage.DefinePrim(prim.GetPath().AppendChild(\"cube\"))\n",
    "    cprim.GetReferences().AddReference('cube.usda')\n",
    "    cprim.GetInherits().AddInherit('/basePrim')\n",
    "\n",
    "vset.SetVariantSelection('sphere')\n",
    "# Variant以下にReference\n",
    "with vset.GetVariantEditContext():\n",
    "    cprim = stage.DefinePrim(prim.GetPath().AppendChild(\"sphere\"))\n",
    "    cprim.GetReferences().AddReference('sphere.usda')\n",
    "    cprim.GetInherits().AddInherit('/basePrim')\n",
    "\n",
    "print(prim)\n",
    "# Inherits付きのPrimを作る\n",
    "cprim = stage.DefinePrim(prim.GetPath().AppendChild(\"childA\"))\n",
    "cprim.GetInherits().AddInherit('/basePrim') \n",
    "\n",
    "cprim = stage.DefinePrim(prim.GetPath().AppendChild(\"childB\"))\n",
    "cprim.GetInherits().AddInherit('/basePrim') \n",
    "\n",
    "# ReferenceとInheritsを同時に使う\n",
    "cprim = stage.DefinePrim(prim.GetPath().AppendChild(\"childC\"))\n",
    "cprim.GetInherits().AddInherit('/basePrim') \n",
    "cprim.GetReferences().AddInternalReference(\"/refBasePrim\")"
   ]
  },
  {
   "cell_type": "code",
   "execution_count": 7,
   "metadata": {},
   "outputs": [
    {
     "output_type": "stream",
     "name": "stdout",
     "text": [
      "#usda 1.0\n(\n    defaultPrim = \"DefPrim\"\n)\n\ndef \"DefPrim\" (\n    variants = {\n        string hogehoge = \"sphere\"\n    }\n    prepend variantSets = \"hogehoge\"\n)\n{\n    def \"childA\" (\n        prepend inherits = </basePrim>\n    )\n    {\n    }\n\n    def \"childB\" (\n        prepend inherits = </basePrim>\n    )\n    {\n    }\n\n    def \"childC\" (\n        prepend inherits = </basePrim>\n        prepend references = </refBasePrim>\n    )\n    {\n    }\n    variantSet \"hogehoge\" = {\n        \"cube\" {\n            def \"cube\" (\n                prepend inherits = </basePrim>\n                prepend references = @cube.usda@\n            )\n            {\n            }\n\n        }\n        \"sphere\" {\n            def \"sphere\" (\n                prepend inherits = </basePrim>\n                prepend references = @sphere.usda@\n            )\n            {\n            }\n\n        }\n    }\n}\n\nclass \"basePrim\"\n{\n    custom string addClassParam = \"hogehoge\"\n}\n\nclass \"refBasePrim\"\n{\n    custom string addClassParam = \"refValue\"\n}\n\n\n"
     ]
    },
    {
     "output_type": "execute_result",
     "data": {
      "text/plain": [
       "True"
      ]
     },
     "metadata": {},
     "execution_count": 7
    }
   ],
   "source": [
    "print(layer.ExportToString())\n",
    "layer.Export(\"usd/baseLayer.usda\")"
   ]
  },
  {
   "cell_type": "code",
   "execution_count": 8,
   "metadata": {},
   "outputs": [
    {
     "output_type": "execute_result",
     "data": {
      "text/plain": [
       "True"
      ]
     },
     "metadata": {},
     "execution_count": 8
    }
   ],
   "source": [
    "# サブレイヤー\n",
    "subStage = Usd.Stage.CreateInMemory()\n",
    "subLayer = subStage.GetRootLayer()\n",
    "subLayer.subLayerPaths = ['usd/baseLayer.usda']\n",
    "subLayer.Export(\"usd/root.usda\")\n",
    "\n",
    "# サブレイヤーしたレイヤーでClassに対してCreateAttribute\n",
    "subPrim = subStage.GetPrimAtPath(\"/basePrim\")\n",
    "subPrim.CreateAttribute('addAttr',Sdf.ValueTypeNames.Int).Set(100)\n",
    "\n",
    "# SphereのときはOverで値を編集する\n",
    "over = subStage.OverridePrim(\"/DefPrim/sphere\")\n",
    "over.GetAttribute('addClassParam').Set('fugafuga')\n",
    "\n",
    "childB = subStage.GetPrimAtPath(\"/DefPrim/childB\")\n",
    "childB.GetAttribute('addClassParam').Set('setSubLayer')"
   ]
  },
  {
   "cell_type": "code",
   "execution_count": 9,
   "metadata": {},
   "outputs": [
    {
     "output_type": "stream",
     "name": "stdout",
     "text": [
      "#usda 1.0\n(\n    subLayers = [\n        @usd/baseLayer.usda@\n    ]\n)\n\nover \"basePrim\"\n{\n    custom int addAttr = 100\n}\n\nover \"DefPrim\"\n{\n    over \"sphere\"\n    {\n        custom string addClassParam = \"fugafuga\"\n    }\n\n    over \"childB\"\n    {\n        custom string addClassParam = \"setSubLayer\"\n    }\n}\n\n\n"
     ]
    }
   ],
   "source": [
    "print(subStage.GetRootLayer().ExportToString())"
   ]
  },
  {
   "cell_type": "code",
   "execution_count": 10,
   "metadata": {},
   "outputs": [
    {
     "output_type": "stream",
     "name": "stdout",
     "text": [
      "#usda 1.0\n(\n    doc = \"\"\"Generated from Composed Stage of root layer \n\"\"\"\n)\n\ndef \"DefPrim\"\n{\n    def Sphere \"sphere\"\n    {\n        custom int addAttr = 100\n        custom string addClassParam = \"fugafuga\"\n    }\n\n    def \"childA\"\n    {\n        custom int addAttr = 100\n        custom string addClassParam = \"hogehoge\"\n    }\n\n    def \"childB\"\n    {\n        custom int addAttr = 100\n        custom string addClassParam = \"setSubLayer\"\n    }\n\n    def \"childC\"\n    {\n        custom int addAttr = 100\n        custom string addClassParam = \"hogehoge\"\n    }\n}\n\nclass \"basePrim\"\n{\n    custom int addAttr = 100\n    custom string addClassParam = \"hogehoge\"\n}\n\nclass \"refBasePrim\"\n{\n    custom string addClassParam = \"refValue\"\n}\n\n\n"
     ]
    }
   ],
   "source": [
    "print(subStage.Flatten().ExportToString())"
   ]
  },
  {
   "cell_type": "code",
   "execution_count": 11,
   "metadata": {},
   "outputs": [
    {
     "output_type": "execute_result",
     "data": {
      "text/plain": [
       "True"
      ]
     },
     "metadata": {},
     "execution_count": 11
    }
   ],
   "source": [
    "# サブレイヤーにVariant切り替えを入れる\n",
    "v = subStage.GetPrimAtPath('/DefPrim').GetVariantSets().GetVariantSet('hogehoge')\n",
    "v.SetVariantSelection('cube')"
   ]
  },
  {
   "cell_type": "code",
   "execution_count": 12,
   "metadata": {},
   "outputs": [
    {
     "output_type": "stream",
     "name": "stdout",
     "text": [
      "#usda 1.0\n(\n    subLayers = [\n        @usd/baseLayer.usda@\n    ]\n)\n\nover \"basePrim\"\n{\n    custom int addAttr = 100\n}\n\nover \"DefPrim\" (\n    variants = {\n        string hogehoge = \"cube\"\n    }\n)\n{\n    over \"sphere\"\n    {\n        custom string addClassParam = \"fugafuga\"\n    }\n\n    over \"childB\"\n    {\n        custom string addClassParam = \"setSubLayer\"\n    }\n}\n\n\n"
     ]
    }
   ],
   "source": [
    "print(subStage.GetRootLayer().ExportToString())"
   ]
  },
  {
   "cell_type": "code",
   "execution_count": 13,
   "metadata": {},
   "outputs": [
    {
     "output_type": "stream",
     "name": "stdout",
     "text": [
      "#usda 1.0\n(\n    doc = \"\"\"Generated from Composed Stage of root layer \n\"\"\"\n)\n\ndef \"DefPrim\"\n{\n    def Cube \"cube\"\n    {\n        custom int addAttr = 100\n        custom string addClassParam = \"hogehoge\"\n    }\n\n    def \"childA\"\n    {\n        custom int addAttr = 100\n        custom string addClassParam = \"hogehoge\"\n    }\n\n    def \"childB\"\n    {\n        custom int addAttr = 100\n        custom string addClassParam = \"setSubLayer\"\n    }\n\n    def \"childC\"\n    {\n        custom int addAttr = 100\n        custom string addClassParam = \"hogehoge\"\n    }\n\n    over \"sphere\"\n    {\n        custom string addClassParam = \"fugafuga\"\n    }\n}\n\nclass \"basePrim\"\n{\n    custom int addAttr = 100\n    custom string addClassParam = \"hogehoge\"\n}\n\nclass \"refBasePrim\"\n{\n    custom string addClassParam = \"refValue\"\n}\n\n\n"
     ]
    }
   ],
   "source": [
    "print(subStage.Flatten().ExportToString())"
   ]
  }
 ]
}