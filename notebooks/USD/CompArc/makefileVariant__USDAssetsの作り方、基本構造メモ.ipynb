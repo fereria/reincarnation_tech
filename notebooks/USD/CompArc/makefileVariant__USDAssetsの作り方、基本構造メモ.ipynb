{
 "metadata": {
  "language_info": {
   "codemirror_mode": {
    "name": "ipython",
    "version": 3
   },
   "file_extension": ".py",
   "mimetype": "text/x-python",
   "name": "python",
   "nbconvert_exporter": "python",
   "pygments_lexer": "ipython3",
   "version": "3.7.7-final"
  },
  "orig_nbformat": 2,
  "kernelspec": {
   "name": "python3",
   "display_name": "Python 3.7.7 64-bit",
   "metadata": {
    "interpreter": {
     "hash": "90ad37beec7e816fa6224594e71540722bf31854ba11f3943a77de50e81485ba"
    }
   }
  }
 },
 "nbformat": 4,
 "nbformat_minor": 2,
 "cells": [
  {
   "source": [
    "USDのサンプル examples/usdMakeFileVariantModelAsset/usdMakeFIleVarinatModelAsset.py\n",
    "の中身を確認する。\n",
    "\n",
    "このサンプルはコマンドラインで実行できる。\n",
    "\n",
    "python usdMakeFileVariantModelAsset\\usdMakeFileVariantModelAsset.py  --kind model  -i D:/test.usda -v cube sphere testProps D:\\USDsample\\modelAsset\\cube.usda D:\\USDsample\\modelAsset\\sphere.usda\n",
    "\n",
    "基本構造は\n",
    "\n",
    "![](https://gyazo.com/1ae86bbb15940f345a30dbd468a968a7.png)\n",
    "\n",
    "RootPrim - Variant - Payload - <Model.usda>\n",
    "         - __class_assetName\n",
    "         \n",
    "VariantとPayloadとInheritsの組み合わせ。\n",
    "\n",
    "以下はサンプルの気になる部分の実行テスト。"
   ],
   "cell_type": "markdown",
   "metadata": {}
  },
  {
   "cell_type": "code",
   "execution_count": 1,
   "metadata": {},
   "outputs": [],
   "source": [
    "from pxr import Tf, Kind, Sdf, Usd "
   ]
  },
  {
   "cell_type": "code",
   "execution_count": 2,
   "metadata": {},
   "outputs": [
    {
     "output_type": "execute_result",
     "data": {
      "text/plain": [
       "True"
      ]
     },
     "metadata": {},
     "execution_count": 2
    }
   ],
   "source": [
    "Tf.IsValidIdentifier('sample')"
   ]
  },
  {
   "cell_type": "code",
   "execution_count": 3,
   "metadata": {},
   "outputs": [],
   "source": [
    "assetName = \"sampleData\""
   ]
  },
  {
   "cell_type": "code",
   "execution_count": 4,
   "metadata": {},
   "outputs": [],
   "source": [
    "filename = f\"D:/{assetName}.usd\""
   ]
  },
  {
   "cell_type": "code",
   "execution_count": 5,
   "metadata": {},
   "outputs": [],
   "source": [
    "layer = Sdf.Layer.CreateNew(filename,args= {'format':'usda'})"
   ]
  },
  {
   "cell_type": "code",
   "execution_count": 6,
   "metadata": {},
   "outputs": [],
   "source": [
    "stage = Usd.Stage.Open(layer)\n"
   ]
  },
  {
   "cell_type": "code",
   "execution_count": 9,
   "metadata": {},
   "outputs": [
    {
     "output_type": "stream",
     "name": "stdout",
     "text": [
      "/sampleData\n"
     ]
    }
   ],
   "source": [
    "print(rootPath.AppendChild(assetName))"
   ]
  },
  {
   "cell_type": "code",
   "execution_count": 10,
   "metadata": {},
   "outputs": [],
   "source": [
    "rootPath = Sdf.Path.absoluteRootPath\n",
    "modelRootPrim = stage.DefinePrim(rootPath.AppendChild(assetName))"
   ]
  },
  {
   "cell_type": "code",
   "execution_count": 27,
   "metadata": {},
   "outputs": [],
   "source": [
    "modelAPI = Usd.ModelAPI(modelRootPrim)"
   ]
  },
  {
   "cell_type": "code",
   "execution_count": 28,
   "metadata": {},
   "outputs": [],
   "source": [
    "# Option用のResolvePathをセットする\n",
    "# （あくまでもOptionとして使用されるもの？もの？）\n",
    "modelAPI.SetAssetIdentifier('D:/test.usda')\n",
    "# AssetPathで取得できる\n",
    "print(modelAPI.GetAssetIdentifier())\n",
    "\n",
    "modelAPI.SetAssetName(assetName)"
   ]
  },
  {
   "cell_type": "code",
   "execution_count": 39,
   "metadata": {},
   "outputs": [
    {
     "output_type": "execute_result",
     "data": {
      "text/plain": [
       "True"
      ]
     },
     "metadata": {},
     "execution_count": 39
    }
   ],
   "source": [
    "# 引数で指定したKindかどうかを判定\n",
    "modelAPI.IsKind('model')"
   ]
  },
  {
   "cell_type": "code",
   "execution_count": 40,
   "metadata": {},
   "outputs": [
    {
     "output_type": "execute_result",
     "data": {
      "text/plain": [
       "True"
      ]
     },
     "metadata": {},
     "execution_count": 40
    }
   ],
   "source": [
    "classPrim = stage.CreateClassPrim(rootPath.AppendChild(\"_class_\"+assetName))\n",
    "modelRootPrim.GetInherits().AddInherit(classPrim.GetPath())"
   ]
  },
  {
   "cell_type": "code",
   "execution_count": 42,
   "metadata": {},
   "outputs": [
    {
     "output_type": "stream",
     "name": "stdout",
     "text": [
      "#usda 1.0\n(\n    defaultPrim = \"sampleData\"\n)\n\ndef \"sampleData\" (\n    assetInfo = {\n        asset identifier = @D:/test.usda@\n    }\n    prepend inherits = </_class_sampleData>\n    kind = \"model\"\n)\n{\n}\n\nclass \"_class_sampleData\"\n{\n}\n\n\n"
     ]
    }
   ],
   "source": [
    "print(stage.GetRootLayer().ExportToString())"
   ]
  }
 ]
}