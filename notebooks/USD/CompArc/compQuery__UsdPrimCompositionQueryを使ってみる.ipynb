{
 "metadata": {
  "language_info": {
   "codemirror_mode": {
    "name": "ipython",
    "version": 3
   },
   "file_extension": ".py",
   "mimetype": "text/x-python",
   "name": "python",
   "nbconvert_exporter": "python",
   "pygments_lexer": "ipython3",
   "version": "3.7.7"
  },
  "orig_nbformat": 2,
  "kernelspec": {
   "name": "python377jvsc74a57bd090ad37beec7e816fa6224594e71540722bf31854ba11f3943a77de50e81485ba",
   "display_name": "Python 3.7.7 64-bit"
  },
  "metadata": {
   "interpreter": {
    "hash": "49fe35232215d10bb53c70fdc7953f3889c7509015122e64fa516da050a8ed66"
   }
  }
 },
 "nbformat": 4,
 "nbformat_minor": 2,
 "cells": [
  {
   "cell_type": "code",
   "execution_count": 8,
   "metadata": {},
   "outputs": [],
   "source": [
    "from pxr import Usd"
   ]
  },
  {
   "cell_type": "code",
   "execution_count": 9,
   "metadata": {},
   "outputs": [],
   "source": [
    "stage = Usd.Stage.Open(r\"D:\\Kitchen_set\\Kitchen_set.usd\")"
   ]
  },
  {
   "cell_type": "code",
   "execution_count": 10,
   "metadata": {},
   "outputs": [],
   "source": [
    "prim = stage.GetPrimAtPath(\"/Kitchen_set/Props_grp/North_grp/SinkArea_grp/Sink_grp/BowlF_3\")"
   ]
  },
  {
   "cell_type": "code",
   "execution_count": 11,
   "metadata": {},
   "outputs": [],
   "source": [
    "# PCPを使うより、かんたんにコンポジションを取得できる\n",
    "query = Usd.PrimCompositionQuery(prim)"
   ]
  },
  {
   "cell_type": "code",
   "execution_count": 12,
   "metadata": {},
   "outputs": [],
   "source": [
    "# フィルタをかけてコンポジションを取得@リファレンスの場合\n",
    "filter = Usd.PrimCompositionQuery.Filter()\n",
    "filter.arcTypeFilter = Usd.PrimCompositionQuery.ArcTypeFilter.Variant # Variant / Payload でも可 デフォルトはAllになっている\n",
    "query = Usd.PrimCompositionQuery(prim,filter)"
   ]
  },
  {
   "cell_type": "code",
   "execution_count": 13,
   "metadata": {},
   "outputs": [
    {
     "output_type": "stream",
     "name": "stdout",
     "text": [
      "<pxr.Usd.Filter object at 0x000002297BC323F0>\n"
     ]
    }
   ],
   "source": [
    "# Filterを取得したい場合\n",
    "print(query.filter)"
   ]
  },
  {
   "cell_type": "code",
   "execution_count": 14,
   "metadata": {},
   "outputs": [],
   "source": [
    "# これでもOK\n",
    "query = Usd.PrimCompositionQuery.GetDirectReferences(prim)"
   ]
  },
  {
   "cell_type": "code",
   "execution_count": 15,
   "metadata": {},
   "outputs": [
    {
     "output_type": "stream",
     "name": "stdout",
     "text": [
      "[<pxr.Usd.CompositionArc object at 0x000002297B9E37B0>, <pxr.Usd.CompositionArc object at 0x000002297BC092B0>]\nTrue\nPcp.ArcTypeReference\n/Kitchen_set/Props_grp/North_grp/SinkArea_grp/Sink_grp/BowlF_3\n(<pxr.Sdf.ListEditorProxy_SdfReferenceTypePolicy object at 0x000002297BC32510>, Sdf.Reference('./assets/Bowl/Bowl.usd'))\nSdf.Find('d:/Kitchen_set/Kitchen_set.usd')\nTrue\n{ 'added': [SdfReference(./assets/Bowl/Bowl.usd, , SdfLayerOffset(0, 1), {})]'prepended': []'appended': [], 'deleted': [], 'ordered': [] }\n---\nTrue\nPcp.ArcTypeReference\n/Bowl\n(<pxr.Sdf.ListEditorProxy_SdfReferenceTypePolicy object at 0x000002297BC32810>, Sdf.Reference('./Bowl.geom.usd', Sdf.Path('/Bowl')))\nSdf.Find('d:/Kitchen_set/assets/Bowl/Bowl_payload.usd')\nFalse\n{ 'added': [SdfReference(./Bowl.geom.usd, /Bowl, SdfLayerOffset(0, 1), {})]'prepended': []'appended': [], 'deleted': [], 'ordered': [] }\n---\n"
     ]
    }
   ],
   "source": [
    "# コンポジションを取得\n",
    "# PrimConpositionQueryに指定したfilterに一致したコンポジションを取得できる\n",
    "compArc = query.GetCompositionArcs()\n",
    "print(compArc)\n",
    "for comp in compArc:\n",
    "    print(comp.HasSpecs())\n",
    "    print(comp.GetArcType())\n",
    "    print(comp.GetIntroducingPrimPath())\n",
    "    print(comp.GetIntroducingListEditor())\n",
    "    print(comp.GetIntroducingLayer())\n",
    "    print(comp.IsIntroducedInRootLayerStack())\n",
    "    print(comp.GetIntroducingListEditor()[0])\n",
    "    print(\"---\")"
   ]
  },
  {
   "cell_type": "code",
   "execution_count": 16,
   "metadata": {},
   "outputs": [],
   "source": [
    "filter.hasSpecsFilter = Usd.PrimCompositionQuery.HasSpecsFilter.HasSpecs"
   ]
  },
  {
   "cell_type": "code",
   "execution_count": 19,
   "metadata": {},
   "outputs": [],
   "source": [
    "arc = compArc[0]"
   ]
  },
  {
   "cell_type": "code",
   "execution_count": 21,
   "metadata": {},
   "outputs": [
    {
     "output_type": "stream",
     "name": "stdout",
     "text": [
      "<pxr.Pcp.NodeRef object at 0x000002297C7040F0>\n"
     ]
    }
   ],
   "source": [
    "# \n",
    "print(arc.GetIntroducingNode())"
   ]
  },
  {
   "cell_type": "code",
   "execution_count": 22,
   "metadata": {},
   "outputs": [
    {
     "output_type": "stream",
     "name": "stdout",
     "text": [
      "True\n"
     ]
    }
   ],
   "source": [
    "print(arc.HasSpecs())"
   ]
  },
  {
   "cell_type": "code",
   "execution_count": null,
   "metadata": {},
   "outputs": [],
   "source": []
  }
 ]
}