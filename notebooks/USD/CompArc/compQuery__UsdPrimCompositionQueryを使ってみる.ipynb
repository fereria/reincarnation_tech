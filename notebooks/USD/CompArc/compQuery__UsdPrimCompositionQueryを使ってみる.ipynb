{
 "metadata": {
  "language_info": {
   "codemirror_mode": {
    "name": "ipython",
    "version": 3
   },
   "file_extension": ".py",
   "mimetype": "text/x-python",
   "name": "python",
   "nbconvert_exporter": "python",
   "pygments_lexer": "ipython3",
   "version": "3.7.7-final"
  },
  "orig_nbformat": 2,
  "kernelspec": {
   "name": "python377jvsc74a57bd0cb837dae3ab9e0cb724b9f3e94530b81b827fd86d405a4c31977fb81e37f6a70",
   "display_name": "Python 3.7.7 64-bit ('py37': pipenv)"
  }
 },
 "nbformat": 4,
 "nbformat_minor": 2,
 "cells": [
  {
   "cell_type": "code",
   "execution_count": 98,
   "metadata": {},
   "outputs": [],
   "source": [
    "from pxr import Usd"
   ]
  },
  {
   "cell_type": "code",
   "execution_count": 99,
   "metadata": {},
   "outputs": [],
   "source": [
    "stage = Usd.Stage.Open(r\"D:\\Kitchen_set\\Kitchen_set.usd\")"
   ]
  },
  {
   "cell_type": "code",
   "execution_count": 100,
   "metadata": {},
   "outputs": [],
   "source": [
    "prim = stage.GetPrimAtPath(\"/Kitchen_set/Props_grp/North_grp/SinkArea_grp/Sink_grp/BowlF_3\")"
   ]
  },
  {
   "cell_type": "code",
   "execution_count": 101,
   "metadata": {},
   "outputs": [],
   "source": [
    "# PCPを使うより、かんたんにコンポジションを取得できる\n",
    "query = Usd.PrimCompositionQuery(prim)"
   ]
  },
  {
   "cell_type": "code",
   "execution_count": 102,
   "metadata": {},
   "outputs": [],
   "source": [
    "# フィルタをかけてコンポジションを取得@リファレンスの場合\n",
    "filter = Usd.PrimCompositionQuery.Filter()\n",
    "filter.arcTypeFilter = Usd.PrimCompositionQuery.ArcTypeFilter.Reference # Variant / Payload でも可 デフォルトはAllになっている\n",
    "query = Usd.PrimCompositionQuery(prim,filter)"
   ]
  },
  {
   "cell_type": "code",
   "execution_count": 103,
   "metadata": {},
   "outputs": [],
   "source": [
    "# これでもOK\n",
    "query = Usd.PrimCompositionQuery.GetDirectReferences(prim)"
   ]
  },
  {
   "cell_type": "code",
   "execution_count": 104,
   "metadata": {},
   "outputs": [
    {
     "output_type": "stream",
     "name": "stdout",
     "text": [
      "True\nPcp.ArcTypeReference\n/Kitchen_set/Props_grp/North_grp/SinkArea_grp/Sink_grp/BowlF_3\n(<pxr.Sdf.ListEditorProxy_SdfReferenceTypePolicy object at 0x0000013E4AF2C0F0>, Sdf.Reference('./assets/Bowl/Bowl.usd'))\nSdf.Find('d:/Kitchen_set/Kitchen_set.usd')\nTrue\n{ 'added': [SdfReference(./assets/Bowl/Bowl.usd, , SdfLayerOffset(0, 1), {})]'prepended': []'appended': [], 'deleted': [], 'ordered': [] }\n---\nTrue\nPcp.ArcTypeReference\n/Bowl\n(<pxr.Sdf.ListEditorProxy_SdfReferenceTypePolicy object at 0x0000013E4AF2C510>, Sdf.Reference('./Bowl.geom.usd', Sdf.Path('/Bowl')))\nSdf.Find('d:/Kitchen_set/assets/Bowl/Bowl_payload.usd')\nFalse\n{ 'added': [SdfReference(./Bowl.geom.usd, /Bowl, SdfLayerOffset(0, 1), {})]'prepended': []'appended': [], 'deleted': [], 'ordered': [] }\n---\n"
     ]
    }
   ],
   "source": [
    "# コンポジションを取得\n",
    "compArc = query.GetCompositionArcs()\n",
    "for comp in compArc:\n",
    "    print(comp.HasSpecs())\n",
    "    print(comp.GetArcType())\n",
    "    print(comp.GetIntroducingPrimPath())\n",
    "    print(comp.GetIntroducingListEditor())\n",
    "    print(comp.GetIntroducingLayer())\n",
    "    print(comp.IsIntroducedInRootLayerStack())\n",
    "    print(comp.GetIntroducingListEditor()[0])\n",
    "    print(\"---\")"
   ]
  }
 ]
}