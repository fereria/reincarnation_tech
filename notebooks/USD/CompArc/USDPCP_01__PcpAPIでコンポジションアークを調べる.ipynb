{
 "metadata": {
  "language_info": {
   "codemirror_mode": {
    "name": "ipython",
    "version": 3
   },
   "file_extension": ".py",
   "mimetype": "text/x-python",
   "name": "python",
   "nbconvert_exporter": "python",
   "pygments_lexer": "ipython3",
   "version": "3.6.6-final"
  },
  "orig_nbformat": 2,
  "kernelspec": {
   "name": "python36664bit52da8c2d8c6345ba856daddd257a1045",
   "display_name": "Python 3.6.6 64-bit"
  }
 },
 "nbformat": 4,
 "nbformat_minor": 2,
 "cells": [
  {
   "cell_type": "code",
   "execution_count": 2,
   "metadata": {},
   "outputs": [],
   "source": [
    "from pxr import Usd,Pcp"
   ]
  },
  {
   "cell_type": "code",
   "execution_count": 3,
   "metadata": {},
   "outputs": [],
   "source": [
    "stage = Usd.Stage.Open(r\"D:\\Kitchen_set\\Kitchen_set.usd\")"
   ]
  },
  {
   "cell_type": "code",
   "execution_count": 4,
   "metadata": {},
   "outputs": [
    {
     "output_type": "stream",
     "name": "stdout",
     "text": [
      "<pxr.Pcp.NodeRef object at 0x00000252D7561608>\n"
     ]
    }
   ],
   "source": [
    "# PrimからIndexを取得し、PcpNodeRefを取得する\n",
    "prim = stage.GetPrimAtPath(\"/Kitchen_set/Props_grp/North_grp/FridgeArea_grp/Refridgerator_1\")\n",
    "index = prim.GetPrimIndex()\n",
    "rootRef = index.rootNode\n",
    "print(rootRef)"
   ]
  },
  {
   "cell_type": "code",
   "execution_count": 30,
   "metadata": {},
   "outputs": [
    {
     "output_type": "stream",
     "name": "stdout",
     "text": [
      "Sdf.Find('d:/Kitchen_set/Kitchen_set.usd')\nSdf.LayerOffset()\n"
     ]
    }
   ],
   "source": [
    "layerTree = layerStack.layerTree\n",
    "# subLayerも木構造を取得できる\n",
    "def traverse(node):\n",
    "    print(node.layer)\n",
    "    print(node.offset)\n",
    "    for child in node.childTrees:\n",
    "        print(child)\n",
    "traverse(layerTree)"
   ]
  },
  {
   "cell_type": "code",
   "execution_count": 31,
   "metadata": {},
   "outputs": [
    {
     "output_type": "stream",
     "name": "stdout",
     "text": [
      "Sdf.Find('d:/Kitchen_set/Kitchen_set.usd')\n"
     ]
    }
   ],
   "source": [
    "# identifier経由でLayerを取得する場合\n",
    "identifier = layerStack.identifier\n",
    "print(identifier.rootLayer)"
   ]
  },
  {
   "cell_type": "code",
   "execution_count": 16,
   "metadata": {},
   "outputs": [
    {
     "output_type": "stream",
     "name": "stdout",
     "text": [
      "(['Geom'], [])\n['xformOp:translate', 'xformOpOrder']\n[]\nTrue\n"
     ]
    }
   ],
   "source": [
    "# PrimIndexのPrimの子Prim,Propertyを取得\n",
    "print(index.ComputePrimChildNames())\n",
    "print(index.ComputePrimPropertyNames())\n",
    "print(index.primStack)\n",
    "print(index.hasAnyPayloads)"
   ]
  },
  {
   "cell_type": "code",
   "execution_count": 12,
   "metadata": {},
   "outputs": [
    {
     "output_type": "stream",
     "name": "stdout",
     "text": [
      "Help on PrimIndex in module pxr.Pcp object:\n\nclass PrimIndex(Boost.Python.instance)\n |  Method resolution order:\n |      PrimIndex\n |      Boost.Python.instance\n |      builtins.object\n |  \n |  Methods defined here:\n |  \n |  ComposeAuthoredVariantSelections(...)\n |  \n |  ComputePrimChildNames(...)\n |  \n |  ComputePrimPropertyNames(...)\n |  \n |  DumpToDotGraph(...)\n |  \n |  DumpToString(...)\n |  \n |  GetSelectionAppliedForVariantSet(...)\n |  \n |  IsInstanceable(...)\n |  \n |  IsValid(...)\n |  \n |  PrintStatistics(...)\n |  \n |  __init__(...)\n |      Raises an exception\n |      This class cannot be instantiated from Python\n |  \n |  __reduce__ = <unnamed Boost.Python function>(...)\n |  \n |  ----------------------------------------------------------------------\n |  Data descriptors defined here:\n |  \n |  hasAnyPayloads\n |  \n |  localErrors\n |  \n |  primStack\n |  \n |  rootNode\n |  \n |  ----------------------------------------------------------------------\n |  Methods inherited from Boost.Python.instance:\n |  \n |  __new__(*args, **kwargs) from Boost.Python.class\n |      Create and return a new object.  See help(type) for accurate signature.\n |  \n |  ----------------------------------------------------------------------\n |  Data descriptors inherited from Boost.Python.instance:\n |  \n |  __dict__\n |  \n |  __weakref__\n\n"
     ]
    }
   ],
   "source": [
    "help(index)"
   ]
  },
  {
   "cell_type": "code",
   "execution_count": 6,
   "metadata": {},
   "outputs": [],
   "source": [
    "# EditTarget取得してTargetLayerに指定する\n",
    "et = Usd.EditTarget(rootRef.layerStack.layers[0],rootRef)\n",
    "stage.SetEditTarget(et)"
   ]
  },
  {
   "cell_type": "code",
   "execution_count": 44,
   "metadata": {},
   "outputs": [
    {
     "output_type": "stream",
     "name": "stdout",
     "text": [
      "Pcp.ArcTypeRoot\n/Kitchen_set/Props_grp/North_grp/FridgeArea_grp/Refridgerator_1\n@d:/Kitchen_set/Kitchen_set.usd@,@anon:0000027614F5B360:Kitchen_set-session.usda@</Kitchen_set/Props_grp/North_grp/FridgeArea_grp/Refridgerator_1>\n<pxr.Pcp.NodeRef object at 0x00000276493A73A0>\nSdf.Find('anon:0000027614F5B360:Kitchen_set-session.usda')\nPcp.ArcTypeReference\n/Refridgerator\n@d:/Kitchen_set/assets/Refridgerator/Refridgerator.usd@</Refridgerator>\n<pxr.Pcp.NodeRef object at 0x00000276493A71E8>\nSdf.Find('d:/Kitchen_set/assets/Refridgerator/Refridgerator.usd')\nPcp.ArcTypeVariant\n/Refridgerator{modelingVariant=Decorated}\n@d:/Kitchen_set/assets/Refridgerator/Refridgerator.usd@</Refridgerator{modelingVariant=Decorated}>\n<pxr.Pcp.NodeRef object at 0x00000276493A7920>\nSdf.Find('d:/Kitchen_set/assets/Refridgerator/Refridgerator.usd')\nPcp.ArcTypePayload\n/Refridgerator\n@d:/Kitchen_set/assets/Refridgerator/Refridgerator_payload.usd@</Refridgerator>\n<pxr.Pcp.NodeRef object at 0x00000276493A7920>\nSdf.Find('d:/Kitchen_set/assets/Refridgerator/Refridgerator_payload.usd')\nPcp.ArcTypeReference\n/Refridgerator\n@d:/Kitchen_set/assets/Refridgerator/Refridgerator.geom.usd@</Refridgerator>\n<pxr.Pcp.NodeRef object at 0x00000276493A7710>\nSdf.Find('d:/Kitchen_set/assets/Refridgerator/Refridgerator.geom.usd')\nPcp.ArcTypeVariant\n/Refridgerator{modelingVariant=Decorated}\n@d:/Kitchen_set/assets/Refridgerator/Refridgerator.geom.usd@</Refridgerator{modelingVariant=Decorated}>\n<pxr.Pcp.NodeRef object at 0x0000027648AEAFA8>\nSdf.Find('d:/Kitchen_set/assets/Refridgerator/Refridgerator.geom.usd')\n"
     ]
    }
   ],
   "source": [
    "# コンポジションを再帰で検索\n",
    "def traverse(node):\n",
    "    # コンポジションタイプ\n",
    "    print(node.arcType) #CompositionArc\n",
    "    print(node.path) #SdfPath\n",
    "    print(node.site) #Layer + SdfPath\n",
    "    print(node.GetRootNode()) # RootNode\n",
    "    layer = node.layerStack.layers[0] # Layer取得\n",
    "    print(layer)\n",
    "    for child in node.children:\n",
    "        traverse(child)\n",
    "traverse(rootRef)"
   ]
  },
  {
   "cell_type": "code",
   "execution_count": 21,
   "metadata": {},
   "outputs": [],
   "source": [
    "# PcpNodeRefをGraphvizでビジュアライズ\n",
    "index.DumpToDotGraph(\"D:/test.dot\")"
   ]
  },
  {
   "source": [
    "![](https://gyazo.com/5f2f50f295856a245262f85d87f65e9f.png)"
   ],
   "cell_type": "markdown",
   "metadata": {}
  },
  {
   "cell_type": "code",
   "execution_count": 30,
   "metadata": {},
   "outputs": [
    {
     "output_type": "stream",
     "name": "stdout",
     "text": [
      "Node 0:\n    Parent node:              NONE\n    Type:                     root\n    DependencyType:           root\n    Source path:              </Kitchen_set/Props_grp/North_grp/FridgeArea_grp/Refridgerator_1>\n    Source layer stack:       @d:/Kitchen_set/Kitchen_set.usd@,@anon:0000027614F5B360:Kitchen_set-session.usda@\n    Target path:              <NONE>\n    Target layer stack:       NONE\n    Map to parent:\n        / -> /\n    Map to root:\n        / -> /\n    Namespace depth:          0\n    Depth below introduction: 0\n    Permission:               Public\n    Is restricted:            FALSE\n    Is inert:                 FALSE\n    Contribute specs:         TRUE\n    Has specs:                TRUE\n    Has symmetry:             FALSE\nNode 1:\n    Parent node:              0\n    Type:                     reference\n    DependencyType:           non-virtual, purely-direct\n    Source path:              </Refridgerator>\n    Source layer stack:       @d:/Kitchen_set/assets/Refridgerator/Refridgerator.usd@\n    Target path:              </Kitchen_set/Props_grp/North_grp/FridgeArea_grp/Refridgerator_1>\n    Target layer stack:       @d:/Kitchen_set/Kitchen_set.usd@,@anon:0000027614F5B360:Kitchen_set-session.usda@\n    Map to parent:\n        /Refridgerator -> /Kitchen_set/Props_grp/North_grp/FridgeArea_grp/Refridgerator_1\n    Map to root:\n        /Refridgerator -> /Kitchen_set/Props_grp/North_grp/FridgeArea_grp/Refridgerator_1\n    Namespace depth:          5\n    Depth below introduction: 0\n    Permission:               Public\n    Is restricted:            FALSE\n    Is inert:                 FALSE\n    Contribute specs:         TRUE\n    Has specs:                TRUE\n    Has symmetry:             FALSE\nNode 2:\n    Parent node:              1\n    Type:                     variant\n    DependencyType:           non-virtual, purely-direct\n    Source path:              </Refridgerator{modelingVariant=Decorated}>\n    Source layer stack:       @d:/Kitchen_set/assets/Refridgerator/Refridgerator.usd@\n    Target path:              </Refridgerator>\n    Target layer stack:       @d:/Kitchen_set/assets/Refridgerator/Refridgerator.usd@\n    Map to parent:\n        / -> /\n    Map to root:\n        /Refridgerator -> /Kitchen_set/Props_grp/North_grp/FridgeArea_grp/Refridgerator_1\n    Namespace depth:          1\n    Depth below introduction: 0\n    Permission:               Public\n    Is restricted:            FALSE\n    Is inert:                 FALSE\n    Contribute specs:         TRUE\n    Has specs:                TRUE\n    Has symmetry:             FALSE\n\nNode 3:\n    Parent node:              1\n    Type:                     payload\n    DependencyType:           non-virtual, purely-direct\n    Source path:              </Refridgerator>\n    Source layer stack:       @d:/Kitchen_set/assets/Refridgerator/Refridgerator_payload.usd@\n    Target path:              </Refridgerator>\n    Target layer stack:       @d:/Kitchen_set/assets/Refridgerator/Refridgerator.usd@\n    Map to parent:\n        /Refridgerator -> /Refridgerator\n    Map to root:\n        /Refridgerator -> /Kitchen_set/Props_grp/North_grp/FridgeArea_grp/Refridgerator_1\n    Namespace depth:          1\n    Depth below introduction: 0\n    Permission:               Public\n    Is restricted:            FALSE\n    Is inert:                 FALSE\n    Contribute specs:         TRUE\n    Has specs:                TRUE\n    Has symmetry:             FALSE\nNode 4:\n    Parent node:              3\n    Type:                     reference\n    DependencyType:           non-virtual, purely-direct\n    Source path:              </Refridgerator>\n    Source layer stack:       @d:/Kitchen_set/assets/Refridgerator/Refridgerator.geom.usd@\n    Target path:              </Refridgerator>\n    Target layer stack:       @d:/Kitchen_set/assets/Refridgerator/Refridgerator_payload.usd@\n    Map to parent:\n        /Refridgerator -> /Refridgerator\n    Map to root:\n        /Refridgerator -> /Kitchen_set/Props_grp/North_grp/FridgeArea_grp/Refridgerator_1\n    Namespace depth:          1\n    Depth below introduction: 0\n    Permission:               Public\n    Is restricted:            FALSE\n    Is inert:                 FALSE\n    Contribute specs:         TRUE\n    Has specs:                TRUE\n    Has symmetry:             FALSE\nNode 5:\n    Parent node:              4\n    Type:                     variant\n    DependencyType:           non-virtual, purely-direct\n    Source path:              </Refridgerator{modelingVariant=Decorated}>\n    Source layer stack:       @d:/Kitchen_set/assets/Refridgerator/Refridgerator.geom.usd@\n    Target path:              </Refridgerator>\n    Target layer stack:       @d:/Kitchen_set/assets/Refridgerator/Refridgerator.geom.usd@\n    Map to parent:\n        / -> /\n    Map to root:\n        /Refridgerator -> /Kitchen_set/Props_grp/North_grp/FridgeArea_grp/Refridgerator_1\n    Namespace depth:          1\n    Depth below introduction: 0\n    Permission:               Public\n    Is restricted:            FALSE\n    Is inert:                 FALSE\n    Contribute specs:         TRUE\n    Has specs:                TRUE\n    Has symmetry:             FALSE\n\n\n\n\n\n\n"
     ]
    }
   ],
   "source": [
    "# PcpNdoeRefをテキストでDump\n",
    "print(index.DumpToString())"
   ]
  }
 ]
}