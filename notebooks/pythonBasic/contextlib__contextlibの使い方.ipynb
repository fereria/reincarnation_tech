{
 "cells": [
  {
   "cell_type": "code",
   "execution_count": null,
   "metadata": {},
   "outputs": [],
   "source": [
    "contextmanagerはデコレーターを with を使用して書けるようにできるしろもの。"
   ]
  },
  {
   "cell_type": "code",
   "execution_count": 1,
   "metadata": {},
   "outputs": [],
   "source": [
    "from contextlib import contextmanager"
   ]
  },
  {
   "cell_type": "code",
   "execution_count": 7,
   "metadata": {},
   "outputs": [],
   "source": [
    "@contextmanager\n",
    "def sample(*args,**kwargs):\n",
    "    print('start')\n",
    "    yield\n",
    "    print('end')"
   ]
  },
  {
   "cell_type": "code",
   "execution_count": 8,
   "metadata": {},
   "outputs": [
    {
     "name": "stdout",
     "output_type": "stream",
     "text": [
      "start\n",
      "hoge\n",
      "end\n"
     ]
    }
   ],
   "source": [
    "with sample() as f:\n",
    "    print(\"hoge\")"
   ]
  },
  {
   "cell_type": "code",
   "execution_count": 10,
   "metadata": {},
   "outputs": [],
   "source": [
    "@contextmanager\n",
    "def _Stream(path, *args, **kwargs):\n",
    "    if path == '-':\n",
    "        yield sys.stdout\n",
    "    else:\n",
    "        with open(path, *args, **kwargs) as fp:\n",
    "            yield fp\n",
    "            \n",
    "def _Print(stream, msg):\n",
    "    print(msg, file=stream)"
   ]
  },
  {
   "cell_type": "code",
   "execution_count": 12,
   "metadata": {},
   "outputs": [
    {
     "name": "stdout",
     "output_type": "stream",
     "text": [
      "hoge\n"
     ]
    }
   ],
   "source": [
    "# 指定パス以下にテキストを書き出す\n",
    "with _Stream(\"D:/sample.txt\",'w') as f:\n",
    "    _Print(f,'sample')"
   ]
  },
  {
   "cell_type": "code",
   "execution_count": 14,
   "metadata": {},
   "outputs": [
    {
     "name": "stdout",
     "output_type": "stream",
     "text": [
      "hoge\n",
      "Hello World!!\n"
     ]
    }
   ],
   "source": [
    "with _Stream(\"-\") as f:\n",
    "    _Print(f,\"hoge\")\n",
    "    _Print(f,\"Hello World!!\")"
   ]
  }
 ],
 "metadata": {
  "interpreter": {
   "hash": "90ad37beec7e816fa6224594e71540722bf31854ba11f3943a77de50e81485ba"
  },
  "kernelspec": {
   "display_name": "Python 3.7.7 64-bit",
   "language": "python",
   "name": "python3"
  },
  "language_info": {
   "codemirror_mode": {
    "name": "ipython",
    "version": 3
   },
   "file_extension": ".py",
   "mimetype": "text/x-python",
   "name": "python",
   "nbconvert_exporter": "python",
   "pygments_lexer": "ipython3",
   "version": "3.7.7"
  },
  "orig_nbformat": 4
 },
 "nbformat": 4,
 "nbformat_minor": 2
}
